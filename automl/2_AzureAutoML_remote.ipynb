{
 "cells": [
  {
   "cell_type": "markdown",
   "metadata": {
    "slideshow": {
     "slide_type": "slide"
    }
   },
   "source": [
    "# AutoML model\n",
    "\n",
    "In this notebook, we demonstrate how to:\n",
    "- prepare time series data for training a forecasting model using an automated ML model builder\n",
    "- Creating an Experiment using an existing Workspace\n",
    "- Configure AutoML using 'AutoMLConfig'\n",
    "- Train the model on local compute \n",
    "- Explore the engineered features and results\n",
    "- Configuration and run AutoML for a time-series model with lag and rolling window features\n",
    "- Run and explore the forecast\n",
    "- evaluate the model on a test dataset\n",
    "\n",
    "The data in this example is taken from the GEFCom2014 forecasting competition<sup>1</sup>. It consists of 3 years of hourly electricity load and temperature values between 2012 and 2014. The task is to forecast future values of electricity load. In this example, we show how to forecast one time step ahead, using historical load and temperature data only.\n",
    "\n",
    "This notebook is based on the energy forecasting notebook provided [here](https://github.com/Azure/MachineLearningNotebooks/blob/master/how-to-use-azureml/automated-machine-learning/forecasting-energy-demand/auto-ml-forecasting-energy-demand.ipynb).\n",
    "\n",
    "<sup>1</sup>Tao Hong, Pierre Pinson, Shu Fan, Hamidreza Zareipour, Alberto Troccoli and Rob J. Hyndman, \"Probabilistic energy forecasting: Global Energy Forecasting Competition 2014 and beyond\", International Journal of Forecasting, vol.32, no.3, pp 896-913, July-September, 2016."
   ]
  },
  {
   "cell_type": "markdown",
   "metadata": {
    "slideshow": {
     "slide_type": "slide"
    }
   },
   "source": [
    "## Imports\n",
    "We start with the usual imports and settings"
   ]
  },
  {
   "cell_type": "code",
   "execution_count": 1,
   "metadata": {
    "slideshow": {
     "slide_type": "-"
    }
   },
   "outputs": [],
   "source": [
    "import sys\n",
    "sys.path.append('..')\n",
    "\n",
    "import matplotlib.pyplot as plt\n",
    "%matplotlib inline\n",
    "\n",
    "import pandas as pd\n",
    "pd.options.display.float_format = '{:,.2f}'.format\n",
    "\n",
    "import numpy as np\n",
    "np.set_printoptions(precision=2)\n",
    "\n",
    "# Squash warning messages for cleaner output in the notebook\n",
    "import warnings\n",
    "warnings.showwarning = lambda *args, **kwargs: None\n",
    "warnings.filterwarnings(\"ignore\")"
   ]
  },
  {
   "cell_type": "markdown",
   "metadata": {
    "slideshow": {
     "slide_type": "slide"
    }
   },
   "source": [
    "## Data\n",
    "Load the data from csv into a Pandas dataframe. Make sure to first complete the [0_data_setup](../0_data_setup.ipynb) notebook."
   ]
  },
  {
   "cell_type": "code",
   "execution_count": 2,
   "metadata": {
    "slideshow": {
     "slide_type": "-"
    }
   },
   "outputs": [
    {
     "data": {
      "text/html": [
       "<div>\n",
       "<style scoped>\n",
       "    .dataframe tbody tr th:only-of-type {\n",
       "        vertical-align: middle;\n",
       "    }\n",
       "\n",
       "    .dataframe tbody tr th {\n",
       "        vertical-align: top;\n",
       "    }\n",
       "\n",
       "    .dataframe thead th {\n",
       "        text-align: right;\n",
       "    }\n",
       "</style>\n",
       "<table border=\"1\" class=\"dataframe\">\n",
       "  <thead>\n",
       "    <tr style=\"text-align: right;\">\n",
       "      <th></th>\n",
       "      <th>load</th>\n",
       "      <th>temp</th>\n",
       "    </tr>\n",
       "  </thead>\n",
       "  <tbody>\n",
       "    <tr>\n",
       "      <th>2012-01-01 00:00:00</th>\n",
       "      <td>2,698.00</td>\n",
       "      <td>32.00</td>\n",
       "    </tr>\n",
       "    <tr>\n",
       "      <th>2012-01-01 01:00:00</th>\n",
       "      <td>2,558.00</td>\n",
       "      <td>32.67</td>\n",
       "    </tr>\n",
       "    <tr>\n",
       "      <th>2012-01-01 02:00:00</th>\n",
       "      <td>2,444.00</td>\n",
       "      <td>30.00</td>\n",
       "    </tr>\n",
       "    <tr>\n",
       "      <th>2012-01-01 03:00:00</th>\n",
       "      <td>2,402.00</td>\n",
       "      <td>31.00</td>\n",
       "    </tr>\n",
       "    <tr>\n",
       "      <th>2012-01-01 04:00:00</th>\n",
       "      <td>2,403.00</td>\n",
       "      <td>32.00</td>\n",
       "    </tr>\n",
       "  </tbody>\n",
       "</table>\n",
       "</div>"
      ],
      "text/plain": [
       "                        load  temp\n",
       "2012-01-01 00:00:00 2,698.00 32.00\n",
       "2012-01-01 01:00:00 2,558.00 32.67\n",
       "2012-01-01 02:00:00 2,444.00 30.00\n",
       "2012-01-01 03:00:00 2,402.00 31.00\n",
       "2012-01-01 04:00:00 2,403.00 32.00"
      ]
     },
     "execution_count": 2,
     "metadata": {},
     "output_type": "execute_result"
    }
   ],
   "source": [
    "import os\n",
    "\n",
    "file_name = os.path.join('../data', 'energy.parquet')\n",
    "energy = pd.read_parquet(file_name)\n",
    "energy.head()"
   ]
  },
  {
   "cell_type": "markdown",
   "metadata": {
    "slideshow": {
     "slide_type": "slide"
    }
   },
   "source": [
    "## Create train, validation and test sets\n",
    "\n",
    "We separate our dataset into train, validation and test sets. We train the model on the train set. The validation set is used to evaluate the model after each training epoch and ensure that the model is not overfitting the training data. After the model has finished training, we evaluate the model on the test set. We must ensure that the validation set and test set cover a later period in time from the training set, to ensure that the model does not gain from information from future time periods.\n",
    "\n",
    "We will allocate data as follows:\n",
    "* November 1, 2014 to December 31, 2014:  **test** set. \n",
    "* September 1, 2014 to October 31, 2014:  **validation** set. \n",
    "* Everything up to August 31, 2014: **training** set."
   ]
  },
  {
   "cell_type": "code",
   "execution_count": 3,
   "metadata": {
    "slideshow": {
     "slide_type": "fragment"
    }
   },
   "outputs": [],
   "source": [
    "valid_start_dt = '2014-08-31 23:59:59'\n",
    "test_start_dt = '2014-10-31 23:59:59'"
   ]
  },
  {
   "cell_type": "markdown",
   "metadata": {
    "slideshow": {
     "slide_type": "slide"
    }
   },
   "source": [
    "## Data preparation - training set\n",
    "\n",
    "AutoML takes care of a lot of the details. We simply need to prepare a Pandas DataFrame for each of Train, Test, and Validation.\n",
    "\n",
    "*HORIZON=1* specifies that we have a forecasting horizon of 1 (*t+1*)"
   ]
  },
  {
   "cell_type": "code",
   "execution_count": 4,
   "metadata": {
    "slideshow": {
     "slide_type": "-"
    }
   },
   "outputs": [],
   "source": [
    "HORIZON = 1"
   ]
  },
  {
   "cell_type": "markdown",
   "metadata": {
    "slideshow": {
     "slide_type": "-"
    }
   },
   "source": [
    "Our data preparation for the training set will involve the following steps:\n",
    "\n",
    "1. Create a time column from the index\n",
    "2. Filter the original dataset to include only that time period reserved for the training set\n",
    "3. Drop rown with missing values "
   ]
  },
  {
   "cell_type": "markdown",
   "metadata": {
    "slideshow": {
     "slide_type": "slide"
    }
   },
   "source": [
    "### 1. Add time column"
   ]
  },
  {
   "cell_type": "code",
   "execution_count": 5,
   "metadata": {
    "slideshow": {
     "slide_type": "-"
    }
   },
   "outputs": [],
   "source": [
    "energy['timestamp'] = energy.index"
   ]
  },
  {
   "cell_type": "markdown",
   "metadata": {
    "slideshow": {
     "slide_type": "fragment"
    }
   },
   "source": [
    "### 2. Filter the original dataset to include only that time period reserved for each set\n",
    "Create training, test and validations sets"
   ]
  },
  {
   "cell_type": "code",
   "execution_count": 6,
   "metadata": {
    "slideshow": {
     "slide_type": "-"
    }
   },
   "outputs": [],
   "source": [
    "ds_train = energy[:valid_start_dt].copy()\n",
    "ds_valid = energy[valid_start_dt:test_start_dt].copy()\n",
    "ds_test = energy[test_start_dt:].copy()"
   ]
  },
  {
   "cell_type": "markdown",
   "metadata": {
    "slideshow": {
     "slide_type": "subslide"
    }
   },
   "source": [
    "Verify that the series are continuous."
   ]
  },
  {
   "cell_type": "code",
   "execution_count": 7,
   "metadata": {
    "slideshow": {
     "slide_type": "-"
    }
   },
   "outputs": [
    {
     "name": "stdout",
     "output_type": "stream",
     "text": [
      "                        load  temp           timestamp\n",
      "2014-08-31 19:00:00 3,969.00 74.67 2014-08-31 19:00:00\n",
      "2014-08-31 20:00:00 3,869.00 74.00 2014-08-31 20:00:00\n",
      "2014-08-31 21:00:00 3,643.00 73.00 2014-08-31 21:00:00\n",
      "2014-08-31 22:00:00 3,365.00 72.00 2014-08-31 22:00:00\n",
      "2014-08-31 23:00:00 3,097.00 71.33 2014-08-31 23:00:00\n",
      "                        load  temp           timestamp\n",
      "2014-09-01 00:00:00 2,886.00 71.00 2014-09-01 00:00:00\n",
      "2014-09-01 01:00:00 2,768.00 70.00 2014-09-01 01:00:00\n",
      "2014-09-01 02:00:00 2,699.00 69.33 2014-09-01 02:00:00\n",
      "2014-09-01 03:00:00 2,681.00 68.33 2014-09-01 03:00:00\n",
      "2014-09-01 04:00:00 2,690.00 68.33 2014-09-01 04:00:00\n"
     ]
    }
   ],
   "source": [
    "print(ds_train.tail())\n",
    "print(ds_valid.head())"
   ]
  },
  {
   "cell_type": "markdown",
   "metadata": {
    "slideshow": {
     "slide_type": "slide"
    }
   },
   "source": [
    "### 3. Discard any samples with missing values\n",
    "We will discard these."
   ]
  },
  {
   "cell_type": "code",
   "execution_count": 8,
   "metadata": {
    "slideshow": {
     "slide_type": "-"
    }
   },
   "outputs": [],
   "source": [
    "ds_train.dropna(how=\"any\", inplace=True)\n",
    "ds_valid.dropna(how=\"any\", inplace=True)\n",
    "ds_test.dropna(how=\"any\", inplace=True)"
   ]
  },
  {
   "cell_type": "markdown",
   "metadata": {
    "slideshow": {
     "slide_type": "fragment"
    }
   },
   "source": [
    "We now have data of shape:"
   ]
  },
  {
   "cell_type": "code",
   "execution_count": 9,
   "metadata": {
    "slideshow": {
     "slide_type": "-"
    }
   },
   "outputs": [
    {
     "name": "stdout",
     "output_type": "stream",
     "text": [
      "Train data shape: (23376, 3)\n",
      "Valid data shape: (1464, 3)\n",
      "Test data shape: (1464, 3)\n"
     ]
    }
   ],
   "source": [
    "print('Train data shape:', ds_train.shape)\n",
    "print('Valid data shape:', ds_valid.shape)\n",
    "print('Test data shape:', ds_test.shape)"
   ]
  },
  {
   "cell_type": "markdown",
   "metadata": {
    "slideshow": {
     "slide_type": "slide"
    }
   },
   "source": [
    "## Set Up AzureML Workspace"
   ]
  },
  {
   "cell_type": "markdown",
   "metadata": {
    "slideshow": {
     "slide_type": "-"
    }
   },
   "source": [
    "As part of the setup you should have access to an Azure ML Workspace. For Automated ML you will need to create an Experiment object, which is a named object in a Workspace used to run experiments."
   ]
  },
  {
   "cell_type": "code",
   "execution_count": 10,
   "metadata": {
    "slideshow": {
     "slide_type": "subslide"
    }
   },
   "outputs": [
    {
     "data": {
      "text/html": [
       "<div>\n",
       "<style scoped>\n",
       "    .dataframe tbody tr th:only-of-type {\n",
       "        vertical-align: middle;\n",
       "    }\n",
       "\n",
       "    .dataframe tbody tr th {\n",
       "        vertical-align: top;\n",
       "    }\n",
       "\n",
       "    .dataframe thead th {\n",
       "        text-align: right;\n",
       "    }\n",
       "</style>\n",
       "<table border=\"1\" class=\"dataframe\">\n",
       "  <thead>\n",
       "    <tr style=\"text-align: right;\">\n",
       "      <th></th>\n",
       "      <th></th>\n",
       "    </tr>\n",
       "  </thead>\n",
       "  <tbody>\n",
       "    <tr>\n",
       "      <th>SDK version</th>\n",
       "      <td>1.0.74</td>\n",
       "    </tr>\n",
       "    <tr>\n",
       "      <th>Workspace</th>\n",
       "      <td>AML2</td>\n",
       "    </tr>\n",
       "    <tr>\n",
       "      <th>Resource Group</th>\n",
       "      <td>AML2</td>\n",
       "    </tr>\n",
       "    <tr>\n",
       "      <th>Location</th>\n",
       "      <td>southcentralus</td>\n",
       "    </tr>\n",
       "    <tr>\n",
       "      <th>Experiment Name</th>\n",
       "      <td>automl-forecasting-GEFCom2014</td>\n",
       "    </tr>\n",
       "    <tr>\n",
       "      <th>Project Folder</th>\n",
       "      <td>./project</td>\n",
       "    </tr>\n",
       "  </tbody>\n",
       "</table>\n",
       "</div>"
      ],
      "text/plain": [
       "                                              \n",
       "SDK version      1.0.74                       \n",
       "Workspace        AML2                         \n",
       "Resource Group   AML2                         \n",
       "Location         southcentralus               \n",
       "Experiment Name  automl-forecasting-GEFCom2014\n",
       "Project Folder   ./project                    "
      ]
     },
     "execution_count": 10,
     "metadata": {},
     "output_type": "execute_result"
    }
   ],
   "source": [
    "import azureml.core\n",
    "from azureml.core import Experiment, Workspace\n",
    "\n",
    "assert os.path.exists('config.json'), 'Download `config.json` from the Auzre Portal and place in this folder'\n",
    "ws = Workspace.from_config()\n",
    "\n",
    "# Define a project folder where artifacts will be stored\n",
    "project_folder = './project'\n",
    "os.makedirs(project_folder, exist_ok=True)\n",
    "\n",
    "# choose a name for the run history container in the workspace\n",
    "experiment_name = 'automl-forecasting-GEFCom2014'\n",
    "experiment = Experiment(ws, experiment_name)\n",
    "\n",
    "output = {}\n",
    "output['SDK version'] = azureml.core.VERSION\n",
    "output['Workspace'] = ws.name\n",
    "output['Resource Group'] = ws.resource_group\n",
    "output['Location'] = ws.location\n",
    "output['Experiment Name'] = experiment_name\n",
    "output['Project Folder'] = project_folder\n",
    "pd.set_option('display.max_colwidth', -1)\n",
    "outputDf = pd.DataFrame(data = output, index = [''])\n",
    "outputDf.T"
   ]
  },
  {
   "cell_type": "markdown",
   "metadata": {},
   "source": [
    "## Create/Attach Remote Compute\n",
    "Create the AmlCompute target in your workspace if it doesn't already exist.\n",
    "\n",
    "You can also configure several advanced properties when you create Azure Machine Learning Compute. The properties allow you to create a persistent cluster of fixed size, or within an existing Azure Virtual Network in your subscription. See the [AmlCompute class](https://docs.microsoft.com/en-us/python/api/azureml-core/azureml.core.compute.amlcompute.amlcompute?view=azure-ml-py) for details."
   ]
  },
  {
   "cell_type": "code",
   "execution_count": 11,
   "metadata": {},
   "outputs": [
    {
     "name": "stdout",
     "output_type": "stream",
     "text": [
      "Found existing cluster, using it.\n"
     ]
    }
   ],
   "source": [
    "from azureml.core.compute import ComputeTarget, AmlCompute\n",
    "from azureml.core.compute_target import ComputeTargetException\n",
    "\n",
    "# Choose a name for your CPU cluster\n",
    "cluster_name = \"cpucluster\"\n",
    "\n",
    "# Verify that cluster does not exist already\n",
    "try:\n",
    "    aml_compute = ComputeTarget(workspace=ws, name=cluster_name)\n",
    "    print('Found existing cluster, using it.')\n",
    "except ComputeTargetException:\n",
    "    compute_config = AmlCompute.provisioning_configuration(\n",
    "        vm_size='STANDARD_D2_V2',\n",
    "        # for GPU, use \"STANDARD_NC6\"\n",
    "        # vm_priority = 'lowpriority', # optional\n",
    "        max_nodes=6\n",
    "    )\n",
    "    aml_compute = ComputeTarget.create(ws, cluster_name, compute_config)"
   ]
  },
  {
   "cell_type": "markdown",
   "metadata": {},
   "source": [
    "## Wait for compute to spin up\n",
    "Can poll for a minimum number of nodes and for a specific timeout.\n",
    "If no min_node_count is provided, it will use the scale settings for the cluster.\n"
   ]
  },
  {
   "cell_type": "code",
   "execution_count": 12,
   "metadata": {},
   "outputs": [
    {
     "name": "stdout",
     "output_type": "stream",
     "text": [
      "Succeeded\n",
      "AmlCompute wait for completion finished\n",
      "Minimum number of nodes requested have been provisioned\n"
     ]
    }
   ],
   "source": [
    "aml_compute.wait_for_completion(\n",
    "    show_output=True, \n",
    "    min_node_count=None, \n",
    "    timeout_in_minutes=10\n",
    ")"
   ]
  },
  {
   "cell_type": "markdown",
   "metadata": {},
   "source": [
    "## Data for Remote Compute\n",
    "We have to make the datasets available to the remote compute nodes. Easiest is to upload to the default datastore associated with the AML Workspace"
   ]
  },
  {
   "cell_type": "code",
   "execution_count": 13,
   "metadata": {},
   "outputs": [
    {
     "name": "stdout",
     "output_type": "stream",
     "text": [
      "Uploading an estimated of 2 files\n",
      "Uploading ../data/ds_train.csv\n",
      "Uploading ../data/ds_valid.csv\n",
      "Uploaded ../data/ds_valid.csv, 1 files out of an estimated total of 2\n",
      "Uploaded ../data/ds_train.csv, 2 files out of an estimated total of 2\n",
      "Uploaded 2 files\n"
     ]
    }
   ],
   "source": [
    "from azureml.core.dataset import Dataset\n",
    "from azureml.data.data_reference import DataReference\n",
    "\n",
    "# First save our training sets as CSV files\n",
    "data_dir = os.path.join('..', 'data')\n",
    "ds_train.to_csv(os.path.join(data_dir, 'ds_train.csv'), index=False)\n",
    "ds_valid.to_csv(os.path.join(data_dir, 'ds_valid.csv'), index=False)\n",
    "\n",
    "# Upload to AML DataStore\n",
    "ds = ws.get_default_datastore()\n",
    "files = [os.path.join('..', 'data', x) for x in ['ds_train.csv', 'ds_valid.csv']]\n",
    "ds.upload_files(files, target_path='GEFCom2014', overwrite=True, show_progress=True)\n",
    "\n",
    "# Create Data References\n",
    "train_data_ref = ds.path('GEFCom2014/ds_train.csv')\n",
    "valid_data_ref = ds.path('GEFCom2014/ds_valid.csv')\n",
    "\n",
    "# Define as AML Datasets\n",
    "amlds_train = Dataset.Tabular.from_delimited_files(train_data_ref)\n",
    "amlds_valid = Dataset.Tabular.from_delimited_files(valid_data_ref)"
   ]
  },
  {
   "cell_type": "markdown",
   "metadata": {
    "slideshow": {
     "slide_type": "slide"
    }
   },
   "source": [
    "## Train\n",
    "\n",
    "Instantiate an AutoMLConfig object. This config defines the settings and data used to run the experiment. We can provide extra configurations within 'automl_settings', for this forecasting task we add the name of the time column and the maximum forecast horizon. See [here](https://docs.microsoft.com/en-us/python/api/azureml-train-automl-client/azureml.train.automl.automlconfig.automlconfig?view=azure-ml-py) for more options.\n",
    "\n",
    "|Property|Description|\n",
    "|-|-|\n",
    "|**task**|forecasting|\n",
    "|**primary_metric**|This is the metric that you want to optimize.<br> Forecasting supports the following primary metrics <br><i>spearman_correlation</i><br><i>normalized_root_mean_squared_error</i><br><i>r2_score</i><br><i>normalized_mean_absolute_error</i>|\n",
    "|**blacklist_models**|Models in blacklist won't be used by AutoML. All supported models can be found at [here](https://docs.microsoft.com/en-us/python/api/azureml-train-automl/azureml.train.automl.constants.supportedmodels.regression?view=azure-ml-py).|\n",
    "|**experiment_timeout_minutes**|Maximum amount of time in minutes that the experiment take before it terminates.|\n",
    "|**training_data**|The training data to be used within the experiment.|\n",
    "|**label_column_name**|The name of the label column.|\n",
    "|**compute_target**|The remote compute for training.|\n",
    "|**n_cross_validations**|Number of cross validation splits. Rolling Origin Validation is used to split time-series in a temporally consistent way.|\n",
    "|**enable_early_stopping**|Flag to enble early termination if the score is not improving in the short term.|\\n\",\n",
    "|**time_column_name**|The name of your time column.|\n",
    "|**max_horizon**|The number of periods out you would like to predict past your training data. Periods are inferred from your data.|"
   ]
  },
  {
   "cell_type": "code",
   "execution_count": 14,
   "metadata": {
    "slideshow": {
     "slide_type": "subslide"
    }
   },
   "outputs": [],
   "source": [
    "import logging\n",
    "from azureml.train.automl import AutoMLConfig\n",
    "\n",
    "#These models are blacklisted for tutorial purposes, remove this for real use cases.                            \n",
    "blacklist_models = ['ExtremeRandomTrees', 'AutoArima', 'ElasticNet']\n",
    "\n",
    "automl_config = AutoMLConfig(\n",
    "    # AzureML Settings\n",
    "    compute_target=aml_compute,\n",
    "    max_concurrent_iterations=2,\n",
    "    max_cores_per_iteration=6,\n",
    "    # Data Parameters\n",
    "    training_data=amlds_train,\n",
    "    validation_data=amlds_valid,\n",
    "    time_column_name='timestamp',\n",
    "    label_column_name='load',\n",
    "    # Forecasting Parameters\n",
    "    task='forecasting',\n",
    "    max_horizon=HORIZON,\n",
    "    primary_metric='normalized_root_mean_squared_error',\n",
    "    # AutoML Settings\n",
    "    enable_early_stopping=True,\n",
    "    blacklist_models=blacklist_models,\n",
    "    experiment_timeout_minutes=10,\n",
    "    verbosity=logging.ERROR,\n",
    "    path=project_folder,\n",
    ")"
   ]
  },
  {
   "cell_type": "markdown",
   "metadata": {
    "slideshow": {
     "slide_type": "slide"
    }
   },
   "source": [
    "### Submit the job\n",
    "\n",
    "Call the submit method on the experiment object and pass the run configuration. Depending on the data and the number of iterations this can run for a while. \n",
    "\n",
    "The optional `show_output=True` causes currently running iterations to print to the console."
   ]
  },
  {
   "cell_type": "code",
   "execution_count": 15,
   "metadata": {
    "slideshow": {
     "slide_type": "fragment"
    }
   },
   "outputs": [],
   "source": [
    "run = experiment.submit(automl_config)"
   ]
  },
  {
   "cell_type": "markdown",
   "metadata": {
    "slideshow": {
     "slide_type": "subslide"
    }
   },
   "source": [
    "The `run` object contains a link to the experiment in the AzureML Workspace."
   ]
  },
  {
   "cell_type": "code",
   "execution_count": 16,
   "metadata": {
    "slideshow": {
     "slide_type": "-"
    }
   },
   "outputs": [
    {
     "data": {
      "text/html": [
       "<table style=\"width:100%\"><tr><th>Experiment</th><th>Id</th><th>Type</th><th>Status</th><th>Details Page</th><th>Docs Page</th></tr><tr><td>automl-forecasting-GEFCom2014</td><td>AutoML_adfa081b-6599-4b73-87bf-13bf35a20f1d</td><td>automl</td><td>Starting</td><td><a href=\"https://ml.azure.com/experiments/automl-forecasting-GEFCom2014/runs/AutoML_adfa081b-6599-4b73-87bf-13bf35a20f1d?wsid=/subscriptions/6fa1b60b-c4be-4966-a446-261a3ad62d42/resourcegroups/AML2/workspaces/AML2\" target=\"_blank\" rel=\"noopener\">Link to Azure Machine Learning studio</a></td><td><a href=\"https://docs.microsoft.com/en-us/python/api/overview/azure/ml/intro?view=azure-ml-py\" target=\"_blank\" rel=\"noopener\">Link to Documentation</a></td></tr></table>"
      ],
      "text/plain": [
       "Run(Experiment: automl-forecasting-GEFCom2014,\n",
       "Id: AutoML_adfa081b-6599-4b73-87bf-13bf35a20f1d,\n",
       "Type: automl,\n",
       "Status: Starting)"
      ]
     },
     "execution_count": 16,
     "metadata": {},
     "output_type": "execute_result"
    }
   ],
   "source": [
    "run"
   ]
  },
  {
   "cell_type": "markdown",
   "metadata": {},
   "source": [
    "Wait for run to complete"
   ]
  },
  {
   "cell_type": "code",
   "execution_count": 17,
   "metadata": {},
   "outputs": [
    {
     "name": "stdout",
     "output_type": "stream",
     "text": [
      "\n",
      "****************************************************************************************************\n",
      "ITERATION: The iteration being evaluated.\n",
      "PIPELINE: A summary description of the pipeline being evaluated.\n",
      "DURATION: Time taken for the current iteration.\n",
      "METRIC: The result of computing score on the fitted pipeline.\n",
      "BEST: The best observed score thus far.\n",
      "****************************************************************************************************\n",
      "\n",
      " ITERATION   PIPELINE                                       DURATION      METRIC      BEST\n",
      "         0   StandardScalerWrapper RandomForest             0:01:05       0.0476    0.0476\n",
      "         1   StandardScalerWrapper LightGBM                 0:02:01       0.0660    0.0476\n",
      "         2   StandardScalerWrapper LassoLars                0:01:46       0.1518    0.0476\n",
      "         3   MinMaxScaler DecisionTree                      0:01:45       0.0826    0.0476\n",
      "         4   MaxAbsScaler RandomForest                      0:01:45       0.0459    0.0459\n",
      "         5   MaxAbsScaler DecisionTree                      0:01:44       0.0528    0.0459\n",
      "         7   StandardScalerWrapper DecisionTree             0:00:59       0.0468    0.0459\n",
      "         8   MaxAbsScaler DecisionTree                      0:01:04       0.0656    0.0459\n",
      "         9   StandardScalerWrapper LightGBM                 0:01:04       0.0526    0.0459\n",
      "         6   MinMaxScaler DecisionTree                      0:05:09       0.0697    0.0459\n",
      "        10   MinMaxScaler DecisionTree                      0:01:01       0.0722    0.0459\n",
      "        12    StackEnsemble                                 0:01:04       0.0409    0.0409\n",
      "        11    VotingEnsemble                                0:01:10       0.0409    0.0409\n",
      "\n",
      "Execution Summary\n",
      "=================\n",
      "RunId: AutoML_adfa081b-6599-4b73-87bf-13bf35a20f1d\n",
      "\n",
      "CPU times: user 2.51 s, sys: 230 ms, total: 2.74 s\n",
      "Wall time: 16min 56s\n"
     ]
    }
   ],
   "source": [
    "%%time\n",
    "\n",
    "status = run.wait_for_completion(show_output=True)"
   ]
  },
  {
   "cell_type": "markdown",
   "metadata": {
    "slideshow": {
     "slide_type": "slide"
    }
   },
   "source": [
    "### Retrieve the Best Model\n",
    "Below we select the best model from all the training iterations using the `get_output` method."
   ]
  },
  {
   "cell_type": "code",
   "execution_count": 18,
   "metadata": {
    "slideshow": {
     "slide_type": "fragment"
    }
   },
   "outputs": [],
   "source": [
    "best_run, fitted_model = run.get_output()\n",
    "#fitted_model.steps"
   ]
  },
  {
   "cell_type": "markdown",
   "metadata": {
    "slideshow": {
     "slide_type": "slide"
    }
   },
   "source": [
    "## Analysis\n",
    "Below we take a look at the model produced"
   ]
  },
  {
   "cell_type": "markdown",
   "metadata": {
    "slideshow": {
     "slide_type": "fragment"
    }
   },
   "source": [
    "### Featurization\n",
    "You can access the engineered feature names generated in time-series featurization"
   ]
  },
  {
   "cell_type": "code",
   "execution_count": 19,
   "metadata": {
    "scrolled": true,
    "slideshow": {
     "slide_type": "-"
    }
   },
   "outputs": [
    {
     "data": {
      "text/plain": [
       "['temp',\n",
       " 'temp_WASNULL',\n",
       " 'year',\n",
       " 'half',\n",
       " 'quarter',\n",
       " 'month',\n",
       " 'day',\n",
       " 'hour',\n",
       " 'am_pm',\n",
       " 'hour12',\n",
       " 'wday',\n",
       " 'qday',\n",
       " 'week']"
      ]
     },
     "execution_count": 19,
     "metadata": {},
     "output_type": "execute_result"
    }
   ],
   "source": [
    "fitted_model.named_steps['timeseriestransformer'].get_engineered_feature_names()"
   ]
  },
  {
   "cell_type": "markdown",
   "metadata": {
    "slideshow": {
     "slide_type": "subslide"
    }
   },
   "source": [
    "### View featurization summary\n",
    "You can also see what featurization steps were performed on different raw features in the user data. For each input field in the user data, the following information is displayed:\n",
    "\n",
    "- Raw field name\n",
    "- Number of engineered features formed out of this raw field\n",
    "- Type detected\n",
    "- If the feature was dropped\n",
    "- List of feature transformations for the raw field"
   ]
  },
  {
   "cell_type": "code",
   "execution_count": 20,
   "metadata": {
    "slideshow": {
     "slide_type": "-"
    }
   },
   "outputs": [
    {
     "data": {
      "text/html": [
       "<div>\n",
       "<style scoped>\n",
       "    .dataframe tbody tr th:only-of-type {\n",
       "        vertical-align: middle;\n",
       "    }\n",
       "\n",
       "    .dataframe tbody tr th {\n",
       "        vertical-align: top;\n",
       "    }\n",
       "\n",
       "    .dataframe thead th {\n",
       "        text-align: right;\n",
       "    }\n",
       "</style>\n",
       "<table border=\"1\" class=\"dataframe\">\n",
       "  <thead>\n",
       "    <tr style=\"text-align: right;\">\n",
       "      <th></th>\n",
       "      <th>Dropped</th>\n",
       "      <th>EngineeredFeatureCount</th>\n",
       "      <th>RawFeatureName</th>\n",
       "      <th>Transformations</th>\n",
       "      <th>TypeDetected</th>\n",
       "    </tr>\n",
       "  </thead>\n",
       "  <tbody>\n",
       "    <tr>\n",
       "      <th>0</th>\n",
       "      <td>No</td>\n",
       "      <td>2</td>\n",
       "      <td>temp</td>\n",
       "      <td>[MeanImputer, ImputationMarker]</td>\n",
       "      <td>Numeric</td>\n",
       "    </tr>\n",
       "    <tr>\n",
       "      <th>1</th>\n",
       "      <td>No</td>\n",
       "      <td>11</td>\n",
       "      <td>timestamp</td>\n",
       "      <td>[DateTimeTransformer, DateTimeTransformer, DateTimeTransformer, DateTimeTransformer, DateTimeTransformer, DateTimeTransformer, DateTimeTransformer, DateTimeTransformer, DateTimeTransformer, DateTimeTransformer, DateTimeTransformer]</td>\n",
       "      <td>DateTime</td>\n",
       "    </tr>\n",
       "  </tbody>\n",
       "</table>\n",
       "</div>"
      ],
      "text/plain": [
       "  Dropped  EngineeredFeatureCount RawFeatureName  \\\n",
       "0  No      2                       temp            \n",
       "1  No      11                      timestamp       \n",
       "\n",
       "                                                                                                                                                                                                                           Transformations  \\\n",
       "0  [MeanImputer, ImputationMarker]                                                                                                                                                                                                           \n",
       "1  [DateTimeTransformer, DateTimeTransformer, DateTimeTransformer, DateTimeTransformer, DateTimeTransformer, DateTimeTransformer, DateTimeTransformer, DateTimeTransformer, DateTimeTransformer, DateTimeTransformer, DateTimeTransformer]   \n",
       "\n",
       "  TypeDetected  \n",
       "0  Numeric      \n",
       "1  DateTime     "
      ]
     },
     "execution_count": 20,
     "metadata": {},
     "output_type": "execute_result"
    }
   ],
   "source": [
    "# Get the featurization summary as a list of JSON\n",
    "featurization_summary = fitted_model.named_steps['timeseriestransformer'].get_featurization_summary()\n",
    "# View the featurization summary as a pandas dataframe\n",
    "pd.DataFrame.from_records(featurization_summary)"
   ]
  },
  {
   "cell_type": "markdown",
   "metadata": {
    "slideshow": {
     "slide_type": "slide"
    }
   },
   "source": [
    "## Forecasting\n",
    "Now that we have retrieved the best pipeline/model, it can be used to make predictions on test data."
   ]
  },
  {
   "cell_type": "markdown",
   "metadata": {
    "slideshow": {
     "slide_type": "subslide"
    }
   },
   "source": [
    "### Forecast Function\n",
    "For forecasting, we will use the forecast function instead of the predict function. There are two reasons for this.\n",
    "\n",
    "We need to pass the recent values of the target variable y, whereas the scikit-compatible predict function only takes the non-target variables 'test'. In our case, the test data immediately follows the training data, and we fill the target variable with NaN. The NaN serves as a question mark for the forecaster to fill with the actuals. Using the forecast function will produce forecasts using the shortest possible forecast horizon. The last time at which a definite (non-NaN) value is seen is the forecast origin - the last time when the value of the target is known.\n",
    "\n",
    "Using the predict method would result in getting predictions for EVERY horizon the forecaster can predict at. This is useful when training and evaluating the performance of the forecaster at various horizons, but the level of detail is excessive for normal use."
   ]
  },
  {
   "cell_type": "code",
   "execution_count": 21,
   "metadata": {
    "slideshow": {
     "slide_type": "fragment"
    }
   },
   "outputs": [],
   "source": [
    "# First, we remove the target values from the test set:\n",
    "X_test = ds_test.copy()\n",
    "y_test = X_test.pop('load').values\n",
    "\n",
    "# The forecast origin will be at the beginning of the first forecast period.\n",
    "# (Which is the same time as the end of the last training period.)\n",
    "y_query = np.empty_like(y_test)\n",
    "y_query.fill(np.nan)\n",
    "\n",
    "# The featurized data, aligned to y, will also be returned.\n",
    "# This contains the assumptions that were made in the forecast\n",
    "# and helps align the forecast to the original data\n",
    "y_predictions, X_trans = fitted_model.forecast(X_test, y_query)"
   ]
  },
  {
   "cell_type": "markdown",
   "metadata": {
    "slideshow": {
     "slide_type": "subslide"
    }
   },
   "source": [
    "It is useful to look at how the inputs were transformed to create the predictions"
   ]
  },
  {
   "cell_type": "code",
   "execution_count": 22,
   "metadata": {
    "slideshow": {
     "slide_type": "-"
    }
   },
   "outputs": [
    {
     "data": {
      "text/html": [
       "<div>\n",
       "<style scoped>\n",
       "    .dataframe tbody tr th:only-of-type {\n",
       "        vertical-align: middle;\n",
       "    }\n",
       "\n",
       "    .dataframe tbody tr th {\n",
       "        vertical-align: top;\n",
       "    }\n",
       "\n",
       "    .dataframe thead th {\n",
       "        text-align: right;\n",
       "    }\n",
       "</style>\n",
       "<table border=\"1\" class=\"dataframe\">\n",
       "  <thead>\n",
       "    <tr style=\"text-align: right;\">\n",
       "      <th></th>\n",
       "      <th></th>\n",
       "      <th>temp</th>\n",
       "      <th>temp_WASNULL</th>\n",
       "      <th>year</th>\n",
       "      <th>half</th>\n",
       "      <th>quarter</th>\n",
       "      <th>month</th>\n",
       "      <th>day</th>\n",
       "      <th>hour</th>\n",
       "      <th>am_pm</th>\n",
       "      <th>hour12</th>\n",
       "      <th>wday</th>\n",
       "      <th>qday</th>\n",
       "      <th>week</th>\n",
       "      <th>_automl_target_col</th>\n",
       "    </tr>\n",
       "    <tr>\n",
       "      <th>timestamp</th>\n",
       "      <th>_automl_dummy_grain_col</th>\n",
       "      <th></th>\n",
       "      <th></th>\n",
       "      <th></th>\n",
       "      <th></th>\n",
       "      <th></th>\n",
       "      <th></th>\n",
       "      <th></th>\n",
       "      <th></th>\n",
       "      <th></th>\n",
       "      <th></th>\n",
       "      <th></th>\n",
       "      <th></th>\n",
       "      <th></th>\n",
       "      <th></th>\n",
       "    </tr>\n",
       "  </thead>\n",
       "  <tbody>\n",
       "    <tr>\n",
       "      <th>2014-11-01 00:00:00</th>\n",
       "      <th>_automl_dummy_grain_col</th>\n",
       "      <td>38.33</td>\n",
       "      <td>0</td>\n",
       "      <td>2014</td>\n",
       "      <td>2</td>\n",
       "      <td>4</td>\n",
       "      <td>11</td>\n",
       "      <td>1</td>\n",
       "      <td>0</td>\n",
       "      <td>0</td>\n",
       "      <td>0</td>\n",
       "      <td>5</td>\n",
       "      <td>32</td>\n",
       "      <td>44</td>\n",
       "      <td>2482.78</td>\n",
       "    </tr>\n",
       "    <tr>\n",
       "      <th>2014-11-01 01:00:00</th>\n",
       "      <th>_automl_dummy_grain_col</th>\n",
       "      <td>37.33</td>\n",
       "      <td>0</td>\n",
       "      <td>2014</td>\n",
       "      <td>2</td>\n",
       "      <td>4</td>\n",
       "      <td>11</td>\n",
       "      <td>1</td>\n",
       "      <td>1</td>\n",
       "      <td>0</td>\n",
       "      <td>1</td>\n",
       "      <td>5</td>\n",
       "      <td>32</td>\n",
       "      <td>44</td>\n",
       "      <td>2417.21</td>\n",
       "    </tr>\n",
       "    <tr>\n",
       "      <th>2014-11-01 02:00:00</th>\n",
       "      <th>_automl_dummy_grain_col</th>\n",
       "      <td>36.33</td>\n",
       "      <td>0</td>\n",
       "      <td>2014</td>\n",
       "      <td>2</td>\n",
       "      <td>4</td>\n",
       "      <td>11</td>\n",
       "      <td>1</td>\n",
       "      <td>2</td>\n",
       "      <td>0</td>\n",
       "      <td>2</td>\n",
       "      <td>5</td>\n",
       "      <td>32</td>\n",
       "      <td>44</td>\n",
       "      <td>2386.46</td>\n",
       "    </tr>\n",
       "    <tr>\n",
       "      <th>2014-11-01 03:00:00</th>\n",
       "      <th>_automl_dummy_grain_col</th>\n",
       "      <td>36.33</td>\n",
       "      <td>0</td>\n",
       "      <td>2014</td>\n",
       "      <td>2</td>\n",
       "      <td>4</td>\n",
       "      <td>11</td>\n",
       "      <td>1</td>\n",
       "      <td>3</td>\n",
       "      <td>0</td>\n",
       "      <td>3</td>\n",
       "      <td>5</td>\n",
       "      <td>32</td>\n",
       "      <td>44</td>\n",
       "      <td>2386.71</td>\n",
       "    </tr>\n",
       "    <tr>\n",
       "      <th>2014-11-01 04:00:00</th>\n",
       "      <th>_automl_dummy_grain_col</th>\n",
       "      <td>36.00</td>\n",
       "      <td>0</td>\n",
       "      <td>2014</td>\n",
       "      <td>2</td>\n",
       "      <td>4</td>\n",
       "      <td>11</td>\n",
       "      <td>1</td>\n",
       "      <td>4</td>\n",
       "      <td>0</td>\n",
       "      <td>4</td>\n",
       "      <td>5</td>\n",
       "      <td>32</td>\n",
       "      <td>44</td>\n",
       "      <td>2390.30</td>\n",
       "    </tr>\n",
       "  </tbody>\n",
       "</table>\n",
       "</div>"
      ],
      "text/plain": [
       "                                             temp  temp_WASNULL  year  half  \\\n",
       "timestamp           _automl_dummy_grain_col                                   \n",
       "2014-11-01 00:00:00 _automl_dummy_grain_col 38.33  0             2014  2      \n",
       "2014-11-01 01:00:00 _automl_dummy_grain_col 37.33  0             2014  2      \n",
       "2014-11-01 02:00:00 _automl_dummy_grain_col 36.33  0             2014  2      \n",
       "2014-11-01 03:00:00 _automl_dummy_grain_col 36.33  0             2014  2      \n",
       "2014-11-01 04:00:00 _automl_dummy_grain_col 36.00  0             2014  2      \n",
       "\n",
       "                                             quarter  month  day  hour  am_pm  \\\n",
       "timestamp           _automl_dummy_grain_col                                     \n",
       "2014-11-01 00:00:00 _automl_dummy_grain_col  4        11     1    0     0       \n",
       "2014-11-01 01:00:00 _automl_dummy_grain_col  4        11     1    1     0       \n",
       "2014-11-01 02:00:00 _automl_dummy_grain_col  4        11     1    2     0       \n",
       "2014-11-01 03:00:00 _automl_dummy_grain_col  4        11     1    3     0       \n",
       "2014-11-01 04:00:00 _automl_dummy_grain_col  4        11     1    4     0       \n",
       "\n",
       "                                             hour12  wday  qday  week  \\\n",
       "timestamp           _automl_dummy_grain_col                             \n",
       "2014-11-01 00:00:00 _automl_dummy_grain_col  0       5     32    44     \n",
       "2014-11-01 01:00:00 _automl_dummy_grain_col  1       5     32    44     \n",
       "2014-11-01 02:00:00 _automl_dummy_grain_col  2       5     32    44     \n",
       "2014-11-01 03:00:00 _automl_dummy_grain_col  3       5     32    44     \n",
       "2014-11-01 04:00:00 _automl_dummy_grain_col  4       5     32    44     \n",
       "\n",
       "                                             _automl_target_col  \n",
       "timestamp           _automl_dummy_grain_col                      \n",
       "2014-11-01 00:00:00 _automl_dummy_grain_col 2482.78              \n",
       "2014-11-01 01:00:00 _automl_dummy_grain_col 2417.21              \n",
       "2014-11-01 02:00:00 _automl_dummy_grain_col 2386.46              \n",
       "2014-11-01 03:00:00 _automl_dummy_grain_col 2386.71              \n",
       "2014-11-01 04:00:00 _automl_dummy_grain_col 2390.30              "
      ]
     },
     "execution_count": 22,
     "metadata": {},
     "output_type": "execute_result"
    }
   ],
   "source": [
    "X_trans.head()"
   ]
  },
  {
   "cell_type": "markdown",
   "metadata": {
    "slideshow": {
     "slide_type": "slide"
    }
   },
   "source": [
    "### Evaluate\n",
    "To evaluate the accuracy of the forecast, we'll compare against the actual load values using the mean absolute percentage error (MAPE) metric."
   ]
  },
  {
   "cell_type": "markdown",
   "metadata": {},
   "source": [
    "Collect the target and predictions in a dataset"
   ]
  },
  {
   "cell_type": "code",
   "execution_count": 23,
   "metadata": {},
   "outputs": [
    {
     "data": {
      "text/html": [
       "<div>\n",
       "<style scoped>\n",
       "    .dataframe tbody tr th:only-of-type {\n",
       "        vertical-align: middle;\n",
       "    }\n",
       "\n",
       "    .dataframe tbody tr th {\n",
       "        vertical-align: top;\n",
       "    }\n",
       "\n",
       "    .dataframe thead th {\n",
       "        text-align: right;\n",
       "    }\n",
       "</style>\n",
       "<table border=\"1\" class=\"dataframe\">\n",
       "  <thead>\n",
       "    <tr style=\"text-align: right;\">\n",
       "      <th></th>\n",
       "      <th>actual</th>\n",
       "      <th>temp</th>\n",
       "      <th>prediction</th>\n",
       "    </tr>\n",
       "  </thead>\n",
       "  <tbody>\n",
       "    <tr>\n",
       "      <th>2014-11-01 00:00:00</th>\n",
       "      <td>2514.00</td>\n",
       "      <td>38.33</td>\n",
       "      <td>2482.78</td>\n",
       "    </tr>\n",
       "    <tr>\n",
       "      <th>2014-11-01 01:00:00</th>\n",
       "      <td>2434.00</td>\n",
       "      <td>37.33</td>\n",
       "      <td>2417.21</td>\n",
       "    </tr>\n",
       "    <tr>\n",
       "      <th>2014-11-01 02:00:00</th>\n",
       "      <td>2390.00</td>\n",
       "      <td>36.33</td>\n",
       "      <td>2386.46</td>\n",
       "    </tr>\n",
       "    <tr>\n",
       "      <th>2014-11-01 03:00:00</th>\n",
       "      <td>2382.00</td>\n",
       "      <td>36.33</td>\n",
       "      <td>2386.71</td>\n",
       "    </tr>\n",
       "    <tr>\n",
       "      <th>2014-11-01 04:00:00</th>\n",
       "      <td>2419.00</td>\n",
       "      <td>36.00</td>\n",
       "      <td>2390.30</td>\n",
       "    </tr>\n",
       "  </tbody>\n",
       "</table>\n",
       "</div>"
      ],
      "text/plain": [
       "                     actual  temp  prediction\n",
       "2014-11-01 00:00:00 2514.00 38.33 2482.78    \n",
       "2014-11-01 01:00:00 2434.00 37.33 2417.21    \n",
       "2014-11-01 02:00:00 2390.00 36.33 2386.46    \n",
       "2014-11-01 03:00:00 2382.00 36.33 2386.71    \n",
       "2014-11-01 04:00:00 2419.00 36.00 2390.30    "
      ]
     },
     "execution_count": 23,
     "metadata": {},
     "output_type": "execute_result"
    }
   ],
   "source": [
    "eval_df = ds_test.copy().drop('timestamp', axis=1)\n",
    "eval_df['prediction'] = y_predictions\n",
    "eval_df.rename(columns={'load':'actual'}, inplace=True)\n",
    "eval_df.head()"
   ]
  },
  {
   "cell_type": "markdown",
   "metadata": {
    "slideshow": {
     "slide_type": "subslide"
    }
   },
   "source": [
    "Compute the mean absolute percentage error over all predictions"
   ]
  },
  {
   "cell_type": "code",
   "execution_count": 24,
   "metadata": {
    "slideshow": {
     "slide_type": "-"
    }
   },
   "outputs": [],
   "source": [
    "def mape(predictions, actuals):\n",
    "    \"\"\"Mean absolute percentage error\"\"\"\n",
    "    return ((predictions - actuals).abs() / actuals).mean()"
   ]
  },
  {
   "cell_type": "code",
   "execution_count": 25,
   "metadata": {
    "slideshow": {
     "slide_type": "-"
    }
   },
   "outputs": [
    {
     "name": "stdout",
     "output_type": "stream",
     "text": [
      "MAPE: 3.55%\n"
     ]
    }
   ],
   "source": [
    "print(\"MAPE: {:.2f}%\".format(100* mape(eval_df['prediction'], eval_df['actual'])))"
   ]
  },
  {
   "cell_type": "markdown",
   "metadata": {
    "slideshow": {
     "slide_type": "subslide"
    }
   },
   "source": [
    "Plot the predictions vs the actuals for the first week of the test set"
   ]
  },
  {
   "cell_type": "code",
   "execution_count": 26,
   "metadata": {},
   "outputs": [
    {
     "data": {
      "image/png": "[encoded data removed]",
      "text/plain": [
       "<Figure size 1080x576 with 1 Axes>"
      ]
     },
     "metadata": {
      "needs_background": "light"
     },
     "output_type": "display_data"
    }
   ],
   "source": [
    "eval_df[:'2014-11-08'] \\\n",
    "    .plot(y=['prediction', 'actual'], style=['r', 'b'], figsize=(15, 8))\n",
    "plt.xlabel('timestamp', fontsize=12)\n",
    "plt.ylabel('load', fontsize=12)\n",
    "plt.show()"
   ]
  },
  {
   "cell_type": "code",
   "execution_count": 27,
   "metadata": {},
   "outputs": [
    {
     "data": {
      "application/vnd.jupyter.widget-view+json": {
       "model_id": "9a4bd991d29644ba98761d1402e2bcee",
       "version_major": 2,
       "version_minor": 0
      },
      "text/plain": [
       "_AutoMLWidget(widget_settings={'childWidgetDisplay': 'popup', 'send_telemetry': False, 'log_level': 'NOTSET', …"
      ]
     },
     "metadata": {},
     "output_type": "display_data"
    },
    {
     "data": {
      "application/aml.mini.widget.v1": "{\"status\": \"Completed\", \"workbench_run_details_uri\": \"https://ml.azure.com/experiments/automl-forecasting-GEFCom2014/runs/AutoML_adfa081b-6599-4b73-87bf-13bf35a20f1d?wsid=/subscriptions/6fa1b60b-c4be-4966-a446-261a3ad62d42/resourcegroups/AML2/workspaces/AML2\", \"run_id\": \"AutoML_adfa081b-6599-4b73-87bf-13bf35a20f1d\", \"run_properties\": {\"run_id\": \"AutoML_adfa081b-6599-4b73-87bf-13bf35a20f1d\", \"created_utc\": \"2019-12-08T03:43:53.070759Z\", \"properties\": {\"num_iterations\": \"1000\", \"training_type\": \"TrainFull\", \"acquisition_function\": \"EI\", \"primary_metric\": \"normalized_root_mean_squared_error\", \"train_split\": \"0\", \"MaxTimeSeconds\": \"0\", \"acquisition_parameter\": \"0\", \"num_cross_validation\": null, \"target\": \"cpucluster\", \"RawAMLSettingsString\": \"{'name': 'automl-forecasting-GEFCom2014', 'path': './project', 'subscription_id': '6fa1b60b-c4be-4966-a446-261a3ad62d42', 'resource_group': 'AML2', 'workspace_name': 'AML2', 'region': 'southcentralus', 'compute_target': 'cpucluster', 'spark_service': None, 'azure_service': None, 'iterations': 1000, 'primary_metric': 'normalized_root_mean_squared_error', 'task_type': 'regression', 'data_script': None, 'validation_size': 0.0, 'n_cross_validations': None, 'y_min': None, 'y_max': None, 'num_classes': None, 'featurization': 'off', 'preprocess': False, 'lag_length': 0, 'is_timeseries': True, 'max_cores_per_iteration': 6, 'max_concurrent_iterations': 2, 'iteration_timeout_minutes': None, 'mem_in_mb': None, 'enforce_time_on_windows': False, 'experiment_timeout_minutes': 10, 'experiment_exit_score': None, 'whitelist_models': None, 'blacklist_algos': ['ExtremeRandomTrees', 'AutoArima', 'ElasticNet', 'XGBoostRegressor', 'Prophet'], 'supported_models': ['OnlineGradientDescentRegressor', 'AutoArima', 'XGBoostRegressor', 'LassoLars', 'TCNForecaster', 'SGD', 'DecisionTree', 'ExtremeRandomTrees', 'RandomForest', 'FastLinearRegressor', 'TensorFlowLinearRegressor', 'TensorFlowDNN', 'ElasticNet', 'GradientBoosting', 'LightGBM', 'KNN', 'Prophet'], 'auto_blacklist': True, 'blacklist_samples_reached': False, 'exclude_nan_labels': True, 'verbosity': 40, 'debug_log': 'azureml_automl.log', 'show_warnings': False, 'model_explainability': False, 'service_url': None, 'sdk_url': None, 'sdk_packages': None, 'enable_onnx_compatible_models': False, 'enable_split_onnx_featurizer_estimator_models': False, 'vm_type': 'STANDARD_D2_V2', 'telemetry_verbosity': 'INFO', 'send_telemetry': True, 'enable_dnn': False, 'enable_feature_sweeping': False, 'time_column_name': 'timestamp', 'grain_column_names': None, 'drop_column_names': None, 'max_horizon': 1, 'dropna': False, 'overwrite_columns': True, 'transform_dictionary': {'min': '_automl_target_col', 'max': '_automl_target_col', 'mean': '_automl_target_col'}, 'window_size': None, 'country_or_region': None, 'lags': None, 'seasonality': -1, 'use_stl': None, 'short_series_handling': False, 'enable_early_stopping': True, 'early_stopping_n_iters': 10, 'metrics': None, 'enable_ensembling': True, 'enable_stack_ensembling': True, 'ensemble_iterations': 15, 'enable_tf': False, 'enable_cache': True, 'enable_subsampling': False, 'subsample_seed': None, 'enable_nimbusml': False, 'enable_streaming': False, 'label_column_name': 'load', 'weight_column_name': None, 'cost_mode': 0, 'metric_operation': 'minimize'}\", \"AMLSettingsJsonString\": \"{\\\"name\\\":\\\"automl-forecasting-GEFCom2014\\\",\\\"path\\\":\\\"./project\\\",\\\"subscription_id\\\":\\\"6fa1b60b-c4be-4966-a446-261a3ad62d42\\\",\\\"resource_group\\\":\\\"AML2\\\",\\\"workspace_name\\\":\\\"AML2\\\",\\\"region\\\":\\\"southcentralus\\\",\\\"compute_target\\\":\\\"cpucluster\\\",\\\"spark_service\\\":null,\\\"azure_service\\\":null,\\\"iterations\\\":1000,\\\"primary_metric\\\":\\\"normalized_root_mean_squared_error\\\",\\\"task_type\\\":\\\"regression\\\",\\\"data_script\\\":null,\\\"validation_size\\\":0.0,\\\"n_cross_validations\\\":null,\\\"y_min\\\":null,\\\"y_max\\\":null,\\\"num_classes\\\":null,\\\"featurization\\\":\\\"off\\\",\\\"preprocess\\\":false,\\\"lag_length\\\":0,\\\"is_timeseries\\\":true,\\\"max_cores_per_iteration\\\":6,\\\"max_concurrent_iterations\\\":2,\\\"iteration_timeout_minutes\\\":null,\\\"mem_in_mb\\\":null,\\\"enforce_time_on_windows\\\":false,\\\"experiment_timeout_minutes\\\":10,\\\"experiment_exit_score\\\":null,\\\"whitelist_models\\\":null,\\\"blacklist_algos\\\":[\\\"ExtremeRandomTrees\\\",\\\"AutoArima\\\",\\\"ElasticNet\\\",\\\"XGBoostRegressor\\\",\\\"Prophet\\\"],\\\"supported_models\\\":[\\\"OnlineGradientDescentRegressor\\\",\\\"AutoArima\\\",\\\"XGBoostRegressor\\\",\\\"LassoLars\\\",\\\"TCNForecaster\\\",\\\"SGD\\\",\\\"DecisionTree\\\",\\\"ExtremeRandomTrees\\\",\\\"RandomForest\\\",\\\"FastLinearRegressor\\\",\\\"TensorFlowLinearRegressor\\\",\\\"TensorFlowDNN\\\",\\\"ElasticNet\\\",\\\"GradientBoosting\\\",\\\"LightGBM\\\",\\\"KNN\\\",\\\"Prophet\\\"],\\\"auto_blacklist\\\":true,\\\"blacklist_samples_reached\\\":false,\\\"exclude_nan_labels\\\":true,\\\"verbosity\\\":40,\\\"debug_log\\\":\\\"azureml_automl.log\\\",\\\"show_warnings\\\":false,\\\"model_explainability\\\":false,\\\"service_url\\\":null,\\\"sdk_url\\\":null,\\\"sdk_packages\\\":null,\\\"enable_onnx_compatible_models\\\":false,\\\"enable_split_onnx_featurizer_estimator_models\\\":false,\\\"vm_type\\\":\\\"STANDARD_D2_V2\\\",\\\"telemetry_verbosity\\\":\\\"INFO\\\",\\\"send_telemetry\\\":true,\\\"enable_dnn\\\":false,\\\"enable_feature_sweeping\\\":false,\\\"time_column_name\\\":\\\"timestamp\\\",\\\"grain_column_names\\\":null,\\\"drop_column_names\\\":null,\\\"max_horizon\\\":1,\\\"dropna\\\":false,\\\"overwrite_columns\\\":true,\\\"transform_dictionary\\\":{\\\"min\\\":\\\"_automl_target_col\\\",\\\"max\\\":\\\"_automl_target_col\\\",\\\"mean\\\":\\\"_automl_target_col\\\"},\\\"window_size\\\":null,\\\"country_or_region\\\":null,\\\"lags\\\":null,\\\"seasonality\\\":-1,\\\"use_stl\\\":null,\\\"short_series_handling\\\":false,\\\"enable_early_stopping\\\":true,\\\"early_stopping_n_iters\\\":10,\\\"metrics\\\":null,\\\"enable_ensembling\\\":true,\\\"enable_stack_ensembling\\\":true,\\\"ensemble_iterations\\\":15,\\\"enable_tf\\\":false,\\\"enable_cache\\\":true,\\\"enable_subsampling\\\":false,\\\"subsample_seed\\\":null,\\\"enable_nimbusml\\\":false,\\\"enable_streaming\\\":false,\\\"label_column_name\\\":\\\"load\\\",\\\"weight_column_name\\\":null,\\\"cost_mode\\\":0,\\\"metric_operation\\\":\\\"minimize\\\"}\", \"DataPrepJsonString\": \"{\\\\\\\"training_data\\\\\\\": \\\\\\\"{\\\\\\\\\\\\\\\"blocks\\\\\\\\\\\\\\\": [{\\\\\\\\\\\\\\\"id\\\\\\\\\\\\\\\": \\\\\\\\\\\\\\\"74145b76-83fc-4e7a-bd00-3a0f897e2cb0\\\\\\\\\\\\\\\", \\\\\\\\\\\\\\\"type\\\\\\\\\\\\\\\": \\\\\\\\\\\\\\\"Microsoft.DPrep.GetDatastoreFilesBlock\\\\\\\\\\\\\\\", \\\\\\\\\\\\\\\"arguments\\\\\\\\\\\\\\\": {\\\\\\\\\\\\\\\"datastores\\\\\\\\\\\\\\\": [{\\\\\\\\\\\\\\\"datastoreName\\\\\\\\\\\\\\\": \\\\\\\\\\\\\\\"workspacefilestore\\\\\\\\\\\\\\\", \\\\\\\\\\\\\\\"path\\\\\\\\\\\\\\\": \\\\\\\\\\\\\\\"GEFCom2014/ds_train.csv\\\\\\\\\\\\\\\", \\\\\\\\\\\\\\\"resourceGroup\\\\\\\\\\\\\\\": \\\\\\\\\\\\\\\"AML2\\\\\\\\\\\\\\\", \\\\\\\\\\\\\\\"subscription\\\\\\\\\\\\\\\": \\\\\\\\\\\\\\\"6fa1b60b-c4be-4966-a446-261a3ad62d42\\\\\\\\\\\\\\\", \\\\\\\\\\\\\\\"workspaceName\\\\\\\\\\\\\\\": \\\\\\\\\\\\\\\"AML2\\\\\\\\\\\\\\\"}]}, \\\\\\\\\\\\\\\"localData\\\\\\\\\\\\\\\": {}, \\\\\\\\\\\\\\\"isEnabled\\\\\\\\\\\\\\\": true, \\\\\\\\\\\\\\\"name\\\\\\\\\\\\\\\": null, \\\\\\\\\\\\\\\"annotation\\\\\\\\\\\\\\\": null}, {\\\\\\\\\\\\\\\"id\\\\\\\\\\\\\\\": \\\\\\\\\\\\\\\"43b5a526-70ad-4c10-b9bb-09ca3f0a5ab1\\\\\\\\\\\\\\\", \\\\\\\\\\\\\\\"type\\\\\\\\\\\\\\\": \\\\\\\\\\\\\\\"Microsoft.DPrep.ParseDelimitedBlock\\\\\\\\\\\\\\\", \\\\\\\\\\\\\\\"arguments\\\\\\\\\\\\\\\": {\\\\\\\\\\\\\\\"columnHeadersMode\\\\\\\\\\\\\\\": 3, \\\\\\\\\\\\\\\"fileEncoding\\\\\\\\\\\\\\\": 0, \\\\\\\\\\\\\\\"handleQuotedLineBreaks\\\\\\\\\\\\\\\": false, \\\\\\\\\\\\\\\"preview\\\\\\\\\\\\\\\": false, \\\\\\\\\\\\\\\"separator\\\\\\\\\\\\\\\": \\\\\\\\\\\\\\\",\\\\\\\\\\\\\\\", \\\\\\\\\\\\\\\"skipRows\\\\\\\\\\\\\\\": 0, \\\\\\\\\\\\\\\"skipRowsMode\\\\\\\\\\\\\\\": 0}, \\\\\\\\\\\\\\\"localData\\\\\\\\\\\\\\\": {}, \\\\\\\\\\\\\\\"isEnabled\\\\\\\\\\\\\\\": true, \\\\\\\\\\\\\\\"name\\\\\\\\\\\\\\\": null, \\\\\\\\\\\\\\\"annotation\\\\\\\\\\\\\\\": null}, {\\\\\\\\\\\\\\\"id\\\\\\\\\\\\\\\": \\\\\\\\\\\\\\\"196e5a91-50d8-4c4f-9b1b-77a21f2ff262\\\\\\\\\\\\\\\", \\\\\\\\\\\\\\\"type\\\\\\\\\\\\\\\": \\\\\\\\\\\\\\\"Microsoft.DPrep.DropColumnsBlock\\\\\\\\\\\\\\\", \\\\\\\\\\\\\\\"arguments\\\\\\\\\\\\\\\": {\\\\\\\\\\\\\\\"columns\\\\\\\\\\\\\\\": {\\\\\\\\\\\\\\\"type\\\\\\\\\\\\\\\": 0, \\\\\\\\\\\\\\\"details\\\\\\\\\\\\\\\": {\\\\\\\\\\\\\\\"selectedColumns\\\\\\\\\\\\\\\": [\\\\\\\\\\\\\\\"Path\\\\\\\\\\\\\\\"]}}}, \\\\\\\\\\\\\\\"localData\\\\\\\\\\\\\\\": {}, \\\\\\\\\\\\\\\"isEnabled\\\\\\\\\\\\\\\": true, \\\\\\\\\\\\\\\"name\\\\\\\\\\\\\\\": null, \\\\\\\\\\\\\\\"annotation\\\\\\\\\\\\\\\": null}, {\\\\\\\\\\\\\\\"id\\\\\\\\\\\\\\\": \\\\\\\\\\\\\\\"ba128aab-2739-4404-8c07-7366fb3e2cd5\\\\\\\\\\\\\\\", \\\\\\\\\\\\\\\"type\\\\\\\\\\\\\\\": \\\\\\\\\\\\\\\"Microsoft.DPrep.SetColumnTypesBlock\\\\\\\\\\\\\\\", \\\\\\\\\\\\\\\"arguments\\\\\\\\\\\\\\\": {\\\\\\\\\\\\\\\"columnConversion\\\\\\\\\\\\\\\": [{\\\\\\\\\\\\\\\"column\\\\\\\\\\\\\\\": {\\\\\\\\\\\\\\\"type\\\\\\\\\\\\\\\": 2, \\\\\\\\\\\\\\\"details\\\\\\\\\\\\\\\": {\\\\\\\\\\\\\\\"selectedColumn\\\\\\\\\\\\\\\": \\\\\\\\\\\\\\\"load\\\\\\\\\\\\\\\"}}, \\\\\\\\\\\\\\\"typeProperty\\\\\\\\\\\\\\\": 3}, {\\\\\\\\\\\\\\\"column\\\\\\\\\\\\\\\": {\\\\\\\\\\\\\\\"type\\\\\\\\\\\\\\\": 2, \\\\\\\\\\\\\\\"details\\\\\\\\\\\\\\\": {\\\\\\\\\\\\\\\"selectedColumn\\\\\\\\\\\\\\\": \\\\\\\\\\\\\\\"temp\\\\\\\\\\\\\\\"}}, \\\\\\\\\\\\\\\"typeProperty\\\\\\\\\\\\\\\": 3}, {\\\\\\\\\\\\\\\"column\\\\\\\\\\\\\\\": {\\\\\\\\\\\\\\\"type\\\\\\\\\\\\\\\": 2, \\\\\\\\\\\\\\\"details\\\\\\\\\\\\\\\": {\\\\\\\\\\\\\\\"selectedColumn\\\\\\\\\\\\\\\": \\\\\\\\\\\\\\\"timestamp\\\\\\\\\\\\\\\"}}, \\\\\\\\\\\\\\\"typeArguments\\\\\\\\\\\\\\\": {\\\\\\\\\\\\\\\"dateTimeFormats\\\\\\\\\\\\\\\": [\\\\\\\\\\\\\\\"%Y-%m-%d %H:%M:%S\\\\\\\\\\\\\\\"]}, \\\\\\\\\\\\\\\"typeProperty\\\\\\\\\\\\\\\": 4}]}, \\\\\\\\\\\\\\\"localData\\\\\\\\\\\\\\\": {}, \\\\\\\\\\\\\\\"isEnabled\\\\\\\\\\\\\\\": true, \\\\\\\\\\\\\\\"name\\\\\\\\\\\\\\\": null, \\\\\\\\\\\\\\\"annotation\\\\\\\\\\\\\\\": null}], \\\\\\\\\\\\\\\"inspectors\\\\\\\\\\\\\\\": [], \\\\\\\\\\\\\\\"meta\\\\\\\\\\\\\\\": {\\\\\\\\\\\\\\\"savedDatasetId\\\\\\\\\\\\\\\": \\\\\\\\\\\\\\\"bf441b7e-e952-4f85-8f62-db6eaefede6c\\\\\\\\\\\\\\\", \\\\\\\\\\\\\\\"datasetType\\\\\\\\\\\\\\\": \\\\\\\\\\\\\\\"tabular\\\\\\\\\\\\\\\", \\\\\\\\\\\\\\\"subscriptionId\\\\\\\\\\\\\\\": \\\\\\\\\\\\\\\"6fa1b60b-c4be-4966-a446-261a3ad62d42\\\\\\\\\\\\\\\", \\\\\\\\\\\\\\\"workspaceId\\\\\\\\\\\\\\\": \\\\\\\\\\\\\\\"2a3eb3af-2a80-46a5-afc5-e7ebb6a68bb6\\\\\\\\\\\\\\\", \\\\\\\\\\\\\\\"workspaceLocation\\\\\\\\\\\\\\\": \\\\\\\\\\\\\\\"southcentralus\\\\\\\\\\\\\\\"}}\\\\\\\", \\\\\\\"validation_data\\\\\\\": \\\\\\\"{\\\\\\\\\\\\\\\"blocks\\\\\\\\\\\\\\\": [{\\\\\\\\\\\\\\\"id\\\\\\\\\\\\\\\": \\\\\\\\\\\\\\\"1d2deea1-0281-41e6-ae6f-57c3aca2a33a\\\\\\\\\\\\\\\", \\\\\\\\\\\\\\\"type\\\\\\\\\\\\\\\": \\\\\\\\\\\\\\\"Microsoft.DPrep.GetDatastoreFilesBlock\\\\\\\\\\\\\\\", \\\\\\\\\\\\\\\"arguments\\\\\\\\\\\\\\\": {\\\\\\\\\\\\\\\"datastores\\\\\\\\\\\\\\\": [{\\\\\\\\\\\\\\\"datastoreName\\\\\\\\\\\\\\\": \\\\\\\\\\\\\\\"workspacefilestore\\\\\\\\\\\\\\\", \\\\\\\\\\\\\\\"path\\\\\\\\\\\\\\\": \\\\\\\\\\\\\\\"GEFCom2014/ds_valid.csv\\\\\\\\\\\\\\\", \\\\\\\\\\\\\\\"resourceGroup\\\\\\\\\\\\\\\": \\\\\\\\\\\\\\\"AML2\\\\\\\\\\\\\\\", \\\\\\\\\\\\\\\"subscription\\\\\\\\\\\\\\\": \\\\\\\\\\\\\\\"6fa1b60b-c4be-4966-a446-261a3ad62d42\\\\\\\\\\\\\\\", \\\\\\\\\\\\\\\"workspaceName\\\\\\\\\\\\\\\": \\\\\\\\\\\\\\\"AML2\\\\\\\\\\\\\\\"}]}, \\\\\\\\\\\\\\\"localData\\\\\\\\\\\\\\\": {}, \\\\\\\\\\\\\\\"isEnabled\\\\\\\\\\\\\\\": true, \\\\\\\\\\\\\\\"name\\\\\\\\\\\\\\\": null, \\\\\\\\\\\\\\\"annotation\\\\\\\\\\\\\\\": null}, {\\\\\\\\\\\\\\\"id\\\\\\\\\\\\\\\": \\\\\\\\\\\\\\\"833fa7f9-c793-4fdc-a617-19aaf609aa26\\\\\\\\\\\\\\\", \\\\\\\\\\\\\\\"type\\\\\\\\\\\\\\\": \\\\\\\\\\\\\\\"Microsoft.DPrep.ParseDelimitedBlock\\\\\\\\\\\\\\\", \\\\\\\\\\\\\\\"arguments\\\\\\\\\\\\\\\": {\\\\\\\\\\\\\\\"columnHeadersMode\\\\\\\\\\\\\\\": 3, \\\\\\\\\\\\\\\"fileEncoding\\\\\\\\\\\\\\\": 0, \\\\\\\\\\\\\\\"handleQuotedLineBreaks\\\\\\\\\\\\\\\": false, \\\\\\\\\\\\\\\"preview\\\\\\\\\\\\\\\": false, \\\\\\\\\\\\\\\"separator\\\\\\\\\\\\\\\": \\\\\\\\\\\\\\\",\\\\\\\\\\\\\\\", \\\\\\\\\\\\\\\"skipRows\\\\\\\\\\\\\\\": 0, \\\\\\\\\\\\\\\"skipRowsMode\\\\\\\\\\\\\\\": 0}, \\\\\\\\\\\\\\\"localData\\\\\\\\\\\\\\\": {}, \\\\\\\\\\\\\\\"isEnabled\\\\\\\\\\\\\\\": true, \\\\\\\\\\\\\\\"name\\\\\\\\\\\\\\\": null, \\\\\\\\\\\\\\\"annotation\\\\\\\\\\\\\\\": null}, {\\\\\\\\\\\\\\\"id\\\\\\\\\\\\\\\": \\\\\\\\\\\\\\\"88893d23-8439-41d0-9da0-5c0c6965b7bb\\\\\\\\\\\\\\\", \\\\\\\\\\\\\\\"type\\\\\\\\\\\\\\\": \\\\\\\\\\\\\\\"Microsoft.DPrep.DropColumnsBlock\\\\\\\\\\\\\\\", \\\\\\\\\\\\\\\"arguments\\\\\\\\\\\\\\\": {\\\\\\\\\\\\\\\"columns\\\\\\\\\\\\\\\": {\\\\\\\\\\\\\\\"type\\\\\\\\\\\\\\\": 0, \\\\\\\\\\\\\\\"details\\\\\\\\\\\\\\\": {\\\\\\\\\\\\\\\"selectedColumns\\\\\\\\\\\\\\\": [\\\\\\\\\\\\\\\"Path\\\\\\\\\\\\\\\"]}}}, \\\\\\\\\\\\\\\"localData\\\\\\\\\\\\\\\": {}, \\\\\\\\\\\\\\\"isEnabled\\\\\\\\\\\\\\\": true, \\\\\\\\\\\\\\\"name\\\\\\\\\\\\\\\": null, \\\\\\\\\\\\\\\"annotation\\\\\\\\\\\\\\\": null}, {\\\\\\\\\\\\\\\"id\\\\\\\\\\\\\\\": \\\\\\\\\\\\\\\"fe18b85e-e3ef-4a84-a516-21c783e28c96\\\\\\\\\\\\\\\", \\\\\\\\\\\\\\\"type\\\\\\\\\\\\\\\": \\\\\\\\\\\\\\\"Microsoft.DPrep.SetColumnTypesBlock\\\\\\\\\\\\\\\", \\\\\\\\\\\\\\\"arguments\\\\\\\\\\\\\\\": {\\\\\\\\\\\\\\\"columnConversion\\\\\\\\\\\\\\\": [{\\\\\\\\\\\\\\\"column\\\\\\\\\\\\\\\": {\\\\\\\\\\\\\\\"type\\\\\\\\\\\\\\\": 2, \\\\\\\\\\\\\\\"details\\\\\\\\\\\\\\\": {\\\\\\\\\\\\\\\"selectedColumn\\\\\\\\\\\\\\\": \\\\\\\\\\\\\\\"load\\\\\\\\\\\\\\\"}}, \\\\\\\\\\\\\\\"typeProperty\\\\\\\\\\\\\\\": 3}, {\\\\\\\\\\\\\\\"column\\\\\\\\\\\\\\\": {\\\\\\\\\\\\\\\"type\\\\\\\\\\\\\\\": 2, \\\\\\\\\\\\\\\"details\\\\\\\\\\\\\\\": {\\\\\\\\\\\\\\\"selectedColumn\\\\\\\\\\\\\\\": \\\\\\\\\\\\\\\"temp\\\\\\\\\\\\\\\"}}, \\\\\\\\\\\\\\\"typeProperty\\\\\\\\\\\\\\\": 3}, {\\\\\\\\\\\\\\\"column\\\\\\\\\\\\\\\": {\\\\\\\\\\\\\\\"type\\\\\\\\\\\\\\\": 2, \\\\\\\\\\\\\\\"details\\\\\\\\\\\\\\\": {\\\\\\\\\\\\\\\"selectedColumn\\\\\\\\\\\\\\\": \\\\\\\\\\\\\\\"timestamp\\\\\\\\\\\\\\\"}}, \\\\\\\\\\\\\\\"typeArguments\\\\\\\\\\\\\\\": {\\\\\\\\\\\\\\\"dateTimeFormats\\\\\\\\\\\\\\\": [\\\\\\\\\\\\\\\"%Y-%m-%d %H:%M:%S\\\\\\\\\\\\\\\"]}, \\\\\\\\\\\\\\\"typeProperty\\\\\\\\\\\\\\\": 4}]}, \\\\\\\\\\\\\\\"localData\\\\\\\\\\\\\\\": {}, \\\\\\\\\\\\\\\"isEnabled\\\\\\\\\\\\\\\": true, \\\\\\\\\\\\\\\"name\\\\\\\\\\\\\\\": null, \\\\\\\\\\\\\\\"annotation\\\\\\\\\\\\\\\": null}], \\\\\\\\\\\\\\\"inspectors\\\\\\\\\\\\\\\": [], \\\\\\\\\\\\\\\"meta\\\\\\\\\\\\\\\": {\\\\\\\\\\\\\\\"savedDatasetId\\\\\\\\\\\\\\\": \\\\\\\\\\\\\\\"9171896a-2fc2-428f-8a60-3581467cbd74\\\\\\\\\\\\\\\", \\\\\\\\\\\\\\\"datasetType\\\\\\\\\\\\\\\": \\\\\\\\\\\\\\\"tabular\\\\\\\\\\\\\\\", \\\\\\\\\\\\\\\"subscriptionId\\\\\\\\\\\\\\\": \\\\\\\\\\\\\\\"6fa1b60b-c4be-4966-a446-261a3ad62d42\\\\\\\\\\\\\\\", \\\\\\\\\\\\\\\"workspaceId\\\\\\\\\\\\\\\": \\\\\\\\\\\\\\\"2a3eb3af-2a80-46a5-afc5-e7ebb6a68bb6\\\\\\\\\\\\\\\", \\\\\\\\\\\\\\\"workspaceLocation\\\\\\\\\\\\\\\": \\\\\\\\\\\\\\\"southcentralus\\\\\\\\\\\\\\\"}}\\\\\\\", \\\\\\\"activities\\\\\\\": 0}\", \"EnableSubsampling\": \"False\", \"runTemplate\": \"AutoML\", \"azureml.runsource\": \"automl\", \"display_task_type\": \"forecasting\", \"dependencies_versions\": \"{\\\"azureml-train\\\": \\\"1.0.74\\\", \\\"azureml-train-restclients-hyperdrive\\\": \\\"1.0.74\\\", \\\"azureml-train-core\\\": \\\"1.0.74\\\", \\\"azureml-train-automl\\\": \\\"1.0.74\\\", \\\"azureml-telemetry\\\": \\\"1.0.74\\\", \\\"azureml-sdk\\\": \\\"1.0.74\\\", \\\"azureml-pipeline\\\": \\\"1.0.74\\\", \\\"azureml-pipeline-steps\\\": \\\"1.0.74\\\", \\\"azureml-pipeline-core\\\": \\\"1.0.74\\\", \\\"azureml-model-management-sdk\\\": \\\"1.0.1b6.post1\\\", \\\"azureml-interpret\\\": \\\"1.0.74\\\", \\\"azureml-explain-model\\\": \\\"1.0.74\\\", \\\"azureml-defaults\\\": \\\"1.0.74\\\", \\\"azureml-dataprep\\\": \\\"1.1.30\\\", \\\"azureml-dataprep-native\\\": \\\"13.1.0\\\", \\\"azureml-core\\\": \\\"1.0.74\\\", \\\"azureml-automl-core\\\": \\\"1.0.74\\\"}\", \"ContentSnapshotId\": \"b68763e7-8453-467b-9ae3-36cf53f4edbd\", \"snapshotId\": \"b68763e7-8453-467b-9ae3-36cf53f4edbd\", \"azureml.git.repository_uri\": \"git@github.com:jspoelstra/DeepLearningForTimeSeriesForecasting.git\", \"mlflow.source.git.repoURL\": \"git@github.com:jspoelstra/DeepLearningForTimeSeriesForecasting.git\", \"azureml.git.branch\": \"jacob/tf2\", \"mlflow.source.git.branch\": \"jacob/tf2\", \"azureml.git.commit\": \"40c53f1cc3965fb2f774fd651c115313cdd861fe\", \"mlflow.source.git.commit\": \"40c53f1cc3965fb2f774fd651c115313cdd861fe\", \"azureml.git.dirty\": \"False\", \"SetupRunId\": \"AutoML_adfa081b-6599-4b73-87bf-13bf35a20f1d_setup\", \"ProblemInfoJsonString\": \"{\\\"dataset_num_categorical\\\": 0, \\\"is_sparse\\\": false, \\\"subsampling\\\": false, \\\"dataset_classes\\\": 2632, \\\"dataset_features\\\": 13, \\\"dataset_samples\\\": 23376, \\\"single_frequency_class_detected\\\": false}\"}, \"tags\": {\"model_explain_run\": \"best_run\", \"experiment_status\": \"ModelSelection\", \"experiment_status_descr\": \"Beginning model selection.\", \"pipeline_id\": \"<556664b7f5b4dfa8d913b971876bc80e41c8fe8d>;<6b224ce426beccd1245ad9f8effc592037766de8>;<fc6f4d010236909cda7b874457942eb2fc31ccdc>;<6cb59fbe3daa775d378fc310e131b9af778cbb79>;<fe6f98be1450776d985fc5790daf14b34df1914c>;<ea84c69e4cd7c68a00aee8ca61189201f080011f>;<d05d0fe3162efc3dc6f99f8fa72e40c97f668bbd>;<88558a623abf8eb359a15a4d4678665909a9c546>;<252aae2e02d15872ec9e91c7c9a3e6ae72156ee3>;<ba1000355025c218abaf079ee77835fe5899ec63>;<9df6066a4d5fd5d41041945e2613338dc08e93d7>;<__AutoML_Ensemble__>;<__AutoML_Stack_Ensemble__>;\", \"score\": \"<0.0476326943358515>;<0.0659560068963014>;<0.151758222711268>;<0.0825743698429418>;<0.045876890865496>;<0.0528111136065861>;<0.046845446607576>;<0.0655630597369079>;<0.0526079130517428>;<0.0696526528029934>;<0.0722316124578007>;<0.0409009981307456>;<0.0408647164299282>;\", \"predicted_cost\": \"<0.5>;<0.5>;<0.32684>;<0.0625379183526089>;<0.109056808691033>;<0.0249906385233115>;<0.0387608552747757>;<0.0618743626827139>;<0.0953933272445394>;<0.0228749705682223>;<0.0214617923500298>;<0>;<0>;\", \"fit_time\": \"<0.32684>;<0.06762>;<0.019022>;<0.019747>;<0.214843>;<0.031729>;<0.055488>;<0.023905>;<0.40029>;<0.036397>;<0.034637>;<2>;<3>;\", \"training_percent\": \"<100>;<100>;<100>;<100>;<100>;<100>;<100>;<100>;<100>;<100>;<100>;<100>;<100>;\", \"iteration\": \"<0>;<1>;<2>;<3>;<4>;<5>;<7>;<8>;<9>;<6>;<10>;<11>;<12>;\", \"run_preprocessor\": \"<StandardScalerWrapper>;<StandardScalerWrapper>;<StandardScalerWrapper>;<MinMaxScaler>;<MaxAbsScaler>;<MaxAbsScaler>;<StandardScalerWrapper>;<MaxAbsScaler>;<StandardScalerWrapper>;<MinMaxScaler>;<MinMaxScaler>;<>;<>;\", \"run_algorithm\": \"<RandomForest>;<LightGBM>;<LassoLars>;<DecisionTree>;<RandomForest>;<DecisionTree>;<DecisionTree>;<DecisionTree>;<LightGBM>;<DecisionTree>;<DecisionTree>;<VotingEnsemble>;<StackEnsemble>;\"}, \"end_time_utc\": \"2019-12-08T04:00:36.183389Z\", \"status\": \"Completed\", \"log_files\": {}, \"log_groups\": [], \"run_duration\": \"0:16:43\"}, \"child_runs\": [{\"run_id\": \"AutoML_adfa081b-6599-4b73-87bf-13bf35a20f1d_0\", \"run_number\": 576, \"metric\": null, \"status\": \"Completed\", \"run_type\": \"azureml.scriptrun\", \"training_percent\": \"100\", \"start_time\": \"2019-12-08T03:49:20.923203Z\", \"end_time\": \"2019-12-08T03:50:14.472845Z\", \"created_time\": \"2019-12-08T03:49:09.19083Z\", \"created_time_dt\": \"2019-12-08T03:49:09.19083Z\", \"duration\": \"0:01:05\", \"iteration\": \"0\", \"goal\": \"normalized_root_mean_squared_error_min\", \"run_name\": \"StandardScalerWrapper, RandomForest\", \"run_properties\": \"<automl.client.core.runtime.model_wrappers.StandardScalerWrapper object at 0x7fb1111154e0\", \"primary_metric\": 0.04763269, \"best_metric\": 0.04763269}, {\"run_id\": \"AutoML_adfa081b-6599-4b73-87bf-13bf35a20f1d_1\", \"run_number\": 577, \"metric\": null, \"status\": \"Completed\", \"run_type\": \"azureml.scriptrun\", \"training_percent\": \"100\", \"start_time\": \"2019-12-08T03:50:16.050689Z\", \"end_time\": \"2019-12-08T03:51:10.542452Z\", \"created_time\": \"2019-12-08T03:49:09.192714Z\", \"created_time_dt\": \"2019-12-08T03:49:09.192714Z\", \"duration\": \"0:02:01\", \"iteration\": \"1\", \"goal\": \"normalized_root_mean_squared_error_min\", \"run_name\": \"StandardScalerWrapper, LightGBM\", \"run_properties\": \"<automl.client.core.runtime.model_wrappers.StandardScalerWrapper object at 0x7f8f1854f978\", \"primary_metric\": 0.06595601, \"best_metric\": 0.04763269}, {\"run_id\": \"AutoML_adfa081b-6599-4b73-87bf-13bf35a20f1d_2\", \"run_number\": 582, \"metric\": null, \"status\": \"Completed\", \"run_type\": \"azureml.scriptrun\", \"training_percent\": \"100\", \"start_time\": \"2019-12-08T03:51:09.727092Z\", \"end_time\": \"2019-12-08T03:52:06.571814Z\", \"created_time\": \"2019-12-08T03:50:20.215944Z\", \"created_time_dt\": \"2019-12-08T03:50:20.215944Z\", \"duration\": \"0:01:46\", \"iteration\": \"2\", \"goal\": \"normalized_root_mean_squared_error_min\", \"run_name\": \"StandardScalerWrapper, LassoLars\", \"run_properties\": \"<automl.client.core.runtime.model_wrappers.StandardScalerWrapper object at 0x7fbd30dbcb70\", \"primary_metric\": 0.15175822, \"best_metric\": 0.04763269}, {\"run_id\": \"AutoML_adfa081b-6599-4b73-87bf-13bf35a20f1d_3\", \"run_number\": 584, \"metric\": null, \"status\": \"Completed\", \"run_type\": \"azureml.scriptrun\", \"training_percent\": \"100\", \"start_time\": \"2019-12-08T03:52:09.227862Z\", \"end_time\": \"2019-12-08T03:53:00.230585Z\", \"created_time\": \"2019-12-08T03:51:14.508852Z\", \"created_time_dt\": \"2019-12-08T03:51:14.508852Z\", \"duration\": \"0:01:45\", \"iteration\": \"3\", \"goal\": \"normalized_root_mean_squared_error_min\", \"run_name\": \"MinMaxScaler, DecisionTree\", \"run_properties\": \"copy=True, feature_range=(0, 1\", \"primary_metric\": 0.08257437, \"best_metric\": 0.04763269}, {\"run_id\": \"AutoML_adfa081b-6599-4b73-87bf-13bf35a20f1d_4\", \"run_number\": 585, \"metric\": null, \"status\": \"Completed\", \"run_type\": \"azureml.scriptrun\", \"training_percent\": \"100\", \"start_time\": \"2019-12-08T03:53:03.384025Z\", \"end_time\": \"2019-12-08T03:53:54.421507Z\", \"created_time\": \"2019-12-08T03:52:09.41091Z\", \"created_time_dt\": \"2019-12-08T03:52:09.41091Z\", \"duration\": \"0:01:45\", \"iteration\": \"4\", \"goal\": \"normalized_root_mean_squared_error_min\", \"run_name\": \"MaxAbsScaler, RandomForest\", \"run_properties\": \"copy=True\", \"primary_metric\": 0.04587689, \"best_metric\": 0.04587689}, {\"run_id\": \"AutoML_adfa081b-6599-4b73-87bf-13bf35a20f1d_5\", \"run_number\": 588, \"metric\": null, \"status\": \"Completed\", \"run_type\": \"azureml.scriptrun\", \"training_percent\": \"100\", \"start_time\": \"2019-12-08T03:53:56.664921Z\", \"end_time\": \"2019-12-08T03:54:47.865272Z\", \"created_time\": \"2019-12-08T03:53:03.465977Z\", \"created_time_dt\": \"2019-12-08T03:53:03.465977Z\", \"duration\": \"0:01:44\", \"iteration\": \"5\", \"goal\": \"normalized_root_mean_squared_error_min\", \"run_name\": \"MaxAbsScaler, DecisionTree\", \"run_properties\": \"copy=True\", \"primary_metric\": 0.05281111, \"best_metric\": 0.04587689}, {\"run_id\": \"AutoML_adfa081b-6599-4b73-87bf-13bf35a20f1d_6\", \"run_number\": 592, \"metric\": null, \"status\": \"Canceled\", \"run_type\": \"azureml.scriptrun\", \"training_percent\": \"100\", \"start_time\": \"2019-12-08T03:54:48.785354Z\", \"end_time\": \"2019-12-08T03:59:18.211359Z\", \"created_time\": \"2019-12-08T03:54:08.245966Z\", \"created_time_dt\": \"2019-12-08T03:54:08.245966Z\", \"duration\": \"0:05:09\", \"iteration\": \"6\", \"goal\": \"normalized_root_mean_squared_error_min\", \"run_name\": \"MinMaxScaler, DecisionTree\", \"run_properties\": \"copy=True, feature_range=(0, 1\", \"primary_metric\": 0.06965265, \"best_metric\": 0.04587689}, {\"run_id\": \"AutoML_adfa081b-6599-4b73-87bf-13bf35a20f1d_7\", \"run_number\": 594, \"metric\": null, \"status\": \"Completed\", \"run_type\": \"azureml.scriptrun\", \"training_percent\": \"100\", \"start_time\": \"2019-12-08T03:55:04.218688Z\", \"end_time\": \"2019-12-08T03:55:51.789107Z\", \"created_time\": \"2019-12-08T03:54:52.372199Z\", \"created_time_dt\": \"2019-12-08T03:54:52.372199Z\", \"duration\": \"0:00:59\", \"iteration\": \"7\", \"goal\": \"normalized_root_mean_squared_error_min\", \"run_name\": \"StandardScalerWrapper, DecisionTree\", \"run_properties\": \"<automl.client.core.runtime.model_wrappers.StandardScalerWrapper object at 0x7fa4dc0474e0\", \"primary_metric\": 0.04684545, \"best_metric\": 0.04587689}, {\"run_id\": \"AutoML_adfa081b-6599-4b73-87bf-13bf35a20f1d_8\", \"run_number\": 597, \"metric\": null, \"status\": \"Completed\", \"run_type\": \"azureml.scriptrun\", \"training_percent\": \"100\", \"start_time\": \"2019-12-08T03:56:08.791833Z\", \"end_time\": \"2019-12-08T03:57:02.236879Z\", \"created_time\": \"2019-12-08T03:55:57.630345Z\", \"created_time_dt\": \"2019-12-08T03:55:57.630345Z\", \"duration\": \"0:01:04\", \"iteration\": \"8\", \"goal\": \"normalized_root_mean_squared_error_min\", \"run_name\": \"MaxAbsScaler, DecisionTree\", \"run_properties\": \"copy=True\", \"primary_metric\": 0.06556306, \"best_metric\": 0.04587689}, {\"run_id\": \"AutoML_adfa081b-6599-4b73-87bf-13bf35a20f1d_9\", \"run_number\": 598, \"metric\": null, \"status\": \"Completed\", \"run_type\": \"azureml.scriptrun\", \"training_percent\": \"100\", \"start_time\": \"2019-12-08T03:57:18.673091Z\", \"end_time\": \"2019-12-08T03:58:11.957059Z\", \"created_time\": \"2019-12-08T03:57:07.307359Z\", \"created_time_dt\": \"2019-12-08T03:57:07.307359Z\", \"duration\": \"0:01:04\", \"iteration\": \"9\", \"goal\": \"normalized_root_mean_squared_error_min\", \"run_name\": \"StandardScalerWrapper, LightGBM\", \"run_properties\": \"<automl.client.core.runtime.model_wrappers.StandardScalerWrapper object at 0x7f791cefb7b8\", \"primary_metric\": 0.05260791, \"best_metric\": 0.04587689}, {\"run_id\": \"AutoML_adfa081b-6599-4b73-87bf-13bf35a20f1d_10\", \"run_number\": 599, \"metric\": null, \"status\": \"Canceled\", \"run_type\": \"azureml.scriptrun\", \"training_percent\": \"100\", \"start_time\": \"2019-12-08T03:58:28.540641Z\", \"end_time\": \"2019-12-08T03:59:18.379418Z\", \"created_time\": \"2019-12-08T03:58:17.322035Z\", \"created_time_dt\": \"2019-12-08T03:58:17.322035Z\", \"duration\": \"0:01:01\", \"iteration\": \"10\", \"goal\": \"normalized_root_mean_squared_error_min\", \"run_name\": \"MinMaxScaler, DecisionTree\", \"run_properties\": \"copy=True, feature_range=(0, 1\", \"primary_metric\": 0.07223161, \"best_metric\": 0.04587689}, {\"run_id\": \"AutoML_adfa081b-6599-4b73-87bf-13bf35a20f1d_11\", \"run_number\": 601, \"metric\": null, \"status\": \"Completed\", \"run_type\": \"azureml.scriptrun\", \"training_percent\": \"100\", \"start_time\": \"2019-12-08T03:59:33.013592Z\", \"end_time\": \"2019-12-08T04:00:32.699251Z\", \"created_time\": \"2019-12-08T03:59:21.728523Z\", \"created_time_dt\": \"2019-12-08T03:59:21.728523Z\", \"duration\": \"0:01:10\", \"iteration\": \"11\", \"goal\": \"normalized_root_mean_squared_error_min\", \"run_name\": \"VotingEnsemble\", \"run_properties\": \"estimators=[('4', Pipeline(memory=None,\\n     steps=[('maxabsscaler', MaxAbsScaler(copy=True\", \"primary_metric\": 0.040901, \"best_metric\": 0.040901}, {\"run_id\": \"AutoML_adfa081b-6599-4b73-87bf-13bf35a20f1d_12\", \"run_number\": 602, \"metric\": null, \"status\": \"Completed\", \"run_type\": \"azureml.scriptrun\", \"training_percent\": \"100\", \"start_time\": \"2019-12-08T03:59:32.906116Z\", \"end_time\": \"2019-12-08T04:00:26.349719Z\", \"created_time\": \"2019-12-08T03:59:21.757352Z\", \"created_time_dt\": \"2019-12-08T03:59:21.757352Z\", \"duration\": \"0:01:04\", \"iteration\": \"12\", \"goal\": \"normalized_root_mean_squared_error_min\", \"run_name\": \"StackEnsemble\", \"run_properties\": \"base_learners=[('4', Pipeline(memory=None,\\n     steps=[('maxabsscaler', MaxAbsScaler(copy=True\", \"primary_metric\": 0.04086472, \"best_metric\": 0.04086472}], \"children_metrics\": {\"categories\": [0], \"series\": {\"spearman_correlation\": [{\"categories\": [\"0\", \"1\", \"2\", \"3\", \"4\", \"5\", \"6\", \"7\", \"8\", \"9\", \"10\", \"11\", \"12\"], \"mode\": \"markers\", \"name\": \"spearman_correlation\", \"stepped\": false, \"type\": \"scatter\", \"data\": [0.9206698492508533, 0.9199311896889624, 0.5637056199908368, 0.7855341171224497, 0.9370809394845143, 0.8873872166259918, 0.862362014580458, 0.9269825304229019, 0.8566109990480364, 0.9420297071912045, 0.8640231821048285, 0.9427460929305133, 0.9430677502654429]}, {\"categories\": [\"0\", \"1\", \"2\", \"3\", \"4\", \"5\", \"6\", \"7\", \"8\", \"9\", \"10\", \"11\", \"12\"], \"mode\": \"lines\", \"name\": \"spearman_correlation_max\", \"stepped\": true, \"type\": \"scatter\", \"data\": [0.9206698492508533, 0.9206698492508533, 0.9206698492508533, 0.9206698492508533, 0.9370809394845143, 0.9370809394845143, 0.9370809394845143, 0.9370809394845143, 0.9370809394845143, 0.9420297071912045, 0.9420297071912045, 0.9427460929305133, 0.9430677502654429]}], \"median_absolute_error\": [{\"categories\": [\"0\", \"1\", \"2\", \"3\", \"4\", \"5\", \"6\", \"7\", \"8\", \"9\", \"10\", \"11\", \"12\"], \"mode\": \"markers\", \"name\": \"median_absolute_error\", \"stepped\": false, \"type\": \"scatter\", \"data\": [94.93059933963355, 149.81243624011836, 298.1508809929801, 173.78072181215225, 79.4398827318389, 85.64746538658119, 142.27633441563103, 83.36714656804475, 132.7876275009753, 81.95248679656879, 149.4572172619046, 72.68687836679601, 73.32949368179311]}, {\"categories\": [\"0\", \"1\", \"2\", \"3\", \"4\", \"5\", \"6\", \"7\", \"8\", \"9\", \"10\", \"11\", \"12\"], \"mode\": \"lines\", \"name\": \"median_absolute_error_min\", \"stepped\": true, \"type\": \"scatter\", \"data\": [94.93059933963355, 94.93059933963355, 94.93059933963355, 94.93059933963355, 79.4398827318389, 79.4398827318389, 79.4398827318389, 79.4398827318389, 79.4398827318389, 79.4398827318389, 79.4398827318389, 72.68687836679601, 72.68687836679601]}], \"mean_absolute_error\": [{\"categories\": [\"0\", \"1\", \"2\", \"3\", \"4\", \"5\", \"6\", \"7\", \"8\", \"9\", \"10\", \"11\", \"12\"], \"mode\": \"markers\", \"name\": \"mean_absolute_error\", \"stepped\": false, \"type\": \"scatter\", \"data\": [118.34813399647814, 170.7011597494745, 379.81754572269756, 207.36973501239214, 106.35466132432674, 122.14899079676634, 174.56440013081766, 111.30526175131916, 164.24143021099044, 117.64827363634132, 182.98746464205445, 96.5462044306266, 96.99780445051108]}, {\"categories\": [\"0\", \"1\", \"2\", \"3\", \"4\", \"5\", \"6\", \"7\", \"8\", \"9\", \"10\", \"11\", \"12\"], \"mode\": \"lines\", \"name\": \"mean_absolute_error_min\", \"stepped\": true, \"type\": \"scatter\", \"data\": [118.34813399647814, 118.34813399647814, 118.34813399647814, 118.34813399647814, 106.35466132432674, 106.35466132432674, 106.35466132432674, 106.35466132432674, 106.35466132432674, 106.35466132432674, 106.35466132432674, 96.5462044306266, 96.5462044306266]}], \"normalized_median_absolute_error\": [{\"categories\": [\"0\", \"1\", \"2\", \"3\", \"4\", \"5\", \"6\", \"7\", \"8\", \"9\", \"10\", \"11\", \"12\"], \"mode\": \"markers\", \"name\": \"normalized_median_absolute_error\", \"stepped\": false, \"type\": \"scatter\", \"data\": [0.02925442198447875, 0.04616716062869595, 0.09188008659259787, 0.05355338114396063, 0.024480703461275472, 0.026393671921904834, 0.043844787185094304, 0.02569095425825724, 0.04092068644097852, 0.025255003635306254, 0.046057694071465205, 0.022399654350322346, 0.022597686804866905]}, {\"categories\": [\"0\", \"1\", \"2\", \"3\", \"4\", \"5\", \"6\", \"7\", \"8\", \"9\", \"10\", \"11\", \"12\"], \"mode\": \"lines\", \"name\": \"normalized_median_absolute_error_min\", \"stepped\": true, \"type\": \"scatter\", \"data\": [0.02925442198447875, 0.02925442198447875, 0.02925442198447875, 0.02925442198447875, 0.024480703461275472, 0.024480703461275472, 0.024480703461275472, 0.024480703461275472, 0.024480703461275472, 0.024480703461275472, 0.024480703461275472, 0.022399654350322346, 0.022399654350322346]}], \"root_mean_squared_error\": [{\"categories\": [\"0\", \"1\", \"2\", \"3\", \"4\", \"5\", \"6\", \"7\", \"8\", \"9\", \"10\", \"11\", \"12\"], \"mode\": \"markers\", \"name\": \"root_mean_squared_error\", \"stepped\": false, \"type\": \"scatter\", \"data\": [154.56809311983824, 214.02724237849787, 492.45543269806586, 267.95383014034616, 148.87051085853463, 171.37206365337175, 226.02285834571364, 152.01347424158402, 212.7521288462663, 170.71267785290524, 234.3915824255633, 132.72373893426962, 132.60600481511716]}, {\"categories\": [\"0\", \"1\", \"2\", \"3\", \"4\", \"5\", \"6\", \"7\", \"8\", \"9\", \"10\", \"11\", \"12\"], \"mode\": \"lines\", \"name\": \"root_mean_squared_error_min\", \"stepped\": true, \"type\": \"scatter\", \"data\": [154.56809311983824, 154.56809311983824, 154.56809311983824, 154.56809311983824, 148.87051085853463, 148.87051085853463, 148.87051085853463, 148.87051085853463, 148.87051085853463, 148.87051085853463, 148.87051085853463, 132.72373893426962, 132.60600481511716]}], \"normalized_root_mean_squared_error\": [{\"categories\": [\"0\", \"1\", \"2\", \"3\", \"4\", \"5\", \"6\", \"7\", \"8\", \"9\", \"10\", \"11\", \"12\"], \"mode\": \"markers\", \"name\": \"normalized_root_mean_squared_error\", \"stepped\": false, \"type\": \"scatter\", \"data\": [0.04763269433585154, 0.06595600689630135, 0.15175822271126838, 0.08257436984294181, 0.04587689086549603, 0.05281111360658606, 0.06965265280299342, 0.04684544660757597, 0.06556305973690794, 0.052607913051742755, 0.07223161245780071, 0.040900998130745644, 0.04086471642992825]}, {\"categories\": [\"0\", \"1\", \"2\", \"3\", \"4\", \"5\", \"6\", \"7\", \"8\", \"9\", \"10\", \"11\", \"12\"], \"mode\": \"lines\", \"name\": \"normalized_root_mean_squared_error_min\", \"stepped\": true, \"type\": \"scatter\", \"data\": [0.04763269433585154, 0.04763269433585154, 0.04763269433585154, 0.04763269433585154, 0.04587689086549603, 0.04587689086549603, 0.04587689086549603, 0.04587689086549603, 0.04587689086549603, 0.04587689086549603, 0.04587689086549603, 0.040900998130745644, 0.04086471642992825]}], \"mean_absolute_percentage_error\": [{\"categories\": [\"0\", \"1\", \"2\", \"3\", \"4\", \"5\", \"6\", \"7\", \"8\", \"9\", \"10\", \"11\", \"12\"], \"mode\": \"markers\", \"name\": \"mean_absolute_percentage_error\", \"stepped\": false, \"type\": \"scatter\", \"data\": [3.7674577987090894, 5.810552829888555, 13.32767303930951, 6.703749029337573, 3.2952385324348663, 3.821174571549393, 5.584922894707687, 3.5273877180869486, 5.255163634934236, 3.584184355812958, 6.116679382647695, 2.9877482934301036, 3.0020736936476125]}, {\"categories\": [\"0\", \"1\", \"2\", \"3\", \"4\", \"5\", \"6\", \"7\", \"8\", \"9\", \"10\", \"11\", \"12\"], \"mode\": \"lines\", \"name\": \"mean_absolute_percentage_error_min\", \"stepped\": true, \"type\": \"scatter\", \"data\": [3.7674577987090894, 3.7674577987090894, 3.7674577987090894, 3.7674577987090894, 3.2952385324348663, 3.2952385324348663, 3.2952385324348663, 3.2952385324348663, 3.2952385324348663, 3.2952385324348663, 3.2952385324348663, 2.9877482934301036, 2.9877482934301036]}], \"normalized_root_mean_squared_log_error\": [{\"categories\": [\"0\", \"1\", \"2\", \"3\", \"4\", \"5\", \"6\", \"7\", \"8\", \"9\", \"10\", \"11\", \"12\"], \"mode\": \"markers\", \"name\": \"normalized_root_mean_squared_log_error\", \"stepped\": false, \"type\": \"scatter\", \"data\": [0.04945827617467293, 0.07403706675821266, 0.16376957932023997, 0.08481019050285167, 0.045656762352183536, 0.05301325245033148, 0.07212728653851114, 0.04834694114067292, 0.06724272076100749, 0.0514882342829576, 0.07834647633487875, 0.04059439016026029, 0.04054775440565946]}, {\"categories\": [\"0\", \"1\", \"2\", \"3\", \"4\", \"5\", \"6\", \"7\", \"8\", \"9\", \"10\", \"11\", \"12\"], \"mode\": \"lines\", \"name\": \"normalized_root_mean_squared_log_error_min\", \"stepped\": true, \"type\": \"scatter\", \"data\": [0.04945827617467293, 0.04945827617467293, 0.04945827617467293, 0.04945827617467293, 0.045656762352183536, 0.045656762352183536, 0.045656762352183536, 0.045656762352183536, 0.045656762352183536, 0.045656762352183536, 0.045656762352183536, 0.04059439016026029, 0.04054775440565946]}], \"r2_score\": [{\"categories\": [\"0\", \"1\", \"2\", \"3\", \"4\", \"5\", \"6\", \"7\", \"8\", \"9\", \"10\", \"11\", \"12\"], \"mode\": \"markers\", \"name\": \"r2_score\", \"stepped\": false, \"type\": \"scatter\", \"data\": [0.9082775981653282, 0.8241372613146897, 0.06895732830157619, 0.7243514839484682, 0.914914985406749, 0.8872502017745153, 0.8038716178091594, 0.9112844212628624, 0.8262264996895657, 0.8881161840717472, 0.7890790385046831, 0.9323710047039431, 0.9324909336444007]}, {\"categories\": [\"0\", \"1\", \"2\", \"3\", \"4\", \"5\", \"6\", \"7\", \"8\", \"9\", \"10\", \"11\", \"12\"], \"mode\": \"lines\", \"name\": \"r2_score_max\", \"stepped\": true, \"type\": \"scatter\", \"data\": [0.9082775981653282, 0.9082775981653282, 0.9082775981653282, 0.9082775981653282, 0.914914985406749, 0.914914985406749, 0.914914985406749, 0.914914985406749, 0.914914985406749, 0.914914985406749, 0.914914985406749, 0.9323710047039431, 0.9324909336444007]}], \"normalized_mean_absolute_error\": [{\"categories\": [\"0\", \"1\", \"2\", \"3\", \"4\", \"5\", \"6\", \"7\", \"8\", \"9\", \"10\", \"11\", \"12\"], \"mode\": \"markers\", \"name\": \"normalized_mean_absolute_error\", \"stepped\": false, \"type\": \"scatter\", \"data\": [0.036470919567481705, 0.052604363559160094, 0.11704700946770341, 0.06390438675266322, 0.0327749341523349, 0.03764221596202352, 0.05379488447790991, 0.0343005429125791, 0.05061369189861031, 0.03625524611289409, 0.05639059002836809, 0.02975229720512376, 0.029891465161944863]}, {\"categories\": [\"0\", \"1\", \"2\", \"3\", \"4\", \"5\", \"6\", \"7\", \"8\", \"9\", \"10\", \"11\", \"12\"], \"mode\": \"lines\", \"name\": \"normalized_mean_absolute_error_min\", \"stepped\": true, \"type\": \"scatter\", \"data\": [0.036470919567481705, 0.036470919567481705, 0.036470919567481705, 0.036470919567481705, 0.0327749341523349, 0.0327749341523349, 0.0327749341523349, 0.0327749341523349, 0.0327749341523349, 0.0327749341523349, 0.0327749341523349, 0.02975229720512376, 0.02975229720512376]}], \"root_mean_squared_log_error\": [{\"categories\": [\"0\", \"1\", \"2\", \"3\", \"4\", \"5\", \"6\", \"7\", \"8\", \"9\", \"10\", \"11\", \"12\"], \"mode\": \"markers\", \"name\": \"root_mean_squared_log_error\", \"stepped\": false, \"type\": \"scatter\", \"data\": [0.047992231634907595, 0.07184245655631681, 0.15891511377651257, 0.0822962428621364, 0.04430340246326653, 0.051441831137232635, 0.06998928613137152, 0.046913838846057654, 0.06524950888151375, 0.04996201762983165, 0.07602412641239154, 0.0393910893450566, 0.03934583596967879]}, {\"categories\": [\"0\", \"1\", \"2\", \"3\", \"4\", \"5\", \"6\", \"7\", \"8\", \"9\", \"10\", \"11\", \"12\"], \"mode\": \"lines\", \"name\": \"root_mean_squared_log_error_min\", \"stepped\": true, \"type\": \"scatter\", \"data\": [0.047992231634907595, 0.047992231634907595, 0.047992231634907595, 0.047992231634907595, 0.04430340246326653, 0.04430340246326653, 0.04430340246326653, 0.04430340246326653, 0.04430340246326653, 0.04430340246326653, 0.04430340246326653, 0.0393910893450566, 0.03934583596967879]}], \"explained_variance\": [{\"categories\": [\"0\", \"1\", \"2\", \"3\", \"4\", \"5\", \"6\", \"7\", \"8\", \"9\", \"10\", \"11\", \"12\"], \"mode\": \"markers\", \"name\": \"explained_variance\", \"stepped\": false, \"type\": \"scatter\", \"data\": [0.9107877857132806, 0.8464226391450279, 0.33232680004268655, 0.7445201620629379, 0.9149833578020624, 0.8875728427425134, 0.8270273292439421, 0.9115968153535757, 0.8515946228208486, 0.8905113802111451, 0.8051742564747744, 0.9324587493730606, 0.9324909336444007]}, {\"categories\": [\"0\", \"1\", \"2\", \"3\", \"4\", \"5\", \"6\", \"7\", \"8\", \"9\", \"10\", \"11\", \"12\"], \"mode\": \"lines\", \"name\": \"explained_variance_max\", \"stepped\": true, \"type\": \"scatter\", \"data\": [0.9107877857132806, 0.9107877857132806, 0.9107877857132806, 0.9107877857132806, 0.9149833578020624, 0.9149833578020624, 0.9149833578020624, 0.9149833578020624, 0.9149833578020624, 0.9149833578020624, 0.9149833578020624, 0.9324587493730606, 0.9324909336444007]}]}, \"metricName\": null, \"primaryMetricName\": \"normalized_root_mean_squared_error\", \"showLegend\": false}, \"run_metrics\": [], \"run_logs\": \"\\nRun is completed.\", \"graph\": {}, \"widget_settings\": {\"childWidgetDisplay\": \"popup\", \"send_telemetry\": false, \"log_level\": \"NOTSET\", \"sdk_version\": \"1.0.74\"}, \"loading\": false}"
     },
     "metadata": {},
     "output_type": "display_data"
    }
   ],
   "source": [
    "from azureml.widgets import RunDetails\n",
    "\n",
    "RunDetails(run).show()"
   ]
  },
  {
   "cell_type": "code",
   "execution_count": null,
   "metadata": {},
   "outputs": [],
   "source": []
  }
 ],
 "metadata": {
  "kernelspec": {
   "display_name": "Python 3.6 (dltf)",
   "language": "python",
   "name": "dltf"
  },
  "language_info": {
   "codemirror_mode": {
    "name": "ipython",
    "version": 3
   },
   "file_extension": ".py",
   "mimetype": "text/x-python",
   "name": "python",
   "nbconvert_exporter": "python",
   "pygments_lexer": "ipython3",
   "version": "3.6.9"
  }
 },
 "nbformat": 4,
 "nbformat_minor": 2
}
