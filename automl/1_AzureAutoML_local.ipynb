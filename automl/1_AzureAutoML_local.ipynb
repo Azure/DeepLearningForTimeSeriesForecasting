{
 "cells": [
  {
   "cell_type": "markdown",
   "metadata": {
    "slideshow": {
     "slide_type": "slide"
    }
   },
   "source": [
    "# AutoML model\n",
    "\n",
    "In this notebook, we demonstrate how to:\n",
    "- prepare time series data for training a forecasting model using an automated ML model builder\n",
    "- Creating an Experiment using an existing Workspace\n",
    "- Configure AutoML using 'AutoMLConfig'\n",
    "- Train the model on local compute \n",
    "- Explore the engineered features and results\n",
    "- Configuration and run AutoML for a time-series model with lag and rolling window features\n",
    "- Run and explore the forecast\n",
    "- evaluate the model on a test dataset\n",
    "\n",
    "The data in this example is taken from the GEFCom2014 forecasting competition<sup>1</sup>. It consists of 3 years of hourly electricity load and temperature values between 2012 and 2014. The task is to forecast future values of electricity load. In this example, we show how to forecast one time step ahead, using historical load and temperature data only.\n",
    "\n",
    "This notebook is based on the energy forecasting notebook provided [here](https://github.com/Azure/MachineLearningNotebooks/blob/master/how-to-use-azureml/automated-machine-learning/forecasting-energy-demand/auto-ml-forecasting-energy-demand.ipynb).\n",
    "\n",
    "<sup>1</sup>Tao Hong, Pierre Pinson, Shu Fan, Hamidreza Zareipour, Alberto Troccoli and Rob J. Hyndman, \"Probabilistic energy forecasting: Global Energy Forecasting Competition 2014 and beyond\", International Journal of Forecasting, vol.32, no.3, pp 896-913, July-September, 2016."
   ]
  },
  {
   "cell_type": "markdown",
   "metadata": {
    "slideshow": {
     "slide_type": "slide"
    }
   },
   "source": [
    "## Imports\n",
    "We start with the usual imports and settings"
   ]
  },
  {
   "cell_type": "code",
   "execution_count": 1,
   "metadata": {
    "slideshow": {
     "slide_type": "-"
    }
   },
   "outputs": [],
   "source": [
    "import sys\n",
    "sys.path.append('..')\n",
    "\n",
    "import matplotlib.pyplot as plt\n",
    "%matplotlib inline\n",
    "\n",
    "import pandas as pd\n",
    "pd.options.display.float_format = '{:,.2f}'.format\n",
    "\n",
    "import numpy as np\n",
    "np.set_printoptions(precision=2)\n",
    "\n",
    "# Squash warning messages for cleaner output in the notebook\n",
    "import warnings\n",
    "warnings.showwarning = lambda *args, **kwargs: None\n",
    "warnings.filterwarnings(\"ignore\")"
   ]
  },
  {
   "cell_type": "markdown",
   "metadata": {
    "slideshow": {
     "slide_type": "slide"
    }
   },
   "source": [
    "## Data\n",
    "Load the data from csv into a Pandas dataframe. Make sure to first complete the [0_data_setup](../0_data_setup.ipynb) notebook."
   ]
  },
  {
   "cell_type": "code",
   "execution_count": 2,
   "metadata": {
    "slideshow": {
     "slide_type": "-"
    }
   },
   "outputs": [
    {
     "data": {
      "text/html": [
       "<div>\n",
       "<style scoped>\n",
       "    .dataframe tbody tr th:only-of-type {\n",
       "        vertical-align: middle;\n",
       "    }\n",
       "\n",
       "    .dataframe tbody tr th {\n",
       "        vertical-align: top;\n",
       "    }\n",
       "\n",
       "    .dataframe thead th {\n",
       "        text-align: right;\n",
       "    }\n",
       "</style>\n",
       "<table border=\"1\" class=\"dataframe\">\n",
       "  <thead>\n",
       "    <tr style=\"text-align: right;\">\n",
       "      <th></th>\n",
       "      <th>load</th>\n",
       "      <th>temp</th>\n",
       "    </tr>\n",
       "  </thead>\n",
       "  <tbody>\n",
       "    <tr>\n",
       "      <th>2012-01-01 00:00:00</th>\n",
       "      <td>2,698.00</td>\n",
       "      <td>32.00</td>\n",
       "    </tr>\n",
       "    <tr>\n",
       "      <th>2012-01-01 01:00:00</th>\n",
       "      <td>2,558.00</td>\n",
       "      <td>32.67</td>\n",
       "    </tr>\n",
       "    <tr>\n",
       "      <th>2012-01-01 02:00:00</th>\n",
       "      <td>2,444.00</td>\n",
       "      <td>30.00</td>\n",
       "    </tr>\n",
       "    <tr>\n",
       "      <th>2012-01-01 03:00:00</th>\n",
       "      <td>2,402.00</td>\n",
       "      <td>31.00</td>\n",
       "    </tr>\n",
       "    <tr>\n",
       "      <th>2012-01-01 04:00:00</th>\n",
       "      <td>2,403.00</td>\n",
       "      <td>32.00</td>\n",
       "    </tr>\n",
       "  </tbody>\n",
       "</table>\n",
       "</div>"
      ],
      "text/plain": [
       "                        load  temp\n",
       "2012-01-01 00:00:00 2,698.00 32.00\n",
       "2012-01-01 01:00:00 2,558.00 32.67\n",
       "2012-01-01 02:00:00 2,444.00 30.00\n",
       "2012-01-01 03:00:00 2,402.00 31.00\n",
       "2012-01-01 04:00:00 2,403.00 32.00"
      ]
     },
     "execution_count": 2,
     "metadata": {},
     "output_type": "execute_result"
    }
   ],
   "source": [
    "import os\n",
    "\n",
    "file_name = os.path.join('../data', 'energy.parquet')\n",
    "energy = pd.read_parquet(file_name)\n",
    "energy.head()"
   ]
  },
  {
   "cell_type": "markdown",
   "metadata": {
    "slideshow": {
     "slide_type": "slide"
    }
   },
   "source": [
    "## Create train, validation and test sets\n",
    "\n",
    "We separate our dataset into train, validation and test sets. We train the model on the train set. The validation set is used to evaluate the model after each training epoch and ensure that the model is not overfitting the training data. After the model has finished training, we evaluate the model on the test set. We must ensure that the validation set and test set cover a later period in time from the training set, to ensure that the model does not gain from information from future time periods.\n",
    "\n",
    "We will allocate data as follows:\n",
    "* November 1, 2014 to December 31, 2014:  **test** set. \n",
    "* September 1, 2014 to October 31, 2014:  **validation** set. \n",
    "* Everything up to August 31, 2014: **training** set."
   ]
  },
  {
   "cell_type": "code",
   "execution_count": 3,
   "metadata": {
    "slideshow": {
     "slide_type": "fragment"
    }
   },
   "outputs": [],
   "source": [
    "valid_start_dt = '2014-08-31 23:59:59'\n",
    "test_start_dt = '2014-10-31 23:59:59'"
   ]
  },
  {
   "cell_type": "code",
   "execution_count": 4,
   "metadata": {
    "slideshow": {
     "slide_type": "subslide"
    }
   },
   "outputs": [
    {
     "data": {
      "image/png": "[encoded data removed]",
      "text/plain": [
       "<Figure size 1080x576 with 1 Axes>"
      ]
     },
     "metadata": {
      "needs_background": "light"
     },
     "output_type": "display_data"
    }
   ],
   "source": [
    "energy[:valid_start_dt][['load']] \\\n",
    "    .rename(columns={'load':'train'}) \\\n",
    "    .join(energy[valid_start_dt:test_start_dt][['load']] \\\n",
    "          .rename(columns={'load':'validation'}), how='outer') \\\n",
    "    .join(energy[test_start_dt:][['load']] \\\n",
    "          .rename(columns={'load':'test'}), how='outer') \\\n",
    "    .plot(y=['train', 'validation', 'test'], figsize=(15, 8), fontsize=12)\n",
    "plt.xlabel('timestamp', fontsize=12)\n",
    "plt.ylabel('load', fontsize=12)\n",
    "plt.show()"
   ]
  },
  {
   "cell_type": "markdown",
   "metadata": {
    "slideshow": {
     "slide_type": "slide"
    }
   },
   "source": [
    "## Data preparation - training set\n",
    "\n",
    "AutoML takes care of a lot of the details. We simply need to prepare a Pandas DataFrame for each of Train, Test, and Validation.\n",
    "\n",
    "*HORIZON=1* specifies that we have a forecasting horizon of 1 (*t+1*)"
   ]
  },
  {
   "cell_type": "code",
   "execution_count": 5,
   "metadata": {
    "slideshow": {
     "slide_type": "-"
    }
   },
   "outputs": [],
   "source": [
    "HORIZON = 1"
   ]
  },
  {
   "cell_type": "markdown",
   "metadata": {
    "slideshow": {
     "slide_type": "-"
    }
   },
   "source": [
    "Our data preparation for the training set will involve the following steps:\n",
    "\n",
    "1. Create a time column from the index\n",
    "2. Filter the original dataset to include only that time period reserved for the training set\n",
    "3. Drop rown with missing values "
   ]
  },
  {
   "cell_type": "markdown",
   "metadata": {
    "slideshow": {
     "slide_type": "slide"
    }
   },
   "source": [
    "### 1. Add time column"
   ]
  },
  {
   "cell_type": "code",
   "execution_count": 6,
   "metadata": {
    "slideshow": {
     "slide_type": "-"
    }
   },
   "outputs": [],
   "source": [
    "energy['timestamp'] = energy.index"
   ]
  },
  {
   "cell_type": "markdown",
   "metadata": {
    "slideshow": {
     "slide_type": "fragment"
    }
   },
   "source": [
    "### 2. Filter the original dataset to include only that time period reserved for each set\n",
    "Create training, test and validations sets"
   ]
  },
  {
   "cell_type": "code",
   "execution_count": 7,
   "metadata": {
    "slideshow": {
     "slide_type": "-"
    }
   },
   "outputs": [],
   "source": [
    "ds_train = energy[:valid_start_dt].copy()\n",
    "ds_valid = energy[valid_start_dt:test_start_dt].copy()\n",
    "ds_test = energy[test_start_dt:].copy()"
   ]
  },
  {
   "cell_type": "markdown",
   "metadata": {
    "slideshow": {
     "slide_type": "subslide"
    }
   },
   "source": [
    "Verify that the series are continuous."
   ]
  },
  {
   "cell_type": "code",
   "execution_count": 8,
   "metadata": {
    "slideshow": {
     "slide_type": "-"
    }
   },
   "outputs": [
    {
     "name": "stdout",
     "output_type": "stream",
     "text": [
      "                        load  temp           timestamp\n",
      "2014-08-31 19:00:00 3,969.00 74.67 2014-08-31 19:00:00\n",
      "2014-08-31 20:00:00 3,869.00 74.00 2014-08-31 20:00:00\n",
      "2014-08-31 21:00:00 3,643.00 73.00 2014-08-31 21:00:00\n",
      "2014-08-31 22:00:00 3,365.00 72.00 2014-08-31 22:00:00\n",
      "2014-08-31 23:00:00 3,097.00 71.33 2014-08-31 23:00:00\n",
      "                        load  temp           timestamp\n",
      "2014-09-01 00:00:00 2,886.00 71.00 2014-09-01 00:00:00\n",
      "2014-09-01 01:00:00 2,768.00 70.00 2014-09-01 01:00:00\n",
      "2014-09-01 02:00:00 2,699.00 69.33 2014-09-01 02:00:00\n",
      "2014-09-01 03:00:00 2,681.00 68.33 2014-09-01 03:00:00\n",
      "2014-09-01 04:00:00 2,690.00 68.33 2014-09-01 04:00:00\n"
     ]
    }
   ],
   "source": [
    "print(ds_train.tail())\n",
    "print(ds_valid.head())"
   ]
  },
  {
   "cell_type": "markdown",
   "metadata": {
    "slideshow": {
     "slide_type": "slide"
    }
   },
   "source": [
    "### 3. Discard any samples with missing values\n",
    "We will discard these."
   ]
  },
  {
   "cell_type": "code",
   "execution_count": 9,
   "metadata": {
    "slideshow": {
     "slide_type": "-"
    }
   },
   "outputs": [],
   "source": [
    "ds_train.dropna(how=\"any\", inplace=True)\n",
    "ds_valid.dropna(how=\"any\", inplace=True)\n",
    "ds_test.dropna(how=\"any\", inplace=True)"
   ]
  },
  {
   "cell_type": "markdown",
   "metadata": {
    "slideshow": {
     "slide_type": "fragment"
    }
   },
   "source": [
    "We now have data of shape:"
   ]
  },
  {
   "cell_type": "code",
   "execution_count": 10,
   "metadata": {
    "slideshow": {
     "slide_type": "-"
    }
   },
   "outputs": [
    {
     "name": "stdout",
     "output_type": "stream",
     "text": [
      "Train data shape: (23376, 3)\n",
      "Valid data shape: (1464, 3)\n",
      "Test data shape: (1464, 3)\n"
     ]
    }
   ],
   "source": [
    "print('Train data shape:', ds_train.shape)\n",
    "print('Valid data shape:', ds_valid.shape)\n",
    "print('Test data shape:', ds_test.shape)"
   ]
  },
  {
   "cell_type": "markdown",
   "metadata": {
    "slideshow": {
     "slide_type": "slide"
    }
   },
   "source": [
    "## Set Up AzureML Workspace"
   ]
  },
  {
   "cell_type": "markdown",
   "metadata": {
    "slideshow": {
     "slide_type": "-"
    }
   },
   "source": [
    "As part of the setup you should have access to an Azure ML Workspace. For Automated ML you will need to create an Experiment object, which is a named object in a Workspace used to run experiments."
   ]
  },
  {
   "cell_type": "code",
   "execution_count": 11,
   "metadata": {
    "slideshow": {
     "slide_type": "subslide"
    }
   },
   "outputs": [
    {
     "data": {
      "text/html": [
       "<div>\n",
       "<style scoped>\n",
       "    .dataframe tbody tr th:only-of-type {\n",
       "        vertical-align: middle;\n",
       "    }\n",
       "\n",
       "    .dataframe tbody tr th {\n",
       "        vertical-align: top;\n",
       "    }\n",
       "\n",
       "    .dataframe thead th {\n",
       "        text-align: right;\n",
       "    }\n",
       "</style>\n",
       "<table border=\"1\" class=\"dataframe\">\n",
       "  <thead>\n",
       "    <tr style=\"text-align: right;\">\n",
       "      <th></th>\n",
       "      <th></th>\n",
       "    </tr>\n",
       "  </thead>\n",
       "  <tbody>\n",
       "    <tr>\n",
       "      <th>SDK version</th>\n",
       "      <td>1.0.74</td>\n",
       "    </tr>\n",
       "    <tr>\n",
       "      <th>Workspace</th>\n",
       "      <td>AML2</td>\n",
       "    </tr>\n",
       "    <tr>\n",
       "      <th>Resource Group</th>\n",
       "      <td>AML2</td>\n",
       "    </tr>\n",
       "    <tr>\n",
       "      <th>Location</th>\n",
       "      <td>southcentralus</td>\n",
       "    </tr>\n",
       "    <tr>\n",
       "      <th>Experiment Name</th>\n",
       "      <td>automl-forecasting-GEFCom2014</td>\n",
       "    </tr>\n",
       "    <tr>\n",
       "      <th>Project Folder</th>\n",
       "      <td>./project</td>\n",
       "    </tr>\n",
       "  </tbody>\n",
       "</table>\n",
       "</div>"
      ],
      "text/plain": [
       "                                              \n",
       "SDK version      1.0.74                       \n",
       "Workspace        AML2                         \n",
       "Resource Group   AML2                         \n",
       "Location         southcentralus               \n",
       "Experiment Name  automl-forecasting-GEFCom2014\n",
       "Project Folder   ./project                    "
      ]
     },
     "execution_count": 11,
     "metadata": {},
     "output_type": "execute_result"
    }
   ],
   "source": [
    "import azureml.core\n",
    "from azureml.core import Experiment, Workspace\n",
    "\n",
    "assert os.path.exists('config.json'), 'Download `config.json` from the Auzre Portal and place in this folder'\n",
    "ws = Workspace.from_config()\n",
    "\n",
    "# Define a project folder where artifacts will be stored\n",
    "project_folder = './project'\n",
    "os.makedirs(project_folder, exist_ok=True)\n",
    "\n",
    "# choose a name for the run history container in the workspace\n",
    "experiment_name = 'automl-forecasting-GEFCom2014'\n",
    "experiment = Experiment(ws, experiment_name)\n",
    "\n",
    "output = {}\n",
    "output['SDK version'] = azureml.core.VERSION\n",
    "output['Workspace'] = ws.name\n",
    "output['Resource Group'] = ws.resource_group\n",
    "output['Location'] = ws.location\n",
    "output['Experiment Name'] = experiment_name\n",
    "output['Project Folder'] = project_folder\n",
    "pd.set_option('display.max_colwidth', -1)\n",
    "outputDf = pd.DataFrame(data = output, index = [''])\n",
    "outputDf.T"
   ]
  },
  {
   "cell_type": "markdown",
   "metadata": {
    "slideshow": {
     "slide_type": "slide"
    }
   },
   "source": [
    "## Train\n",
    "\n",
    "Instantiate an AutoMLConfig object. This config defines the settings and data used to run the experiment. We can provide extra configurations within 'automl_settings', for this forecasting task we add the name of the time column and the maximum forecast horizon. See [here](https://docs.microsoft.com/en-us/python/api/azureml-train-automl-client/azureml.train.automl.automlconfig.automlconfig?view=azure-ml-py) for more options.\n",
    "\n",
    "|Property|Description|\n",
    "|-|-|\n",
    "|**task**|forecasting|\n",
    "|**primary_metric**|This is the metric that you want to optimize.<br> Forecasting supports the following primary metrics <br><i>spearman_correlation</i><br><i>normalized_root_mean_squared_error</i><br><i>r2_score</i><br><i>normalized_mean_absolute_error</i>|\n",
    "|**blacklist_models**|Models in blacklist won't be used by AutoML. All supported models can be found at [here](https://docs.microsoft.com/en-us/python/api/azureml-train-automl/azureml.train.automl.constants.supportedmodels.regression?view=azure-ml-py).|\n",
    "|**experiment_timeout_minutes**|Maximum amount of time in minutes that the experiment take before it terminates.|\n",
    "|**training_data**|The training data to be used within the experiment.|\n",
    "|**label_column_name**|The name of the label column.|\n",
    "|**compute_target**|The remote compute for training.|\n",
    "|**n_cross_validations**|Number of cross validation splits. Rolling Origin Validation is used to split time-series in a temporally consistent way.|\n",
    "|**enable_early_stopping**|Flag to enble early termination if the score is not improving in the short term.|\\n\",\n",
    "|**time_column_name**|The name of your time column.|\n",
    "|**max_horizon**|The number of periods out you would like to predict past your training data. Periods are inferred from your data.|"
   ]
  },
  {
   "cell_type": "code",
   "execution_count": 12,
   "metadata": {
    "slideshow": {
     "slide_type": "subslide"
    }
   },
   "outputs": [],
   "source": [
    "import logging\n",
    "from azureml.train.automl import AutoMLConfig\n",
    "\n",
    "#These models are blacklisted for tutorial purposes, remove this for real use cases.                            \n",
    "blacklist_models = ['ExtremeRandomTrees', 'AutoArima', 'ElasticNet']\n",
    "\n",
    "automl_config = AutoMLConfig(\n",
    "    # Data Parameters\n",
    "    training_data=ds_train,\n",
    "    validation_data=ds_valid,\n",
    "    time_column_name='timestamp',\n",
    "    label_column_name='load',\n",
    "    # Forecasting Parameters\n",
    "    task='forecasting',\n",
    "    max_horizon=HORIZON,\n",
    "    primary_metric='normalized_root_mean_squared_error',\n",
    "    # AutoML Settings\n",
    "    enable_early_stopping=True,\n",
    "    blacklist_models=blacklist_models,\n",
    "    experiment_timeout_minutes=5,\n",
    "    verbosity=logging.ERROR,\n",
    "    path=project_folder,\n",
    ")"
   ]
  },
  {
   "cell_type": "markdown",
   "metadata": {
    "slideshow": {
     "slide_type": "slide"
    }
   },
   "source": [
    "### Submit the job\n",
    "\n",
    "Call the submit method on the experiment object and pass the run configuration. Depending on the data and the number of iterations this can run for a while. \n",
    "\n",
    "The optional `show_output=True` causes currently running iterations to print to the console."
   ]
  },
  {
   "cell_type": "code",
   "execution_count": 13,
   "metadata": {
    "slideshow": {
     "slide_type": "fragment"
    }
   },
   "outputs": [
    {
     "name": "stdout",
     "output_type": "stream",
     "text": [
      "Running on local machine\n",
      "Parent Run ID: AutoML_8f557cd4-5a68-4971-ba46-664e26252736\n",
      "Current status: DatasetFeaturization. Beginning to featurize the dataset.\n",
      "Current status: DatasetFeaturizationCompleted. Completed featurizing the dataset.\n",
      "Current status: ModelSelection. Beginning model selection.\n",
      "\n",
      "****************************************************************************************************\n",
      "ITERATION: The iteration being evaluated.\n",
      "PIPELINE: A summary description of the pipeline being evaluated.\n",
      "DURATION: Time taken for the current iteration.\n",
      "METRIC: The result of computing score on the fitted pipeline.\n",
      "BEST: The best observed score thus far.\n",
      "****************************************************************************************************\n",
      "\n",
      " ITERATION   PIPELINE                                       DURATION      METRIC      BEST\n",
      "         0   StandardScalerWrapper RandomForest             0:00:14       0.0490    0.0490\n",
      "         1   StandardScalerWrapper LightGBM                 0:00:12       0.0660    0.0490\n",
      "         2   StandardScalerWrapper LassoLars                0:00:12       0.1518    0.0490\n",
      "         3   MinMaxScaler DecisionTree                      0:00:13       0.0745    0.0490\n",
      "         4   MaxAbsScaler RandomForest                      0:00:13       0.0461    0.0461\n",
      "         5   MaxAbsScaler DecisionTree                      0:00:15       0.0524    0.0461\n",
      "         6   MinMaxScaler DecisionTree                      0:00:12       0.0636    0.0461\n",
      "         7   StandardScalerWrapper DecisionTree             0:00:13       0.0489    0.0461\n",
      "         8   MaxAbsScaler DecisionTree                      0:00:12       0.0728    0.0461\n",
      "         9   StandardScalerWrapper LightGBM                 0:00:13       0.0506    0.0461\n",
      "        10   MinMaxScaler DecisionTree                      0:00:12       0.0671    0.0461\n",
      "        11   "
     ]
    },
    {
     "name": "stderr",
     "output_type": "stream",
     "text": [
      "WARNING - Retrying (Retry(total=2, connect=None, read=None, redirect=None, status=None)) after connection broken by 'ProtocolError('Connection aborted.', OSError(\"(60, 'ETIMEDOUT')\",))': /azureml/ExperimentRun/dcid.AutoML_8f557cd4-5a68-4971-ba46-664e26252736_11/outputs/conda_env_v_1_0_0.yml?sv=2019-02-02&sr=b&sig=od8lqqyhqdq6TIb398S%2BFNkgqYQTEGu4yZI9TzpZR18%3D&st=2019-12-08T03%3A31%3A05Z&se=2019-12-09T03%3A41%3A05Z&sp=rcw&comp=block&blockid=TURBd01EQXdNREF3TURBd01EQXdNREF3TURBd01EQXdNREF3TURBd01EQSUzRA%3D%3D&timeout=30\n"
     ]
    },
    {
     "name": "stdout",
     "output_type": "stream",
     "text": [
      "MaxAbsScaler SGD                               0:00:35       0.1380    0.0461\n",
      "        12   StandardScalerWrapper RandomForest             0:00:12       0.0504    0.0461\n",
      "        13   MinMaxScaler DecisionTree                      0:00:12       0.0502    0.0461\n",
      "        14   MinMaxScaler DecisionTree                      0:00:13       0.0737    0.0461\n",
      "        15   SparseNormalizer RandomForest                  0:00:24       0.0423    0.0423\n",
      "        16   MaxAbsScaler LightGBM                          0:00:14       0.0377    0.0377\n",
      "        17   StandardScalerWrapper GradientBoosting         0:00:15       0.0458    0.0377\n",
      "        18   MaxAbsScaler RandomForest                      0:00:15       0.0709    0.0377\n",
      "        19   MaxAbsScaler RandomForest                      0:00:14       0.0732    0.0377\n",
      "        20   VotingEnsemble                                 0:00:29       0.0364    0.0364\n",
      "        21   StackEnsemble                                  0:00:32       0.0356    0.0356\n",
      "Stopping criteria reached at iteration 21. Ending experiment.\n",
      "CPU times: user 43 s, sys: 7.53 s, total: 50.5 s\n",
      "Wall time: 6min 17s\n"
     ]
    }
   ],
   "source": [
    "%%time\n",
    "\n",
    "run = experiment.submit(automl_config, show_output=True)"
   ]
  },
  {
   "cell_type": "markdown",
   "metadata": {
    "slideshow": {
     "slide_type": "subslide"
    }
   },
   "source": [
    "The `run` object contains a link to the experiment in the AzureML Workspace."
   ]
  },
  {
   "cell_type": "code",
   "execution_count": 14,
   "metadata": {
    "slideshow": {
     "slide_type": "-"
    }
   },
   "outputs": [
    {
     "data": {
      "text/html": [
       "<table style=\"width:100%\"><tr><th>Experiment</th><th>Id</th><th>Type</th><th>Status</th><th>Details Page</th><th>Docs Page</th></tr><tr><td>automl-forecasting-GEFCom2014</td><td>AutoML_8f557cd4-5a68-4971-ba46-664e26252736</td><td>automl</td><td>Completed</td><td><a href=\"https://ml.azure.com/experiments/automl-forecasting-GEFCom2014/runs/AutoML_8f557cd4-5a68-4971-ba46-664e26252736?wsid=/subscriptions/6fa1b60b-c4be-4966-a446-261a3ad62d42/resourcegroups/AML2/workspaces/AML2\" target=\"_blank\" rel=\"noopener\">Link to Azure Machine Learning studio</a></td><td><a href=\"https://docs.microsoft.com/en-us/python/api/overview/azure/ml/intro?view=azure-ml-py\" target=\"_blank\" rel=\"noopener\">Link to Documentation</a></td></tr></table>"
      ],
      "text/plain": [
       "Run(Experiment: automl-forecasting-GEFCom2014,\n",
       "Id: AutoML_8f557cd4-5a68-4971-ba46-664e26252736,\n",
       "Type: automl,\n",
       "Status: Completed)"
      ]
     },
     "execution_count": 14,
     "metadata": {},
     "output_type": "execute_result"
    }
   ],
   "source": [
    "run"
   ]
  },
  {
   "cell_type": "markdown",
   "metadata": {
    "slideshow": {
     "slide_type": "slide"
    }
   },
   "source": [
    "### Retrieve the Best Model\n",
    "Below we select the best model from all the training iterations using the `get_output` method."
   ]
  },
  {
   "cell_type": "code",
   "execution_count": 15,
   "metadata": {
    "slideshow": {
     "slide_type": "fragment"
    }
   },
   "outputs": [],
   "source": [
    "best_run, fitted_model = run.get_output()\n",
    "#fitted_model.steps"
   ]
  },
  {
   "cell_type": "markdown",
   "metadata": {
    "slideshow": {
     "slide_type": "slide"
    }
   },
   "source": [
    "## Analysis\n",
    "Below we take a look at the model produced"
   ]
  },
  {
   "cell_type": "markdown",
   "metadata": {
    "slideshow": {
     "slide_type": "fragment"
    }
   },
   "source": [
    "### Featurization\n",
    "You can access the engineered feature names generated in time-series featurization"
   ]
  },
  {
   "cell_type": "code",
   "execution_count": 16,
   "metadata": {
    "slideshow": {
     "slide_type": "-"
    }
   },
   "outputs": [
    {
     "data": {
      "text/plain": [
       "['temp',\n",
       " 'temp_WASNULL',\n",
       " 'year',\n",
       " 'half',\n",
       " 'quarter',\n",
       " 'month',\n",
       " 'day',\n",
       " 'hour',\n",
       " 'am_pm',\n",
       " 'hour12',\n",
       " 'wday',\n",
       " 'qday',\n",
       " 'week']"
      ]
     },
     "execution_count": 16,
     "metadata": {},
     "output_type": "execute_result"
    }
   ],
   "source": [
    "fitted_model.named_steps['timeseriestransformer'].get_engineered_feature_names()"
   ]
  },
  {
   "cell_type": "markdown",
   "metadata": {
    "slideshow": {
     "slide_type": "subslide"
    }
   },
   "source": [
    "### View featurization summary\n",
    "You can also see what featurization steps were performed on different raw features in the user data. For each input field in the user data, the following information is displayed:\n",
    "\n",
    "- Raw field name\n",
    "- Number of engineered features formed out of this raw field\n",
    "- Type detected\n",
    "- If the feature was dropped\n",
    "- List of feature transformations for the raw field"
   ]
  },
  {
   "cell_type": "code",
   "execution_count": 17,
   "metadata": {
    "slideshow": {
     "slide_type": "-"
    }
   },
   "outputs": [
    {
     "data": {
      "text/html": [
       "<div>\n",
       "<style scoped>\n",
       "    .dataframe tbody tr th:only-of-type {\n",
       "        vertical-align: middle;\n",
       "    }\n",
       "\n",
       "    .dataframe tbody tr th {\n",
       "        vertical-align: top;\n",
       "    }\n",
       "\n",
       "    .dataframe thead th {\n",
       "        text-align: right;\n",
       "    }\n",
       "</style>\n",
       "<table border=\"1\" class=\"dataframe\">\n",
       "  <thead>\n",
       "    <tr style=\"text-align: right;\">\n",
       "      <th></th>\n",
       "      <th>Dropped</th>\n",
       "      <th>EngineeredFeatureCount</th>\n",
       "      <th>RawFeatureName</th>\n",
       "      <th>Transformations</th>\n",
       "      <th>TypeDetected</th>\n",
       "    </tr>\n",
       "  </thead>\n",
       "  <tbody>\n",
       "    <tr>\n",
       "      <th>0</th>\n",
       "      <td>No</td>\n",
       "      <td>2</td>\n",
       "      <td>temp</td>\n",
       "      <td>[MeanImputer, ImputationMarker]</td>\n",
       "      <td>Numeric</td>\n",
       "    </tr>\n",
       "    <tr>\n",
       "      <th>1</th>\n",
       "      <td>No</td>\n",
       "      <td>11</td>\n",
       "      <td>timestamp</td>\n",
       "      <td>[DateTimeTransformer, DateTimeTransformer, DateTimeTransformer, DateTimeTransformer, DateTimeTransformer, DateTimeTransformer, DateTimeTransformer, DateTimeTransformer, DateTimeTransformer, DateTimeTransformer, DateTimeTransformer]</td>\n",
       "      <td>DateTime</td>\n",
       "    </tr>\n",
       "  </tbody>\n",
       "</table>\n",
       "</div>"
      ],
      "text/plain": [
       "  Dropped  EngineeredFeatureCount RawFeatureName  \\\n",
       "0  No      2                       temp            \n",
       "1  No      11                      timestamp       \n",
       "\n",
       "                                                                                                                                                                                                                           Transformations  \\\n",
       "0  [MeanImputer, ImputationMarker]                                                                                                                                                                                                           \n",
       "1  [DateTimeTransformer, DateTimeTransformer, DateTimeTransformer, DateTimeTransformer, DateTimeTransformer, DateTimeTransformer, DateTimeTransformer, DateTimeTransformer, DateTimeTransformer, DateTimeTransformer, DateTimeTransformer]   \n",
       "\n",
       "  TypeDetected  \n",
       "0  Numeric      \n",
       "1  DateTime     "
      ]
     },
     "execution_count": 17,
     "metadata": {},
     "output_type": "execute_result"
    }
   ],
   "source": [
    "# Get the featurization summary as a list of JSON\n",
    "featurization_summary = fitted_model.named_steps['timeseriestransformer'].get_featurization_summary()\n",
    "# View the featurization summary as a pandas dataframe\n",
    "pd.DataFrame.from_records(featurization_summary)"
   ]
  },
  {
   "cell_type": "markdown",
   "metadata": {
    "slideshow": {
     "slide_type": "slide"
    }
   },
   "source": [
    "## Forecasting\n",
    "Now that we have retrieved the best pipeline/model, it can be used to make predictions on test data."
   ]
  },
  {
   "cell_type": "markdown",
   "metadata": {
    "slideshow": {
     "slide_type": "subslide"
    }
   },
   "source": [
    "### Forecast Function\n",
    "For forecasting, we will use the forecast function instead of the predict function. There are two reasons for this.\n",
    "\n",
    "We need to pass the recent values of the target variable y, whereas the scikit-compatible predict function only takes the non-target variables 'test'. In our case, the test data immediately follows the training data, and we fill the target variable with NaN. The NaN serves as a question mark for the forecaster to fill with the actuals. Using the forecast function will produce forecasts using the shortest possible forecast horizon. The last time at which a definite (non-NaN) value is seen is the forecast origin - the last time when the value of the target is known.\n",
    "\n",
    "Using the predict method would result in getting predictions for EVERY horizon the forecaster can predict at. This is useful when training and evaluating the performance of the forecaster at various horizons, but the level of detail is excessive for normal use."
   ]
  },
  {
   "cell_type": "code",
   "execution_count": 18,
   "metadata": {
    "slideshow": {
     "slide_type": "fragment"
    }
   },
   "outputs": [],
   "source": [
    "# First, we remove the target values from the test set:\n",
    "X_test = ds_test.copy()\n",
    "y_test = X_test.pop('load').values\n",
    "\n",
    "# The forecast origin will be at the beginning of the first forecast period.\n",
    "# (Which is the same time as the end of the last training period.)\n",
    "y_query = np.empty_like(y_test)\n",
    "y_query.fill(np.nan)\n",
    "\n",
    "# The featurized data, aligned to y, will also be returned.\n",
    "# This contains the assumptions that were made in the forecast\n",
    "# and helps align the forecast to the original data\n",
    "y_predictions, X_trans = fitted_model.forecast(X_test, y_query)"
   ]
  },
  {
   "cell_type": "markdown",
   "metadata": {
    "slideshow": {
     "slide_type": "subslide"
    }
   },
   "source": [
    "It is useful to look at how the inputs were transformed to create the predictions"
   ]
  },
  {
   "cell_type": "code",
   "execution_count": 19,
   "metadata": {
    "slideshow": {
     "slide_type": "-"
    }
   },
   "outputs": [
    {
     "data": {
      "text/html": [
       "<div>\n",
       "<style scoped>\n",
       "    .dataframe tbody tr th:only-of-type {\n",
       "        vertical-align: middle;\n",
       "    }\n",
       "\n",
       "    .dataframe tbody tr th {\n",
       "        vertical-align: top;\n",
       "    }\n",
       "\n",
       "    .dataframe thead th {\n",
       "        text-align: right;\n",
       "    }\n",
       "</style>\n",
       "<table border=\"1\" class=\"dataframe\">\n",
       "  <thead>\n",
       "    <tr style=\"text-align: right;\">\n",
       "      <th></th>\n",
       "      <th></th>\n",
       "      <th>temp</th>\n",
       "      <th>temp_WASNULL</th>\n",
       "      <th>year</th>\n",
       "      <th>half</th>\n",
       "      <th>quarter</th>\n",
       "      <th>month</th>\n",
       "      <th>day</th>\n",
       "      <th>hour</th>\n",
       "      <th>am_pm</th>\n",
       "      <th>hour12</th>\n",
       "      <th>wday</th>\n",
       "      <th>qday</th>\n",
       "      <th>week</th>\n",
       "      <th>_automl_target_col</th>\n",
       "    </tr>\n",
       "    <tr>\n",
       "      <th>timestamp</th>\n",
       "      <th>_automl_dummy_grain_col</th>\n",
       "      <th></th>\n",
       "      <th></th>\n",
       "      <th></th>\n",
       "      <th></th>\n",
       "      <th></th>\n",
       "      <th></th>\n",
       "      <th></th>\n",
       "      <th></th>\n",
       "      <th></th>\n",
       "      <th></th>\n",
       "      <th></th>\n",
       "      <th></th>\n",
       "      <th></th>\n",
       "      <th></th>\n",
       "    </tr>\n",
       "  </thead>\n",
       "  <tbody>\n",
       "    <tr>\n",
       "      <th>2014-11-01 00:00:00</th>\n",
       "      <th>_automl_dummy_grain_col</th>\n",
       "      <td>38.33</td>\n",
       "      <td>0</td>\n",
       "      <td>2014</td>\n",
       "      <td>2</td>\n",
       "      <td>4</td>\n",
       "      <td>11</td>\n",
       "      <td>1</td>\n",
       "      <td>0</td>\n",
       "      <td>0</td>\n",
       "      <td>0</td>\n",
       "      <td>5</td>\n",
       "      <td>32</td>\n",
       "      <td>44</td>\n",
       "      <td>2520.28</td>\n",
       "    </tr>\n",
       "    <tr>\n",
       "      <th>2014-11-01 01:00:00</th>\n",
       "      <th>_automl_dummy_grain_col</th>\n",
       "      <td>37.33</td>\n",
       "      <td>0</td>\n",
       "      <td>2014</td>\n",
       "      <td>2</td>\n",
       "      <td>4</td>\n",
       "      <td>11</td>\n",
       "      <td>1</td>\n",
       "      <td>1</td>\n",
       "      <td>0</td>\n",
       "      <td>1</td>\n",
       "      <td>5</td>\n",
       "      <td>32</td>\n",
       "      <td>44</td>\n",
       "      <td>2422.87</td>\n",
       "    </tr>\n",
       "    <tr>\n",
       "      <th>2014-11-01 02:00:00</th>\n",
       "      <th>_automl_dummy_grain_col</th>\n",
       "      <td>36.33</td>\n",
       "      <td>0</td>\n",
       "      <td>2014</td>\n",
       "      <td>2</td>\n",
       "      <td>4</td>\n",
       "      <td>11</td>\n",
       "      <td>1</td>\n",
       "      <td>2</td>\n",
       "      <td>0</td>\n",
       "      <td>2</td>\n",
       "      <td>5</td>\n",
       "      <td>32</td>\n",
       "      <td>44</td>\n",
       "      <td>2436.44</td>\n",
       "    </tr>\n",
       "    <tr>\n",
       "      <th>2014-11-01 03:00:00</th>\n",
       "      <th>_automl_dummy_grain_col</th>\n",
       "      <td>36.33</td>\n",
       "      <td>0</td>\n",
       "      <td>2014</td>\n",
       "      <td>2</td>\n",
       "      <td>4</td>\n",
       "      <td>11</td>\n",
       "      <td>1</td>\n",
       "      <td>3</td>\n",
       "      <td>0</td>\n",
       "      <td>3</td>\n",
       "      <td>5</td>\n",
       "      <td>32</td>\n",
       "      <td>44</td>\n",
       "      <td>2428.94</td>\n",
       "    </tr>\n",
       "    <tr>\n",
       "      <th>2014-11-01 04:00:00</th>\n",
       "      <th>_automl_dummy_grain_col</th>\n",
       "      <td>36.00</td>\n",
       "      <td>0</td>\n",
       "      <td>2014</td>\n",
       "      <td>2</td>\n",
       "      <td>4</td>\n",
       "      <td>11</td>\n",
       "      <td>1</td>\n",
       "      <td>4</td>\n",
       "      <td>0</td>\n",
       "      <td>4</td>\n",
       "      <td>5</td>\n",
       "      <td>32</td>\n",
       "      <td>44</td>\n",
       "      <td>2494.13</td>\n",
       "    </tr>\n",
       "  </tbody>\n",
       "</table>\n",
       "</div>"
      ],
      "text/plain": [
       "                                             temp  temp_WASNULL  year  half  \\\n",
       "timestamp           _automl_dummy_grain_col                                   \n",
       "2014-11-01 00:00:00 _automl_dummy_grain_col 38.33  0             2014  2      \n",
       "2014-11-01 01:00:00 _automl_dummy_grain_col 37.33  0             2014  2      \n",
       "2014-11-01 02:00:00 _automl_dummy_grain_col 36.33  0             2014  2      \n",
       "2014-11-01 03:00:00 _automl_dummy_grain_col 36.33  0             2014  2      \n",
       "2014-11-01 04:00:00 _automl_dummy_grain_col 36.00  0             2014  2      \n",
       "\n",
       "                                             quarter  month  day  hour  am_pm  \\\n",
       "timestamp           _automl_dummy_grain_col                                     \n",
       "2014-11-01 00:00:00 _automl_dummy_grain_col  4        11     1    0     0       \n",
       "2014-11-01 01:00:00 _automl_dummy_grain_col  4        11     1    1     0       \n",
       "2014-11-01 02:00:00 _automl_dummy_grain_col  4        11     1    2     0       \n",
       "2014-11-01 03:00:00 _automl_dummy_grain_col  4        11     1    3     0       \n",
       "2014-11-01 04:00:00 _automl_dummy_grain_col  4        11     1    4     0       \n",
       "\n",
       "                                             hour12  wday  qday  week  \\\n",
       "timestamp           _automl_dummy_grain_col                             \n",
       "2014-11-01 00:00:00 _automl_dummy_grain_col  0       5     32    44     \n",
       "2014-11-01 01:00:00 _automl_dummy_grain_col  1       5     32    44     \n",
       "2014-11-01 02:00:00 _automl_dummy_grain_col  2       5     32    44     \n",
       "2014-11-01 03:00:00 _automl_dummy_grain_col  3       5     32    44     \n",
       "2014-11-01 04:00:00 _automl_dummy_grain_col  4       5     32    44     \n",
       "\n",
       "                                             _automl_target_col  \n",
       "timestamp           _automl_dummy_grain_col                      \n",
       "2014-11-01 00:00:00 _automl_dummy_grain_col 2520.28              \n",
       "2014-11-01 01:00:00 _automl_dummy_grain_col 2422.87              \n",
       "2014-11-01 02:00:00 _automl_dummy_grain_col 2436.44              \n",
       "2014-11-01 03:00:00 _automl_dummy_grain_col 2428.94              \n",
       "2014-11-01 04:00:00 _automl_dummy_grain_col 2494.13              "
      ]
     },
     "execution_count": 19,
     "metadata": {},
     "output_type": "execute_result"
    }
   ],
   "source": [
    "X_trans.head()"
   ]
  },
  {
   "cell_type": "markdown",
   "metadata": {
    "slideshow": {
     "slide_type": "slide"
    }
   },
   "source": [
    "### Evaluate\n",
    "To evaluate the accuracy of the forecast, we'll compare against the actual load values using the mean absolute percentage error (MAPE) metric."
   ]
  },
  {
   "cell_type": "markdown",
   "metadata": {},
   "source": [
    "Collect the target and predictions in a dataset"
   ]
  },
  {
   "cell_type": "code",
   "execution_count": 20,
   "metadata": {},
   "outputs": [
    {
     "data": {
      "text/html": [
       "<div>\n",
       "<style scoped>\n",
       "    .dataframe tbody tr th:only-of-type {\n",
       "        vertical-align: middle;\n",
       "    }\n",
       "\n",
       "    .dataframe tbody tr th {\n",
       "        vertical-align: top;\n",
       "    }\n",
       "\n",
       "    .dataframe thead th {\n",
       "        text-align: right;\n",
       "    }\n",
       "</style>\n",
       "<table border=\"1\" class=\"dataframe\">\n",
       "  <thead>\n",
       "    <tr style=\"text-align: right;\">\n",
       "      <th></th>\n",
       "      <th>actual</th>\n",
       "      <th>temp</th>\n",
       "      <th>prediction</th>\n",
       "    </tr>\n",
       "  </thead>\n",
       "  <tbody>\n",
       "    <tr>\n",
       "      <th>2014-11-01 00:00:00</th>\n",
       "      <td>2514.00</td>\n",
       "      <td>38.33</td>\n",
       "      <td>2520.28</td>\n",
       "    </tr>\n",
       "    <tr>\n",
       "      <th>2014-11-01 01:00:00</th>\n",
       "      <td>2434.00</td>\n",
       "      <td>37.33</td>\n",
       "      <td>2422.87</td>\n",
       "    </tr>\n",
       "    <tr>\n",
       "      <th>2014-11-01 02:00:00</th>\n",
       "      <td>2390.00</td>\n",
       "      <td>36.33</td>\n",
       "      <td>2436.44</td>\n",
       "    </tr>\n",
       "    <tr>\n",
       "      <th>2014-11-01 03:00:00</th>\n",
       "      <td>2382.00</td>\n",
       "      <td>36.33</td>\n",
       "      <td>2428.94</td>\n",
       "    </tr>\n",
       "    <tr>\n",
       "      <th>2014-11-01 04:00:00</th>\n",
       "      <td>2419.00</td>\n",
       "      <td>36.00</td>\n",
       "      <td>2494.13</td>\n",
       "    </tr>\n",
       "  </tbody>\n",
       "</table>\n",
       "</div>"
      ],
      "text/plain": [
       "                     actual  temp  prediction\n",
       "2014-11-01 00:00:00 2514.00 38.33 2520.28    \n",
       "2014-11-01 01:00:00 2434.00 37.33 2422.87    \n",
       "2014-11-01 02:00:00 2390.00 36.33 2436.44    \n",
       "2014-11-01 03:00:00 2382.00 36.33 2428.94    \n",
       "2014-11-01 04:00:00 2419.00 36.00 2494.13    "
      ]
     },
     "execution_count": 20,
     "metadata": {},
     "output_type": "execute_result"
    }
   ],
   "source": [
    "eval_df = ds_test.copy().drop('timestamp', axis=1)\n",
    "eval_df['prediction'] = y_predictions\n",
    "eval_df.rename(columns={'load':'actual'}, inplace=True)\n",
    "eval_df.head()"
   ]
  },
  {
   "cell_type": "markdown",
   "metadata": {
    "slideshow": {
     "slide_type": "subslide"
    }
   },
   "source": [
    "Compute the mean absolute percentage error over all predictions"
   ]
  },
  {
   "cell_type": "code",
   "execution_count": 21,
   "metadata": {
    "slideshow": {
     "slide_type": "-"
    }
   },
   "outputs": [],
   "source": [
    "def mape(predictions, actuals):\n",
    "    \"\"\"Mean absolute percentage error\"\"\"\n",
    "    return ((predictions - actuals).abs() / actuals).mean()"
   ]
  },
  {
   "cell_type": "code",
   "execution_count": 22,
   "metadata": {
    "slideshow": {
     "slide_type": "-"
    }
   },
   "outputs": [
    {
     "name": "stdout",
     "output_type": "stream",
     "text": [
      "MAPE: 3.26%\n"
     ]
    }
   ],
   "source": [
    "print(\"MAPE: {:.2f}%\".format(100* mape(eval_df['prediction'], eval_df['actual'])))"
   ]
  },
  {
   "cell_type": "markdown",
   "metadata": {
    "slideshow": {
     "slide_type": "subslide"
    }
   },
   "source": [
    "Plot the predictions vs the actuals for the first week of the test set"
   ]
  },
  {
   "cell_type": "code",
   "execution_count": 23,
   "metadata": {},
   "outputs": [
    {
     "data": {
      "image/png": "[encoded data removed]",
      "text/plain": [
       "<Figure size 1080x576 with 1 Axes>"
      ]
     },
     "metadata": {
      "needs_background": "light"
     },
     "output_type": "display_data"
    }
   ],
   "source": [
    "eval_df[:'2014-11-08'] \\\n",
    "    .plot(y=['prediction', 'actual'], style=['r', 'b'], figsize=(15, 8))\n",
    "plt.xlabel('timestamp', fontsize=12)\n",
    "plt.ylabel('load', fontsize=12)\n",
    "plt.show()"
   ]
  },
  {
   "cell_type": "markdown",
   "metadata": {
    "slideshow": {
     "slide_type": "slide"
    }
   },
   "source": [
    "## Using lags and rolling window features\n",
    "Now we will configure the target lags, that is the previous values of the target variables, meaning the prediction is no longer horizon-less. We therefore must still specify the max_horizon that the model will learn to forecast. The `target_lags` keyword specifies how far back we will construct the lags of the target variable, and the `target_rolling_window_size` specifies the size of the rolling window over which we will generate the max, min and sum features.\n",
    "\n",
    "This notebook uses the blacklist_models parameter to exclude some models that take a longer time to train on this dataset. You can choose to remove models from the blacklist_models list but you may need to increase the iteration_timeout_minutes parameter value to get results."
   ]
  },
  {
   "cell_type": "code",
   "execution_count": 24,
   "metadata": {
    "slideshow": {
     "slide_type": "notes"
    }
   },
   "outputs": [],
   "source": [
    "# Instead of a separate validation set, we'll use cross_validation to train\n",
    "ds_train2 = energy[:test_start_dt].copy()"
   ]
  },
  {
   "cell_type": "code",
   "execution_count": 25,
   "metadata": {
    "slideshow": {
     "slide_type": "fragment"
    }
   },
   "outputs": [],
   "source": [
    "#These models are blacklisted for tutorial purposes, remove this for real use cases.                            \n",
    "blacklist_models = ['ElasticNet', 'ExtremeRandomTrees', 'GradientBoosting', 'XGBoostRegressor',\n",
    "                    'ExtremeRandomTrees', 'AutoArima']\n",
    "max_lag = 12\n",
    "\n",
    "automl_config = AutoMLConfig(\n",
    "    # Data Parameters\n",
    "    training_data=ds_train2,\n",
    "    #validation_data=ds_valid,\n",
    "    time_column_name='timestamp',\n",
    "    label_column_name='load',\n",
    "    # Parameters for lags and window\n",
    "    target_lags=max_lag,\n",
    "    target_rolling_window_size=6,\n",
    "    # Forecasting Parameters\n",
    "    task='forecasting',\n",
    "    max_horizon=HORIZON,\n",
    "    primary_metric='normalized_root_mean_squared_error',\n",
    "    # AutoML Settings\n",
    "    n_cross_validations=5,\n",
    "    enable_early_stopping=True,\n",
    "    blacklist_models=blacklist_models,\n",
    "    experiment_timeout_minutes=10,\n",
    "    verbosity=logging.ERROR,\n",
    "    path=project_folder,\n",
    ")"
   ]
  },
  {
   "cell_type": "markdown",
   "metadata": {
    "slideshow": {
     "slide_type": "slide"
    }
   },
   "source": [
    "### Submit the job\n",
    "We now start a new remote run, this time with lag and rolling window featurization. AutoML applies featurizations in the setup stage, prior to iterating over ML models. The full training set is featurized first, followed by featurization of each of the CV splits. Lag and rolling window features introduce additional complexity, so the run will take longer than in the previous example that lacked these featurizations."
   ]
  },
  {
   "cell_type": "code",
   "execution_count": 26,
   "metadata": {
    "scrolled": false,
    "slideshow": {
     "slide_type": "fragment"
    }
   },
   "outputs": [
    {
     "name": "stdout",
     "output_type": "stream",
     "text": [
      "Running on local machine\n",
      "Parent Run ID: AutoML_012236da-2fca-41ec-85d6-c8bf51b984a2\n",
      "Current status: DatasetFeaturization. Beginning to featurize the dataset.\n",
      "Current status: DatasetFeaturizationCompleted. Completed featurizing the dataset.\n",
      "Current status: DatasetCrossValidationSplit. Generating CV splits.\n",
      "Current status: DatasetFeaturization. Beginning to featurize the CV split.\n",
      "Current status: DatasetFeaturizationCompleted. Completed featurizing the CV split.\n",
      "Current status: DatasetFeaturization. Beginning to featurize the CV split.\n",
      "Current status: DatasetFeaturizationCompleted. Completed featurizing the CV split.\n",
      "Current status: DatasetFeaturization. Beginning to featurize the CV split.\n",
      "Current status: DatasetFeaturizationCompleted. Completed featurizing the CV split.\n",
      "Current status: DatasetFeaturization. Beginning to featurize the CV split.\n",
      "Current status: DatasetFeaturizationCompleted. Completed featurizing the CV split.\n",
      "Current status: DatasetFeaturization. Beginning to featurize the CV split.\n",
      "Current status: DatasetFeaturizationCompleted. Completed featurizing the CV split.\n",
      "\n",
      "****************************************************************************************************\n",
      "DATA GUARDRAILS SUMMARY:\n",
      "For more details, use API: run.get_guardrails()\n",
      "\n",
      "TYPE:         Memory Issues Detection\n",
      "STATUS:       PASSED\n",
      "DESCRIPTION:  The selected horizon, lag and rolling window values were analyzed, and no potential memory issues were detected.\n",
      "\n",
      "****************************************************************************************************\n",
      "Current status: ModelSelection. Beginning model selection.\n",
      "\n",
      "****************************************************************************************************\n",
      "ITERATION: The iteration being evaluated.\n",
      "PIPELINE: A summary description of the pipeline being evaluated.\n",
      "DURATION: Time taken for the current iteration.\n",
      "METRIC: The result of computing score on the fitted pipeline.\n",
      "BEST: The best observed score thus far.\n",
      "****************************************************************************************************\n",
      "\n",
      " ITERATION   PIPELINE                                       DURATION      METRIC      BEST\n",
      "         0   StandardScalerWrapper RandomForest             0:00:23       0.0196    0.0196\n",
      "         1   StandardScalerWrapper LightGBM                 0:00:22       0.0570    0.0196\n",
      "         2   StandardScalerWrapper LassoLars                0:00:20       0.0614    0.0196\n",
      "         3   MinMaxScaler DecisionTree                      0:00:20       0.0287    0.0196\n",
      "         4   MaxAbsScaler RandomForest                      0:00:22       0.0182    0.0182\n",
      "         5   MaxAbsScaler DecisionTree                      0:00:19       0.0177    0.0177\n",
      "         6   MinMaxScaler DecisionTree                      0:00:19       0.0388    0.0177\n",
      "         7   StandardScalerWrapper DecisionTree             0:00:19       0.0273    0.0177\n",
      "         8   MaxAbsScaler DecisionTree                      0:00:20       0.0510    0.0177\n",
      "         9   StandardScalerWrapper LightGBM                 0:00:21       0.0313    0.0177\n",
      "        10   MinMaxScaler DecisionTree                      0:00:20       0.0583    0.0177\n",
      "        11   MaxAbsScaler SGD                               0:00:19       0.0897    0.0177\n",
      "        12   StandardScalerWrapper RandomForest             0:00:22       0.0348    0.0177\n",
      "        13   MinMaxScaler DecisionTree                      0:00:19       0.0245    0.0177\n",
      "        14   MinMaxScaler DecisionTree                      0:00:19       0.0213    0.0177\n",
      "        15   SparseNormalizer RandomForest                  0:01:51       0.0305    0.0177\n",
      "        16   MaxAbsScaler LightGBM                          0:00:24       0.0317    0.0177\n",
      "        17   StandardScalerWrapper LightGBM                 0:00:22       0.0210    0.0177\n",
      "        18   MinMaxScaler LightGBM                          0:00:29       0.0269    0.0177\n",
      "        19   MinMaxScaler LightGBM                          0:00:23       0.0260    0.0177\n",
      "        20   SparseNormalizer DecisionTree                  0:00:21       0.0302    0.0177\n",
      "        21   MaxAbsScaler RandomForest                      0:00:39       0.0374    0.0177\n",
      "        22   MaxAbsScaler RandomForest                      0:00:50       0.0474    0.0177\n",
      "        23   "
     ]
    },
    {
     "name": "stderr",
     "output_type": "stream",
     "text": [
      "WARNING - Retrying (Retry(total=2, connect=None, read=None, redirect=None, status=None)) after connection broken by 'ProtocolError('Connection aborted.', OSError(\"(60, 'ETIMEDOUT')\",))': /azureml/ExperimentRun/dcid.AutoML_012236da-2fca-41ec-85d6-c8bf51b984a2_23/pipeline_graph.json?sv=2019-02-02&sr=b&sig=ybRR59kEbZPBJTJ9t%2FhBvJt5Xx%2FKyokwENRM6ZaoDic%3D&st=2019-12-08T03%3A46%3A34Z&se=2019-12-09T03%3A56%3A34Z&sp=rcw&comp=block&blockid=TURBd01EQXdNREF3TURBd01EQXdNREF3TURBd01EQXdNREF3TURBd01EQSUzRA%3D%3D&timeout=30\n",
      "WARNING - Retrying (Retry(total=2, connect=None, read=None, redirect=None, status=None)) after connection broken by 'ProtocolError('Connection aborted.', OSError(\"(60, 'ETIMEDOUT')\",))': /azureml/ExperimentRun/dcid.AutoML_012236da-2fca-41ec-85d6-c8bf51b984a2_23/outputs/env_dependencies.json?sv=2019-02-02&sr=b&sig=ki8W206sqN%2F1MrbKR%2F1dTU0oyZmrP4FkfhiuH5vtQsU%3D&st=2019-12-08T03%3A46%3A33Z&se=2019-12-09T03%3A56%3A33Z&sp=rcw&comp=block&blockid=TURBd01EQXdNREF3TURBd01EQXdNREF3TURBd01EQXdNREF3TURBd01EQSUzRA%3D%3D&timeout=30\n",
      "WARNING - Retrying (Retry(total=2, connect=None, read=None, redirect=None, status=None)) after connection broken by 'ProtocolError('Connection aborted.', OSError(\"(60, 'ETIMEDOUT')\",))': /azureml/ExperimentRun/dcid.AutoML_012236da-2fca-41ec-85d6-c8bf51b984a2_23/outputs/model.pkl?sv=2019-02-02&sr=b&sig=su7w%2F1hlFlaDBMTvd8a5XpsiPo4gUEetdXNJgJoSq9s%3D&st=2019-12-08T03%3A46%3A34Z&se=2019-12-09T03%3A56%3A34Z&sp=rcw&comp=block&blockid=TURBd01EQXdNREF3TURBd01EQXdNREF3TURBd01EQXdNREF3TURBd01EQSUzRA%3D%3D&timeout=30\n"
     ]
    },
    {
     "name": "stdout",
     "output_type": "stream",
     "text": [
      "VotingEnsemble                                 0:02:36       0.0076    0.0076\n",
      "        24   StackEnsemble                                  0:00:37       0.0412    0.0076\n",
      "Stopping criteria reached at iteration 24. Ending experiment.\n",
      "CPU times: user 1min 2s, sys: 17.9 s, total: 1min 20s\n",
      "Wall time: 14min 21s\n"
     ]
    }
   ],
   "source": [
    "%%time\n",
    "\n",
    "run = experiment.submit(automl_config, show_output=True)"
   ]
  },
  {
   "cell_type": "markdown",
   "metadata": {
    "slideshow": {
     "slide_type": "subslide"
    }
   },
   "source": [
    "The `run` object contains a link to the experiment in the AzureML Workspace."
   ]
  },
  {
   "cell_type": "code",
   "execution_count": 27,
   "metadata": {},
   "outputs": [
    {
     "data": {
      "text/html": [
       "<table style=\"width:100%\"><tr><th>Experiment</th><th>Id</th><th>Type</th><th>Status</th><th>Details Page</th><th>Docs Page</th></tr><tr><td>automl-forecasting-GEFCom2014</td><td>AutoML_012236da-2fca-41ec-85d6-c8bf51b984a2</td><td>automl</td><td>Completed</td><td><a href=\"https://ml.azure.com/experiments/automl-forecasting-GEFCom2014/runs/AutoML_012236da-2fca-41ec-85d6-c8bf51b984a2?wsid=/subscriptions/6fa1b60b-c4be-4966-a446-261a3ad62d42/resourcegroups/AML2/workspaces/AML2\" target=\"_blank\" rel=\"noopener\">Link to Azure Machine Learning studio</a></td><td><a href=\"https://docs.microsoft.com/en-us/python/api/overview/azure/ml/intro?view=azure-ml-py\" target=\"_blank\" rel=\"noopener\">Link to Documentation</a></td></tr></table>"
      ],
      "text/plain": [
       "Run(Experiment: automl-forecasting-GEFCom2014,\n",
       "Id: AutoML_012236da-2fca-41ec-85d6-c8bf51b984a2,\n",
       "Type: automl,\n",
       "Status: Completed)"
      ]
     },
     "execution_count": 27,
     "metadata": {},
     "output_type": "execute_result"
    }
   ],
   "source": [
    "run"
   ]
  },
  {
   "cell_type": "markdown",
   "metadata": {
    "slideshow": {
     "slide_type": "slide"
    }
   },
   "source": [
    "### Retrieve the Best Model\n",
    "Below we select the best model from all the training iterations using the `get_output` method."
   ]
  },
  {
   "cell_type": "code",
   "execution_count": 28,
   "metadata": {
    "slideshow": {
     "slide_type": "fragment"
    }
   },
   "outputs": [
    {
     "data": {
      "text/plain": [
       "[('timeseriestransformer', TimeSeriesTransformer(logger=None,\n",
       "             pipeline_type=<TimeSeriesPipelineType.FULL: 1>)),\n",
       " ('prefittedsoftvotingregressor',\n",
       "  PreFittedSoftVotingRegressor(estimators=[('5', Pipeline(memory=None,\n",
       "       steps=[('maxabsscaler', MaxAbsScaler(copy=True)), ('decisiontreeregressor', DecisionTreeRegressor(criterion='friedman_mse', max_depth=None,\n",
       "             max_features=0.5, max_leaf_nodes=None,\n",
       "             min_impurity_decrease=0.0, min_impurity_split=None,\n",
       "    ...    min_weight_fraction_leaf=0.0, presort=False, random_state=None,\n",
       "             splitter='best'))]))],\n",
       "                 flatten_transform=None,\n",
       "                 weights=[0.25, 0.08333333333333333, 0.08333333333333333, 0.3333333333333333, 0.16666666666666666, 0.08333333333333333]))]"
      ]
     },
     "execution_count": 28,
     "metadata": {},
     "output_type": "execute_result"
    }
   ],
   "source": [
    "best_run, fitted_model = run.get_output()\n",
    "fitted_model.steps"
   ]
  },
  {
   "cell_type": "markdown",
   "metadata": {
    "slideshow": {
     "slide_type": "slide"
    }
   },
   "source": [
    "## Analysis\n",
    "Below we take a look at the model produced"
   ]
  },
  {
   "cell_type": "markdown",
   "metadata": {
    "slideshow": {
     "slide_type": "fragment"
    }
   },
   "source": [
    "### Featurization\n",
    "You can access the engineered feature names generated in time-series featurization"
   ]
  },
  {
   "cell_type": "code",
   "execution_count": 29,
   "metadata": {
    "slideshow": {
     "slide_type": "fragment"
    }
   },
   "outputs": [
    {
     "data": {
      "text/plain": [
       "['horizon_origin',\n",
       " 'temp',\n",
       " 'temp_WASNULL',\n",
       " '_automl_target_col_lag12H',\n",
       " '_automl_target_col_min_window6H',\n",
       " '_automl_target_col_max_window6H',\n",
       " '_automl_target_col_mean_window6H',\n",
       " 'year',\n",
       " 'half',\n",
       " 'quarter',\n",
       " 'month',\n",
       " 'day',\n",
       " 'hour',\n",
       " 'am_pm',\n",
       " 'hour12',\n",
       " 'wday',\n",
       " 'qday',\n",
       " 'week']"
      ]
     },
     "execution_count": 29,
     "metadata": {},
     "output_type": "execute_result"
    }
   ],
   "source": [
    "fitted_model.named_steps['timeseriestransformer'].get_engineered_feature_names()"
   ]
  },
  {
   "cell_type": "markdown",
   "metadata": {
    "slideshow": {
     "slide_type": "subslide"
    }
   },
   "source": [
    "### View featurization summary\n",
    "You can also see what featurization steps were performed on different raw features in the user data. For each raw feature in the user data, the following information is displayed:\n",
    "\n",
    "- Raw feature name\n",
    "- Number of engineered features formed out of this raw feature\n",
    "- Type detected\n",
    "- If feature was dropped\n",
    "- List of feature transformations for the raw feature"
   ]
  },
  {
   "cell_type": "code",
   "execution_count": 30,
   "metadata": {},
   "outputs": [
    {
     "data": {
      "text/html": [
       "<div>\n",
       "<style scoped>\n",
       "    .dataframe tbody tr th:only-of-type {\n",
       "        vertical-align: middle;\n",
       "    }\n",
       "\n",
       "    .dataframe tbody tr th {\n",
       "        vertical-align: top;\n",
       "    }\n",
       "\n",
       "    .dataframe thead th {\n",
       "        text-align: right;\n",
       "    }\n",
       "</style>\n",
       "<table border=\"1\" class=\"dataframe\">\n",
       "  <thead>\n",
       "    <tr style=\"text-align: right;\">\n",
       "      <th></th>\n",
       "      <th>Dropped</th>\n",
       "      <th>EngineeredFeatureCount</th>\n",
       "      <th>RawFeatureName</th>\n",
       "      <th>Transformations</th>\n",
       "      <th>TypeDetected</th>\n",
       "    </tr>\n",
       "  </thead>\n",
       "  <tbody>\n",
       "    <tr>\n",
       "      <th>0</th>\n",
       "      <td>No</td>\n",
       "      <td>12</td>\n",
       "      <td>timestamp</td>\n",
       "      <td>[MaxHorizonFeaturizer, DateTimeTransformer, DateTimeTransformer, DateTimeTransformer, DateTimeTransformer, DateTimeTransformer, DateTimeTransformer, DateTimeTransformer, DateTimeTransformer, DateTimeTransformer, DateTimeTransformer, DateTimeTransformer]</td>\n",
       "      <td>DateTime</td>\n",
       "    </tr>\n",
       "    <tr>\n",
       "      <th>1</th>\n",
       "      <td>No</td>\n",
       "      <td>2</td>\n",
       "      <td>temp</td>\n",
       "      <td>[MeanImputer, ImputationMarker]</td>\n",
       "      <td>Numeric</td>\n",
       "    </tr>\n",
       "    <tr>\n",
       "      <th>2</th>\n",
       "      <td>No</td>\n",
       "      <td>4</td>\n",
       "      <td>_automl_target_col</td>\n",
       "      <td>[Lag, minRollingWindow, maxRollingWindow, meanRollingWindow]</td>\n",
       "      <td>Numeric</td>\n",
       "    </tr>\n",
       "  </tbody>\n",
       "</table>\n",
       "</div>"
      ],
      "text/plain": [
       "  Dropped  EngineeredFeatureCount      RawFeatureName  \\\n",
       "0  No      12                      timestamp            \n",
       "1  No      2                       temp                 \n",
       "2  No      4                       _automl_target_col   \n",
       "\n",
       "                                                                                                                                                                                                                                                 Transformations  \\\n",
       "0  [MaxHorizonFeaturizer, DateTimeTransformer, DateTimeTransformer, DateTimeTransformer, DateTimeTransformer, DateTimeTransformer, DateTimeTransformer, DateTimeTransformer, DateTimeTransformer, DateTimeTransformer, DateTimeTransformer, DateTimeTransformer]   \n",
       "1  [MeanImputer, ImputationMarker]                                                                                                                                                                                                                                 \n",
       "2  [Lag, minRollingWindow, maxRollingWindow, meanRollingWindow]                                                                                                                                                                                                    \n",
       "\n",
       "  TypeDetected  \n",
       "0  DateTime     \n",
       "1  Numeric      \n",
       "2  Numeric      "
      ]
     },
     "execution_count": 30,
     "metadata": {},
     "output_type": "execute_result"
    }
   ],
   "source": [
    "# Get the featurization summary as a list of JSON\n",
    "featurization_summary = fitted_model.named_steps['timeseriestransformer'].get_featurization_summary()\n",
    "# View the featurization summary as a pandas dataframe\n",
    "pd.DataFrame.from_records(featurization_summary)"
   ]
  },
  {
   "cell_type": "markdown",
   "metadata": {
    "slideshow": {
     "slide_type": "slide"
    }
   },
   "source": [
    "## Forecasting\n",
    "Now that we have retrieved the best pipeline/model, it can be used to make predictions on test data."
   ]
  },
  {
   "cell_type": "markdown",
   "metadata": {
    "slideshow": {
     "slide_type": "subslide"
    }
   },
   "source": [
    "### Forecast Function\n",
    "For forecasting, we will use the forecast function instead of the predict function. There are two reasons for this.\n",
    "\n",
    "We need to pass the recent values of the target variable y, whereas the scikit-compatible predict function only takes the non-target variables 'test'. In our case, the test data immediately follows the training data, and we fill the target variable with NaN. The NaN serves as a question mark for the forecaster to fill with the actuals. Using the forecast function will produce forecasts using the shortest possible forecast horizon. The last time at which a definite (non-NaN) value is seen is the forecast origin - the last time when the value of the target is known.\n",
    "\n",
    "Since this model is needs the most recent 12 lag values to make predictions and we set the HORIZON to 1, we can only predict the 13th value in a single call, not the entire test set."
   ]
  },
  {
   "cell_type": "code",
   "execution_count": 31,
   "metadata": {},
   "outputs": [],
   "source": [
    "# First, we remove the target values from the test set:\n",
    "X_test = ds_test.iloc[:13].copy()\n",
    "y_test = X_test.pop('load').values\n",
    "\n",
    "# The forecast origin will be at the beginning of the first forecast period.\n",
    "# (Which is the same time as the end of the last training period.)\n",
    "y_query = y_test.copy()\n",
    "y_query[-1] = np.nan\n",
    "\n",
    "# The featurized data, aligned to y, will also be returned.\n",
    "# This contains the assumptions that were made in the forecast\n",
    "# and helps align the forecast to the original data\n",
    "y_predictions, X_trans = fitted_model.forecast(X_test, y_query)"
   ]
  },
  {
   "cell_type": "markdown",
   "metadata": {
    "slideshow": {
     "slide_type": "subslide"
    }
   },
   "source": [
    "It is useful to look at how the inputs were transformed to create the predictions"
   ]
  },
  {
   "cell_type": "code",
   "execution_count": 32,
   "metadata": {},
   "outputs": [
    {
     "data": {
      "text/html": [
       "<div>\n",
       "<style scoped>\n",
       "    .dataframe tbody tr th:only-of-type {\n",
       "        vertical-align: middle;\n",
       "    }\n",
       "\n",
       "    .dataframe tbody tr th {\n",
       "        vertical-align: top;\n",
       "    }\n",
       "\n",
       "    .dataframe thead th {\n",
       "        text-align: right;\n",
       "    }\n",
       "</style>\n",
       "<table border=\"1\" class=\"dataframe\">\n",
       "  <thead>\n",
       "    <tr style=\"text-align: right;\">\n",
       "      <th></th>\n",
       "      <th></th>\n",
       "      <th></th>\n",
       "      <th>horizon_origin</th>\n",
       "      <th>temp</th>\n",
       "      <th>temp_WASNULL</th>\n",
       "      <th>_automl_target_col_lag12H</th>\n",
       "      <th>_automl_target_col_min_window6H</th>\n",
       "      <th>_automl_target_col_max_window6H</th>\n",
       "      <th>_automl_target_col_mean_window6H</th>\n",
       "      <th>year</th>\n",
       "      <th>half</th>\n",
       "      <th>quarter</th>\n",
       "      <th>month</th>\n",
       "      <th>day</th>\n",
       "      <th>hour</th>\n",
       "      <th>am_pm</th>\n",
       "      <th>hour12</th>\n",
       "      <th>wday</th>\n",
       "      <th>qday</th>\n",
       "      <th>week</th>\n",
       "      <th>_automl_target_col</th>\n",
       "    </tr>\n",
       "    <tr>\n",
       "      <th>timestamp</th>\n",
       "      <th>_automl_dummy_grain_col</th>\n",
       "      <th>origin</th>\n",
       "      <th></th>\n",
       "      <th></th>\n",
       "      <th></th>\n",
       "      <th></th>\n",
       "      <th></th>\n",
       "      <th></th>\n",
       "      <th></th>\n",
       "      <th></th>\n",
       "      <th></th>\n",
       "      <th></th>\n",
       "      <th></th>\n",
       "      <th></th>\n",
       "      <th></th>\n",
       "      <th></th>\n",
       "      <th></th>\n",
       "      <th></th>\n",
       "      <th></th>\n",
       "      <th></th>\n",
       "      <th></th>\n",
       "    </tr>\n",
       "  </thead>\n",
       "  <tbody>\n",
       "    <tr>\n",
       "      <th>2014-11-01 00:00:00</th>\n",
       "      <th>_automl_dummy_grain_col</th>\n",
       "      <th>2014-10-31 23:00:00</th>\n",
       "      <td>1</td>\n",
       "      <td>38.33</td>\n",
       "      <td>0</td>\n",
       "      <td>3369.00</td>\n",
       "      <td>2664.00</td>\n",
       "      <td>3466.00</td>\n",
       "      <td>3142.50</td>\n",
       "      <td>2014</td>\n",
       "      <td>2</td>\n",
       "      <td>4</td>\n",
       "      <td>11</td>\n",
       "      <td>1</td>\n",
       "      <td>0</td>\n",
       "      <td>0</td>\n",
       "      <td>0</td>\n",
       "      <td>5</td>\n",
       "      <td>32</td>\n",
       "      <td>44</td>\n",
       "      <td>2514.00</td>\n",
       "    </tr>\n",
       "    <tr>\n",
       "      <th>2014-11-01 01:00:00</th>\n",
       "      <th>_automl_dummy_grain_col</th>\n",
       "      <th>2014-11-01 00:00:00</th>\n",
       "      <td>1</td>\n",
       "      <td>37.33</td>\n",
       "      <td>0</td>\n",
       "      <td>3342.00</td>\n",
       "      <td>2514.00</td>\n",
       "      <td>3374.00</td>\n",
       "      <td>2983.83</td>\n",
       "      <td>2014</td>\n",
       "      <td>2</td>\n",
       "      <td>4</td>\n",
       "      <td>11</td>\n",
       "      <td>1</td>\n",
       "      <td>1</td>\n",
       "      <td>0</td>\n",
       "      <td>1</td>\n",
       "      <td>5</td>\n",
       "      <td>32</td>\n",
       "      <td>44</td>\n",
       "      <td>2434.00</td>\n",
       "    </tr>\n",
       "    <tr>\n",
       "      <th>2014-11-01 02:00:00</th>\n",
       "      <th>_automl_dummy_grain_col</th>\n",
       "      <th>2014-11-01 01:00:00</th>\n",
       "      <td>1</td>\n",
       "      <td>36.33</td>\n",
       "      <td>0</td>\n",
       "      <td>3287.00</td>\n",
       "      <td>2434.00</td>\n",
       "      <td>3315.00</td>\n",
       "      <td>2827.17</td>\n",
       "      <td>2014</td>\n",
       "      <td>2</td>\n",
       "      <td>4</td>\n",
       "      <td>11</td>\n",
       "      <td>1</td>\n",
       "      <td>2</td>\n",
       "      <td>0</td>\n",
       "      <td>2</td>\n",
       "      <td>5</td>\n",
       "      <td>32</td>\n",
       "      <td>44</td>\n",
       "      <td>2390.00</td>\n",
       "    </tr>\n",
       "    <tr>\n",
       "      <th>2014-11-01 03:00:00</th>\n",
       "      <th>_automl_dummy_grain_col</th>\n",
       "      <th>2014-11-01 02:00:00</th>\n",
       "      <td>1</td>\n",
       "      <td>36.33</td>\n",
       "      <td>0</td>\n",
       "      <td>3293.00</td>\n",
       "      <td>2390.00</td>\n",
       "      <td>3142.00</td>\n",
       "      <td>2673.00</td>\n",
       "      <td>2014</td>\n",
       "      <td>2</td>\n",
       "      <td>4</td>\n",
       "      <td>11</td>\n",
       "      <td>1</td>\n",
       "      <td>3</td>\n",
       "      <td>0</td>\n",
       "      <td>3</td>\n",
       "      <td>5</td>\n",
       "      <td>32</td>\n",
       "      <td>44</td>\n",
       "      <td>2382.00</td>\n",
       "    </tr>\n",
       "    <tr>\n",
       "      <th>2014-11-01 04:00:00</th>\n",
       "      <th>_automl_dummy_grain_col</th>\n",
       "      <th>2014-11-01 03:00:00</th>\n",
       "      <td>1</td>\n",
       "      <td>36.00</td>\n",
       "      <td>0</td>\n",
       "      <td>3358.00</td>\n",
       "      <td>2382.00</td>\n",
       "      <td>2894.00</td>\n",
       "      <td>2546.33</td>\n",
       "      <td>2014</td>\n",
       "      <td>2</td>\n",
       "      <td>4</td>\n",
       "      <td>11</td>\n",
       "      <td>1</td>\n",
       "      <td>4</td>\n",
       "      <td>0</td>\n",
       "      <td>4</td>\n",
       "      <td>5</td>\n",
       "      <td>32</td>\n",
       "      <td>44</td>\n",
       "      <td>2419.00</td>\n",
       "    </tr>\n",
       "    <tr>\n",
       "      <th>2014-11-01 05:00:00</th>\n",
       "      <th>_automl_dummy_grain_col</th>\n",
       "      <th>2014-11-01 04:00:00</th>\n",
       "      <td>1</td>\n",
       "      <td>37.33</td>\n",
       "      <td>0</td>\n",
       "      <td>3437.00</td>\n",
       "      <td>2382.00</td>\n",
       "      <td>2664.00</td>\n",
       "      <td>2467.17</td>\n",
       "      <td>2014</td>\n",
       "      <td>2</td>\n",
       "      <td>4</td>\n",
       "      <td>11</td>\n",
       "      <td>1</td>\n",
       "      <td>5</td>\n",
       "      <td>0</td>\n",
       "      <td>5</td>\n",
       "      <td>5</td>\n",
       "      <td>32</td>\n",
       "      <td>44</td>\n",
       "      <td>2520.00</td>\n",
       "    </tr>\n",
       "    <tr>\n",
       "      <th>2014-11-01 06:00:00</th>\n",
       "      <th>_automl_dummy_grain_col</th>\n",
       "      <th>2014-11-01 05:00:00</th>\n",
       "      <td>1</td>\n",
       "      <td>37.33</td>\n",
       "      <td>0</td>\n",
       "      <td>3466.00</td>\n",
       "      <td>2382.00</td>\n",
       "      <td>2520.00</td>\n",
       "      <td>2443.17</td>\n",
       "      <td>2014</td>\n",
       "      <td>2</td>\n",
       "      <td>4</td>\n",
       "      <td>11</td>\n",
       "      <td>1</td>\n",
       "      <td>6</td>\n",
       "      <td>0</td>\n",
       "      <td>6</td>\n",
       "      <td>5</td>\n",
       "      <td>32</td>\n",
       "      <td>44</td>\n",
       "      <td>2714.00</td>\n",
       "    </tr>\n",
       "    <tr>\n",
       "      <th>2014-11-01 07:00:00</th>\n",
       "      <th>_automl_dummy_grain_col</th>\n",
       "      <th>2014-11-01 06:00:00</th>\n",
       "      <td>1</td>\n",
       "      <td>38.33</td>\n",
       "      <td>0</td>\n",
       "      <td>3374.00</td>\n",
       "      <td>2382.00</td>\n",
       "      <td>2714.00</td>\n",
       "      <td>2476.50</td>\n",
       "      <td>2014</td>\n",
       "      <td>2</td>\n",
       "      <td>4</td>\n",
       "      <td>11</td>\n",
       "      <td>1</td>\n",
       "      <td>7</td>\n",
       "      <td>0</td>\n",
       "      <td>7</td>\n",
       "      <td>5</td>\n",
       "      <td>32</td>\n",
       "      <td>44</td>\n",
       "      <td>2970.00</td>\n",
       "    </tr>\n",
       "    <tr>\n",
       "      <th>2014-11-01 08:00:00</th>\n",
       "      <th>_automl_dummy_grain_col</th>\n",
       "      <th>2014-11-01 07:00:00</th>\n",
       "      <td>1</td>\n",
       "      <td>39.00</td>\n",
       "      <td>0</td>\n",
       "      <td>3315.00</td>\n",
       "      <td>2382.00</td>\n",
       "      <td>2970.00</td>\n",
       "      <td>2565.83</td>\n",
       "      <td>2014</td>\n",
       "      <td>2</td>\n",
       "      <td>4</td>\n",
       "      <td>11</td>\n",
       "      <td>1</td>\n",
       "      <td>8</td>\n",
       "      <td>0</td>\n",
       "      <td>8</td>\n",
       "      <td>5</td>\n",
       "      <td>32</td>\n",
       "      <td>44</td>\n",
       "      <td>3189.00</td>\n",
       "    </tr>\n",
       "    <tr>\n",
       "      <th>2014-11-01 09:00:00</th>\n",
       "      <th>_automl_dummy_grain_col</th>\n",
       "      <th>2014-11-01 08:00:00</th>\n",
       "      <td>1</td>\n",
       "      <td>41.33</td>\n",
       "      <td>0</td>\n",
       "      <td>3142.00</td>\n",
       "      <td>2382.00</td>\n",
       "      <td>3189.00</td>\n",
       "      <td>2699.00</td>\n",
       "      <td>2014</td>\n",
       "      <td>2</td>\n",
       "      <td>4</td>\n",
       "      <td>11</td>\n",
       "      <td>1</td>\n",
       "      <td>9</td>\n",
       "      <td>0</td>\n",
       "      <td>9</td>\n",
       "      <td>5</td>\n",
       "      <td>32</td>\n",
       "      <td>44</td>\n",
       "      <td>3356.00</td>\n",
       "    </tr>\n",
       "    <tr>\n",
       "      <th>2014-11-01 10:00:00</th>\n",
       "      <th>_automl_dummy_grain_col</th>\n",
       "      <th>2014-11-01 09:00:00</th>\n",
       "      <td>1</td>\n",
       "      <td>43.00</td>\n",
       "      <td>0</td>\n",
       "      <td>2894.00</td>\n",
       "      <td>2419.00</td>\n",
       "      <td>3356.00</td>\n",
       "      <td>2861.33</td>\n",
       "      <td>2014</td>\n",
       "      <td>2</td>\n",
       "      <td>4</td>\n",
       "      <td>11</td>\n",
       "      <td>1</td>\n",
       "      <td>10</td>\n",
       "      <td>0</td>\n",
       "      <td>10</td>\n",
       "      <td>5</td>\n",
       "      <td>32</td>\n",
       "      <td>44</td>\n",
       "      <td>3436.00</td>\n",
       "    </tr>\n",
       "    <tr>\n",
       "      <th>2014-11-01 11:00:00</th>\n",
       "      <th>_automl_dummy_grain_col</th>\n",
       "      <th>2014-11-01 10:00:00</th>\n",
       "      <td>1</td>\n",
       "      <td>42.00</td>\n",
       "      <td>0</td>\n",
       "      <td>2664.00</td>\n",
       "      <td>2520.00</td>\n",
       "      <td>3436.00</td>\n",
       "      <td>3030.83</td>\n",
       "      <td>2014</td>\n",
       "      <td>2</td>\n",
       "      <td>4</td>\n",
       "      <td>11</td>\n",
       "      <td>1</td>\n",
       "      <td>11</td>\n",
       "      <td>0</td>\n",
       "      <td>11</td>\n",
       "      <td>5</td>\n",
       "      <td>32</td>\n",
       "      <td>44</td>\n",
       "      <td>3464.00</td>\n",
       "    </tr>\n",
       "    <tr>\n",
       "      <th>2014-11-01 12:00:00</th>\n",
       "      <th>_automl_dummy_grain_col</th>\n",
       "      <th>2014-11-01 11:00:00</th>\n",
       "      <td>1</td>\n",
       "      <td>42.33</td>\n",
       "      <td>0</td>\n",
       "      <td>2514.00</td>\n",
       "      <td>2714.00</td>\n",
       "      <td>3464.00</td>\n",
       "      <td>3188.17</td>\n",
       "      <td>2014</td>\n",
       "      <td>2</td>\n",
       "      <td>4</td>\n",
       "      <td>11</td>\n",
       "      <td>1</td>\n",
       "      <td>12</td>\n",
       "      <td>1</td>\n",
       "      <td>12</td>\n",
       "      <td>5</td>\n",
       "      <td>32</td>\n",
       "      <td>44</td>\n",
       "      <td>3417.23</td>\n",
       "    </tr>\n",
       "  </tbody>\n",
       "</table>\n",
       "</div>"
      ],
      "text/plain": [
       "                                                                 horizon_origin  \\\n",
       "timestamp           _automl_dummy_grain_col origin                                \n",
       "2014-11-01 00:00:00 _automl_dummy_grain_col 2014-10-31 23:00:00  1                \n",
       "2014-11-01 01:00:00 _automl_dummy_grain_col 2014-11-01 00:00:00  1                \n",
       "2014-11-01 02:00:00 _automl_dummy_grain_col 2014-11-01 01:00:00  1                \n",
       "2014-11-01 03:00:00 _automl_dummy_grain_col 2014-11-01 02:00:00  1                \n",
       "2014-11-01 04:00:00 _automl_dummy_grain_col 2014-11-01 03:00:00  1                \n",
       "2014-11-01 05:00:00 _automl_dummy_grain_col 2014-11-01 04:00:00  1                \n",
       "2014-11-01 06:00:00 _automl_dummy_grain_col 2014-11-01 05:00:00  1                \n",
       "2014-11-01 07:00:00 _automl_dummy_grain_col 2014-11-01 06:00:00  1                \n",
       "2014-11-01 08:00:00 _automl_dummy_grain_col 2014-11-01 07:00:00  1                \n",
       "2014-11-01 09:00:00 _automl_dummy_grain_col 2014-11-01 08:00:00  1                \n",
       "2014-11-01 10:00:00 _automl_dummy_grain_col 2014-11-01 09:00:00  1                \n",
       "2014-11-01 11:00:00 _automl_dummy_grain_col 2014-11-01 10:00:00  1                \n",
       "2014-11-01 12:00:00 _automl_dummy_grain_col 2014-11-01 11:00:00  1                \n",
       "\n",
       "                                                                 temp  \\\n",
       "timestamp           _automl_dummy_grain_col origin                      \n",
       "2014-11-01 00:00:00 _automl_dummy_grain_col 2014-10-31 23:00:00 38.33   \n",
       "2014-11-01 01:00:00 _automl_dummy_grain_col 2014-11-01 00:00:00 37.33   \n",
       "2014-11-01 02:00:00 _automl_dummy_grain_col 2014-11-01 01:00:00 36.33   \n",
       "2014-11-01 03:00:00 _automl_dummy_grain_col 2014-11-01 02:00:00 36.33   \n",
       "2014-11-01 04:00:00 _automl_dummy_grain_col 2014-11-01 03:00:00 36.00   \n",
       "2014-11-01 05:00:00 _automl_dummy_grain_col 2014-11-01 04:00:00 37.33   \n",
       "2014-11-01 06:00:00 _automl_dummy_grain_col 2014-11-01 05:00:00 37.33   \n",
       "2014-11-01 07:00:00 _automl_dummy_grain_col 2014-11-01 06:00:00 38.33   \n",
       "2014-11-01 08:00:00 _automl_dummy_grain_col 2014-11-01 07:00:00 39.00   \n",
       "2014-11-01 09:00:00 _automl_dummy_grain_col 2014-11-01 08:00:00 41.33   \n",
       "2014-11-01 10:00:00 _automl_dummy_grain_col 2014-11-01 09:00:00 43.00   \n",
       "2014-11-01 11:00:00 _automl_dummy_grain_col 2014-11-01 10:00:00 42.00   \n",
       "2014-11-01 12:00:00 _automl_dummy_grain_col 2014-11-01 11:00:00 42.33   \n",
       "\n",
       "                                                                 temp_WASNULL  \\\n",
       "timestamp           _automl_dummy_grain_col origin                              \n",
       "2014-11-01 00:00:00 _automl_dummy_grain_col 2014-10-31 23:00:00  0              \n",
       "2014-11-01 01:00:00 _automl_dummy_grain_col 2014-11-01 00:00:00  0              \n",
       "2014-11-01 02:00:00 _automl_dummy_grain_col 2014-11-01 01:00:00  0              \n",
       "2014-11-01 03:00:00 _automl_dummy_grain_col 2014-11-01 02:00:00  0              \n",
       "2014-11-01 04:00:00 _automl_dummy_grain_col 2014-11-01 03:00:00  0              \n",
       "2014-11-01 05:00:00 _automl_dummy_grain_col 2014-11-01 04:00:00  0              \n",
       "2014-11-01 06:00:00 _automl_dummy_grain_col 2014-11-01 05:00:00  0              \n",
       "2014-11-01 07:00:00 _automl_dummy_grain_col 2014-11-01 06:00:00  0              \n",
       "2014-11-01 08:00:00 _automl_dummy_grain_col 2014-11-01 07:00:00  0              \n",
       "2014-11-01 09:00:00 _automl_dummy_grain_col 2014-11-01 08:00:00  0              \n",
       "2014-11-01 10:00:00 _automl_dummy_grain_col 2014-11-01 09:00:00  0              \n",
       "2014-11-01 11:00:00 _automl_dummy_grain_col 2014-11-01 10:00:00  0              \n",
       "2014-11-01 12:00:00 _automl_dummy_grain_col 2014-11-01 11:00:00  0              \n",
       "\n",
       "                                                                 _automl_target_col_lag12H  \\\n",
       "timestamp           _automl_dummy_grain_col origin                                           \n",
       "2014-11-01 00:00:00 _automl_dummy_grain_col 2014-10-31 23:00:00 3369.00                      \n",
       "2014-11-01 01:00:00 _automl_dummy_grain_col 2014-11-01 00:00:00 3342.00                      \n",
       "2014-11-01 02:00:00 _automl_dummy_grain_col 2014-11-01 01:00:00 3287.00                      \n",
       "2014-11-01 03:00:00 _automl_dummy_grain_col 2014-11-01 02:00:00 3293.00                      \n",
       "2014-11-01 04:00:00 _automl_dummy_grain_col 2014-11-01 03:00:00 3358.00                      \n",
       "2014-11-01 05:00:00 _automl_dummy_grain_col 2014-11-01 04:00:00 3437.00                      \n",
       "2014-11-01 06:00:00 _automl_dummy_grain_col 2014-11-01 05:00:00 3466.00                      \n",
       "2014-11-01 07:00:00 _automl_dummy_grain_col 2014-11-01 06:00:00 3374.00                      \n",
       "2014-11-01 08:00:00 _automl_dummy_grain_col 2014-11-01 07:00:00 3315.00                      \n",
       "2014-11-01 09:00:00 _automl_dummy_grain_col 2014-11-01 08:00:00 3142.00                      \n",
       "2014-11-01 10:00:00 _automl_dummy_grain_col 2014-11-01 09:00:00 2894.00                      \n",
       "2014-11-01 11:00:00 _automl_dummy_grain_col 2014-11-01 10:00:00 2664.00                      \n",
       "2014-11-01 12:00:00 _automl_dummy_grain_col 2014-11-01 11:00:00 2514.00                      \n",
       "\n",
       "                                                                 _automl_target_col_min_window6H  \\\n",
       "timestamp           _automl_dummy_grain_col origin                                                 \n",
       "2014-11-01 00:00:00 _automl_dummy_grain_col 2014-10-31 23:00:00 2664.00                            \n",
       "2014-11-01 01:00:00 _automl_dummy_grain_col 2014-11-01 00:00:00 2514.00                            \n",
       "2014-11-01 02:00:00 _automl_dummy_grain_col 2014-11-01 01:00:00 2434.00                            \n",
       "2014-11-01 03:00:00 _automl_dummy_grain_col 2014-11-01 02:00:00 2390.00                            \n",
       "2014-11-01 04:00:00 _automl_dummy_grain_col 2014-11-01 03:00:00 2382.00                            \n",
       "2014-11-01 05:00:00 _automl_dummy_grain_col 2014-11-01 04:00:00 2382.00                            \n",
       "2014-11-01 06:00:00 _automl_dummy_grain_col 2014-11-01 05:00:00 2382.00                            \n",
       "2014-11-01 07:00:00 _automl_dummy_grain_col 2014-11-01 06:00:00 2382.00                            \n",
       "2014-11-01 08:00:00 _automl_dummy_grain_col 2014-11-01 07:00:00 2382.00                            \n",
       "2014-11-01 09:00:00 _automl_dummy_grain_col 2014-11-01 08:00:00 2382.00                            \n",
       "2014-11-01 10:00:00 _automl_dummy_grain_col 2014-11-01 09:00:00 2419.00                            \n",
       "2014-11-01 11:00:00 _automl_dummy_grain_col 2014-11-01 10:00:00 2520.00                            \n",
       "2014-11-01 12:00:00 _automl_dummy_grain_col 2014-11-01 11:00:00 2714.00                            \n",
       "\n",
       "                                                                 _automl_target_col_max_window6H  \\\n",
       "timestamp           _automl_dummy_grain_col origin                                                 \n",
       "2014-11-01 00:00:00 _automl_dummy_grain_col 2014-10-31 23:00:00 3466.00                            \n",
       "2014-11-01 01:00:00 _automl_dummy_grain_col 2014-11-01 00:00:00 3374.00                            \n",
       "2014-11-01 02:00:00 _automl_dummy_grain_col 2014-11-01 01:00:00 3315.00                            \n",
       "2014-11-01 03:00:00 _automl_dummy_grain_col 2014-11-01 02:00:00 3142.00                            \n",
       "2014-11-01 04:00:00 _automl_dummy_grain_col 2014-11-01 03:00:00 2894.00                            \n",
       "2014-11-01 05:00:00 _automl_dummy_grain_col 2014-11-01 04:00:00 2664.00                            \n",
       "2014-11-01 06:00:00 _automl_dummy_grain_col 2014-11-01 05:00:00 2520.00                            \n",
       "2014-11-01 07:00:00 _automl_dummy_grain_col 2014-11-01 06:00:00 2714.00                            \n",
       "2014-11-01 08:00:00 _automl_dummy_grain_col 2014-11-01 07:00:00 2970.00                            \n",
       "2014-11-01 09:00:00 _automl_dummy_grain_col 2014-11-01 08:00:00 3189.00                            \n",
       "2014-11-01 10:00:00 _automl_dummy_grain_col 2014-11-01 09:00:00 3356.00                            \n",
       "2014-11-01 11:00:00 _automl_dummy_grain_col 2014-11-01 10:00:00 3436.00                            \n",
       "2014-11-01 12:00:00 _automl_dummy_grain_col 2014-11-01 11:00:00 3464.00                            \n",
       "\n",
       "                                                                 _automl_target_col_mean_window6H  \\\n",
       "timestamp           _automl_dummy_grain_col origin                                                  \n",
       "2014-11-01 00:00:00 _automl_dummy_grain_col 2014-10-31 23:00:00 3142.50                             \n",
       "2014-11-01 01:00:00 _automl_dummy_grain_col 2014-11-01 00:00:00 2983.83                             \n",
       "2014-11-01 02:00:00 _automl_dummy_grain_col 2014-11-01 01:00:00 2827.17                             \n",
       "2014-11-01 03:00:00 _automl_dummy_grain_col 2014-11-01 02:00:00 2673.00                             \n",
       "2014-11-01 04:00:00 _automl_dummy_grain_col 2014-11-01 03:00:00 2546.33                             \n",
       "2014-11-01 05:00:00 _automl_dummy_grain_col 2014-11-01 04:00:00 2467.17                             \n",
       "2014-11-01 06:00:00 _automl_dummy_grain_col 2014-11-01 05:00:00 2443.17                             \n",
       "2014-11-01 07:00:00 _automl_dummy_grain_col 2014-11-01 06:00:00 2476.50                             \n",
       "2014-11-01 08:00:00 _automl_dummy_grain_col 2014-11-01 07:00:00 2565.83                             \n",
       "2014-11-01 09:00:00 _automl_dummy_grain_col 2014-11-01 08:00:00 2699.00                             \n",
       "2014-11-01 10:00:00 _automl_dummy_grain_col 2014-11-01 09:00:00 2861.33                             \n",
       "2014-11-01 11:00:00 _automl_dummy_grain_col 2014-11-01 10:00:00 3030.83                             \n",
       "2014-11-01 12:00:00 _automl_dummy_grain_col 2014-11-01 11:00:00 3188.17                             \n",
       "\n",
       "                                                                 year  half  \\\n",
       "timestamp           _automl_dummy_grain_col origin                            \n",
       "2014-11-01 00:00:00 _automl_dummy_grain_col 2014-10-31 23:00:00  2014  2      \n",
       "2014-11-01 01:00:00 _automl_dummy_grain_col 2014-11-01 00:00:00  2014  2      \n",
       "2014-11-01 02:00:00 _automl_dummy_grain_col 2014-11-01 01:00:00  2014  2      \n",
       "2014-11-01 03:00:00 _automl_dummy_grain_col 2014-11-01 02:00:00  2014  2      \n",
       "2014-11-01 04:00:00 _automl_dummy_grain_col 2014-11-01 03:00:00  2014  2      \n",
       "2014-11-01 05:00:00 _automl_dummy_grain_col 2014-11-01 04:00:00  2014  2      \n",
       "2014-11-01 06:00:00 _automl_dummy_grain_col 2014-11-01 05:00:00  2014  2      \n",
       "2014-11-01 07:00:00 _automl_dummy_grain_col 2014-11-01 06:00:00  2014  2      \n",
       "2014-11-01 08:00:00 _automl_dummy_grain_col 2014-11-01 07:00:00  2014  2      \n",
       "2014-11-01 09:00:00 _automl_dummy_grain_col 2014-11-01 08:00:00  2014  2      \n",
       "2014-11-01 10:00:00 _automl_dummy_grain_col 2014-11-01 09:00:00  2014  2      \n",
       "2014-11-01 11:00:00 _automl_dummy_grain_col 2014-11-01 10:00:00  2014  2      \n",
       "2014-11-01 12:00:00 _automl_dummy_grain_col 2014-11-01 11:00:00  2014  2      \n",
       "\n",
       "                                                                 quarter  \\\n",
       "timestamp           _automl_dummy_grain_col origin                         \n",
       "2014-11-01 00:00:00 _automl_dummy_grain_col 2014-10-31 23:00:00  4         \n",
       "2014-11-01 01:00:00 _automl_dummy_grain_col 2014-11-01 00:00:00  4         \n",
       "2014-11-01 02:00:00 _automl_dummy_grain_col 2014-11-01 01:00:00  4         \n",
       "2014-11-01 03:00:00 _automl_dummy_grain_col 2014-11-01 02:00:00  4         \n",
       "2014-11-01 04:00:00 _automl_dummy_grain_col 2014-11-01 03:00:00  4         \n",
       "2014-11-01 05:00:00 _automl_dummy_grain_col 2014-11-01 04:00:00  4         \n",
       "2014-11-01 06:00:00 _automl_dummy_grain_col 2014-11-01 05:00:00  4         \n",
       "2014-11-01 07:00:00 _automl_dummy_grain_col 2014-11-01 06:00:00  4         \n",
       "2014-11-01 08:00:00 _automl_dummy_grain_col 2014-11-01 07:00:00  4         \n",
       "2014-11-01 09:00:00 _automl_dummy_grain_col 2014-11-01 08:00:00  4         \n",
       "2014-11-01 10:00:00 _automl_dummy_grain_col 2014-11-01 09:00:00  4         \n",
       "2014-11-01 11:00:00 _automl_dummy_grain_col 2014-11-01 10:00:00  4         \n",
       "2014-11-01 12:00:00 _automl_dummy_grain_col 2014-11-01 11:00:00  4         \n",
       "\n",
       "                                                                 month  day  \\\n",
       "timestamp           _automl_dummy_grain_col origin                            \n",
       "2014-11-01 00:00:00 _automl_dummy_grain_col 2014-10-31 23:00:00  11     1     \n",
       "2014-11-01 01:00:00 _automl_dummy_grain_col 2014-11-01 00:00:00  11     1     \n",
       "2014-11-01 02:00:00 _automl_dummy_grain_col 2014-11-01 01:00:00  11     1     \n",
       "2014-11-01 03:00:00 _automl_dummy_grain_col 2014-11-01 02:00:00  11     1     \n",
       "2014-11-01 04:00:00 _automl_dummy_grain_col 2014-11-01 03:00:00  11     1     \n",
       "2014-11-01 05:00:00 _automl_dummy_grain_col 2014-11-01 04:00:00  11     1     \n",
       "2014-11-01 06:00:00 _automl_dummy_grain_col 2014-11-01 05:00:00  11     1     \n",
       "2014-11-01 07:00:00 _automl_dummy_grain_col 2014-11-01 06:00:00  11     1     \n",
       "2014-11-01 08:00:00 _automl_dummy_grain_col 2014-11-01 07:00:00  11     1     \n",
       "2014-11-01 09:00:00 _automl_dummy_grain_col 2014-11-01 08:00:00  11     1     \n",
       "2014-11-01 10:00:00 _automl_dummy_grain_col 2014-11-01 09:00:00  11     1     \n",
       "2014-11-01 11:00:00 _automl_dummy_grain_col 2014-11-01 10:00:00  11     1     \n",
       "2014-11-01 12:00:00 _automl_dummy_grain_col 2014-11-01 11:00:00  11     1     \n",
       "\n",
       "                                                                 hour  am_pm  \\\n",
       "timestamp           _automl_dummy_grain_col origin                             \n",
       "2014-11-01 00:00:00 _automl_dummy_grain_col 2014-10-31 23:00:00  0     0       \n",
       "2014-11-01 01:00:00 _automl_dummy_grain_col 2014-11-01 00:00:00  1     0       \n",
       "2014-11-01 02:00:00 _automl_dummy_grain_col 2014-11-01 01:00:00  2     0       \n",
       "2014-11-01 03:00:00 _automl_dummy_grain_col 2014-11-01 02:00:00  3     0       \n",
       "2014-11-01 04:00:00 _automl_dummy_grain_col 2014-11-01 03:00:00  4     0       \n",
       "2014-11-01 05:00:00 _automl_dummy_grain_col 2014-11-01 04:00:00  5     0       \n",
       "2014-11-01 06:00:00 _automl_dummy_grain_col 2014-11-01 05:00:00  6     0       \n",
       "2014-11-01 07:00:00 _automl_dummy_grain_col 2014-11-01 06:00:00  7     0       \n",
       "2014-11-01 08:00:00 _automl_dummy_grain_col 2014-11-01 07:00:00  8     0       \n",
       "2014-11-01 09:00:00 _automl_dummy_grain_col 2014-11-01 08:00:00  9     0       \n",
       "2014-11-01 10:00:00 _automl_dummy_grain_col 2014-11-01 09:00:00  10    0       \n",
       "2014-11-01 11:00:00 _automl_dummy_grain_col 2014-11-01 10:00:00  11    0       \n",
       "2014-11-01 12:00:00 _automl_dummy_grain_col 2014-11-01 11:00:00  12    1       \n",
       "\n",
       "                                                                 hour12  wday  \\\n",
       "timestamp           _automl_dummy_grain_col origin                              \n",
       "2014-11-01 00:00:00 _automl_dummy_grain_col 2014-10-31 23:00:00  0       5      \n",
       "2014-11-01 01:00:00 _automl_dummy_grain_col 2014-11-01 00:00:00  1       5      \n",
       "2014-11-01 02:00:00 _automl_dummy_grain_col 2014-11-01 01:00:00  2       5      \n",
       "2014-11-01 03:00:00 _automl_dummy_grain_col 2014-11-01 02:00:00  3       5      \n",
       "2014-11-01 04:00:00 _automl_dummy_grain_col 2014-11-01 03:00:00  4       5      \n",
       "2014-11-01 05:00:00 _automl_dummy_grain_col 2014-11-01 04:00:00  5       5      \n",
       "2014-11-01 06:00:00 _automl_dummy_grain_col 2014-11-01 05:00:00  6       5      \n",
       "2014-11-01 07:00:00 _automl_dummy_grain_col 2014-11-01 06:00:00  7       5      \n",
       "2014-11-01 08:00:00 _automl_dummy_grain_col 2014-11-01 07:00:00  8       5      \n",
       "2014-11-01 09:00:00 _automl_dummy_grain_col 2014-11-01 08:00:00  9       5      \n",
       "2014-11-01 10:00:00 _automl_dummy_grain_col 2014-11-01 09:00:00  10      5      \n",
       "2014-11-01 11:00:00 _automl_dummy_grain_col 2014-11-01 10:00:00  11      5      \n",
       "2014-11-01 12:00:00 _automl_dummy_grain_col 2014-11-01 11:00:00  12      5      \n",
       "\n",
       "                                                                 qday  week  \\\n",
       "timestamp           _automl_dummy_grain_col origin                            \n",
       "2014-11-01 00:00:00 _automl_dummy_grain_col 2014-10-31 23:00:00  32    44     \n",
       "2014-11-01 01:00:00 _automl_dummy_grain_col 2014-11-01 00:00:00  32    44     \n",
       "2014-11-01 02:00:00 _automl_dummy_grain_col 2014-11-01 01:00:00  32    44     \n",
       "2014-11-01 03:00:00 _automl_dummy_grain_col 2014-11-01 02:00:00  32    44     \n",
       "2014-11-01 04:00:00 _automl_dummy_grain_col 2014-11-01 03:00:00  32    44     \n",
       "2014-11-01 05:00:00 _automl_dummy_grain_col 2014-11-01 04:00:00  32    44     \n",
       "2014-11-01 06:00:00 _automl_dummy_grain_col 2014-11-01 05:00:00  32    44     \n",
       "2014-11-01 07:00:00 _automl_dummy_grain_col 2014-11-01 06:00:00  32    44     \n",
       "2014-11-01 08:00:00 _automl_dummy_grain_col 2014-11-01 07:00:00  32    44     \n",
       "2014-11-01 09:00:00 _automl_dummy_grain_col 2014-11-01 08:00:00  32    44     \n",
       "2014-11-01 10:00:00 _automl_dummy_grain_col 2014-11-01 09:00:00  32    44     \n",
       "2014-11-01 11:00:00 _automl_dummy_grain_col 2014-11-01 10:00:00  32    44     \n",
       "2014-11-01 12:00:00 _automl_dummy_grain_col 2014-11-01 11:00:00  32    44     \n",
       "\n",
       "                                                                 _automl_target_col  \n",
       "timestamp           _automl_dummy_grain_col origin                                   \n",
       "2014-11-01 00:00:00 _automl_dummy_grain_col 2014-10-31 23:00:00 2514.00              \n",
       "2014-11-01 01:00:00 _automl_dummy_grain_col 2014-11-01 00:00:00 2434.00              \n",
       "2014-11-01 02:00:00 _automl_dummy_grain_col 2014-11-01 01:00:00 2390.00              \n",
       "2014-11-01 03:00:00 _automl_dummy_grain_col 2014-11-01 02:00:00 2382.00              \n",
       "2014-11-01 04:00:00 _automl_dummy_grain_col 2014-11-01 03:00:00 2419.00              \n",
       "2014-11-01 05:00:00 _automl_dummy_grain_col 2014-11-01 04:00:00 2520.00              \n",
       "2014-11-01 06:00:00 _automl_dummy_grain_col 2014-11-01 05:00:00 2714.00              \n",
       "2014-11-01 07:00:00 _automl_dummy_grain_col 2014-11-01 06:00:00 2970.00              \n",
       "2014-11-01 08:00:00 _automl_dummy_grain_col 2014-11-01 07:00:00 3189.00              \n",
       "2014-11-01 09:00:00 _automl_dummy_grain_col 2014-11-01 08:00:00 3356.00              \n",
       "2014-11-01 10:00:00 _automl_dummy_grain_col 2014-11-01 09:00:00 3436.00              \n",
       "2014-11-01 11:00:00 _automl_dummy_grain_col 2014-11-01 10:00:00 3464.00              \n",
       "2014-11-01 12:00:00 _automl_dummy_grain_col 2014-11-01 11:00:00 3417.23              "
      ]
     },
     "execution_count": 32,
     "metadata": {},
     "output_type": "execute_result"
    }
   ],
   "source": [
    "X_trans"
   ]
  },
  {
   "cell_type": "markdown",
   "metadata": {
    "slideshow": {
     "slide_type": "slide"
    }
   },
   "source": [
    "### Rolling Forecast\n",
    "In order to predict the test set, we need to do a ***rolling forecast***. For each value we want to forecast, we need to send to the model a window of data covering at least as many historical values as the maximum lag of the target used (12 in this case). The AutoML model will cache the tail of the training sequence to allow lookback for making predictions for the period immediately following the training window, so for the first few predictions we can get away with providing fewer than 12 observations in the call to `predict`.\n",
    "\n",
    "This is not the most efficient manner to do rolling forecasts, but allows the model to be stateless. Making predictions for the test set takes an order of magnitude longer than for the simple regression model."
   ]
  },
  {
   "cell_type": "code",
   "execution_count": 33,
   "metadata": {
    "slideshow": {
     "slide_type": "skip"
    }
   },
   "outputs": [],
   "source": [
    "from common.progress_bar import update_progress"
   ]
  },
  {
   "cell_type": "code",
   "execution_count": 34,
   "metadata": {
    "slideshow": {
     "slide_type": "fragment"
    }
   },
   "outputs": [
    {
     "name": "stdout",
     "output_type": "stream",
     "text": [
      "Progress: [####################] 100.0%\n",
      "CPU times: user 5min 8s, sys: 7.19 s, total: 5min 16s\n",
      "Wall time: 5min 11s\n"
     ]
    }
   ],
   "source": [
    "%%time\n",
    "predict = np.empty(0)\n",
    "# for ix in range(max_lag, ds_test.shape[0]):\n",
    "for ix in range(0, ds_test.shape[0]):\n",
    "    # First, we remove the target values from the test set:\n",
    "    X_test = ds_test.iloc[max(0, ix-max_lag):ix+1].copy()\n",
    "    y_test = X_test.pop('load').values\n",
    "    # The forecast origin will be the second last item (forecast 1 forward)\n",
    "    y_query = y_test.copy()\n",
    "    y_query[-1] = np.nan\n",
    "    # predict\n",
    "    y_predictions, X_trans = fitted_model.forecast(X_test, y_query)\n",
    "    # save\n",
    "    predict = np.append(predict, y_predictions[-1])\n",
    "    # Progress update\n",
    "    if not ix%10:\n",
    "        update_progress(ix/ds_test.shape[0])\n",
    "update_progress(1)"
   ]
  },
  {
   "cell_type": "markdown",
   "metadata": {
    "slideshow": {
     "slide_type": "slide"
    }
   },
   "source": [
    "### Evaluate"
   ]
  },
  {
   "cell_type": "markdown",
   "metadata": {},
   "source": [
    "Collect the target and predictions in a dataset"
   ]
  },
  {
   "cell_type": "code",
   "execution_count": 35,
   "metadata": {
    "slideshow": {
     "slide_type": "fragment"
    }
   },
   "outputs": [
    {
     "data": {
      "text/html": [
       "<div>\n",
       "<style scoped>\n",
       "    .dataframe tbody tr th:only-of-type {\n",
       "        vertical-align: middle;\n",
       "    }\n",
       "\n",
       "    .dataframe tbody tr th {\n",
       "        vertical-align: top;\n",
       "    }\n",
       "\n",
       "    .dataframe thead th {\n",
       "        text-align: right;\n",
       "    }\n",
       "</style>\n",
       "<table border=\"1\" class=\"dataframe\">\n",
       "  <thead>\n",
       "    <tr style=\"text-align: right;\">\n",
       "      <th></th>\n",
       "      <th>actual</th>\n",
       "      <th>temp</th>\n",
       "      <th>prediction</th>\n",
       "    </tr>\n",
       "  </thead>\n",
       "  <tbody>\n",
       "    <tr>\n",
       "      <th>2014-11-01 00:00:00</th>\n",
       "      <td>2514.00</td>\n",
       "      <td>38.33</td>\n",
       "      <td>2525.48</td>\n",
       "    </tr>\n",
       "    <tr>\n",
       "      <th>2014-11-01 01:00:00</th>\n",
       "      <td>2434.00</td>\n",
       "      <td>37.33</td>\n",
       "      <td>2453.32</td>\n",
       "    </tr>\n",
       "    <tr>\n",
       "      <th>2014-11-01 02:00:00</th>\n",
       "      <td>2390.00</td>\n",
       "      <td>36.33</td>\n",
       "      <td>2421.93</td>\n",
       "    </tr>\n",
       "    <tr>\n",
       "      <th>2014-11-01 03:00:00</th>\n",
       "      <td>2382.00</td>\n",
       "      <td>36.33</td>\n",
       "      <td>2421.68</td>\n",
       "    </tr>\n",
       "    <tr>\n",
       "      <th>2014-11-01 04:00:00</th>\n",
       "      <td>2419.00</td>\n",
       "      <td>36.00</td>\n",
       "      <td>2441.64</td>\n",
       "    </tr>\n",
       "    <tr>\n",
       "      <th>2014-11-01 05:00:00</th>\n",
       "      <td>2520.00</td>\n",
       "      <td>37.33</td>\n",
       "      <td>2582.01</td>\n",
       "    </tr>\n",
       "    <tr>\n",
       "      <th>2014-11-01 06:00:00</th>\n",
       "      <td>2714.00</td>\n",
       "      <td>37.33</td>\n",
       "      <td>2728.70</td>\n",
       "    </tr>\n",
       "    <tr>\n",
       "      <th>2014-11-01 07:00:00</th>\n",
       "      <td>2970.00</td>\n",
       "      <td>38.33</td>\n",
       "      <td>2977.94</td>\n",
       "    </tr>\n",
       "    <tr>\n",
       "      <th>2014-11-01 08:00:00</th>\n",
       "      <td>3189.00</td>\n",
       "      <td>39.00</td>\n",
       "      <td>3089.66</td>\n",
       "    </tr>\n",
       "    <tr>\n",
       "      <th>2014-11-01 09:00:00</th>\n",
       "      <td>3356.00</td>\n",
       "      <td>41.33</td>\n",
       "      <td>3250.90</td>\n",
       "    </tr>\n",
       "    <tr>\n",
       "      <th>2014-11-01 10:00:00</th>\n",
       "      <td>3436.00</td>\n",
       "      <td>43.00</td>\n",
       "      <td>3334.76</td>\n",
       "    </tr>\n",
       "    <tr>\n",
       "      <th>2014-11-01 11:00:00</th>\n",
       "      <td>3464.00</td>\n",
       "      <td>42.00</td>\n",
       "      <td>3434.69</td>\n",
       "    </tr>\n",
       "    <tr>\n",
       "      <th>2014-11-01 12:00:00</th>\n",
       "      <td>3439.00</td>\n",
       "      <td>42.33</td>\n",
       "      <td>3417.23</td>\n",
       "    </tr>\n",
       "  </tbody>\n",
       "</table>\n",
       "</div>"
      ],
      "text/plain": [
       "                     actual  temp  prediction\n",
       "2014-11-01 00:00:00 2514.00 38.33 2525.48    \n",
       "2014-11-01 01:00:00 2434.00 37.33 2453.32    \n",
       "2014-11-01 02:00:00 2390.00 36.33 2421.93    \n",
       "2014-11-01 03:00:00 2382.00 36.33 2421.68    \n",
       "2014-11-01 04:00:00 2419.00 36.00 2441.64    \n",
       "2014-11-01 05:00:00 2520.00 37.33 2582.01    \n",
       "2014-11-01 06:00:00 2714.00 37.33 2728.70    \n",
       "2014-11-01 07:00:00 2970.00 38.33 2977.94    \n",
       "2014-11-01 08:00:00 3189.00 39.00 3089.66    \n",
       "2014-11-01 09:00:00 3356.00 41.33 3250.90    \n",
       "2014-11-01 10:00:00 3436.00 43.00 3334.76    \n",
       "2014-11-01 11:00:00 3464.00 42.00 3434.69    \n",
       "2014-11-01 12:00:00 3439.00 42.33 3417.23    "
      ]
     },
     "execution_count": 35,
     "metadata": {},
     "output_type": "execute_result"
    }
   ],
   "source": [
    "eval_df = ds_test.copy().drop('timestamp', axis=1)\n",
    "eval_df['prediction'] = predict\n",
    "eval_df.rename(columns={'load':'actual'}, inplace=True)\n",
    "eval_df.head(max_lag+1)"
   ]
  },
  {
   "cell_type": "markdown",
   "metadata": {
    "slideshow": {
     "slide_type": "subslide"
    }
   },
   "source": [
    "Compute the mean absolute percentage error over all predictions"
   ]
  },
  {
   "cell_type": "code",
   "execution_count": 36,
   "metadata": {},
   "outputs": [
    {
     "name": "stdout",
     "output_type": "stream",
     "text": [
      "MAPE: 2.24%\n"
     ]
    }
   ],
   "source": [
    "print(\"MAPE: {:.2f}%\".format(100* mape(eval_df['prediction'], eval_df['actual'])))"
   ]
  },
  {
   "cell_type": "markdown",
   "metadata": {
    "slideshow": {
     "slide_type": "subslide"
    }
   },
   "source": [
    "Plot the predictions vs the actuals for the first week of the test set"
   ]
  },
  {
   "cell_type": "code",
   "execution_count": 37,
   "metadata": {},
   "outputs": [
    {
     "data": {
      "image/png": "[encoded data removed]",
      "text/plain": [
       "<Figure size 1080x576 with 1 Axes>"
      ]
     },
     "metadata": {
      "needs_background": "light"
     },
     "output_type": "display_data"
    }
   ],
   "source": [
    "eval_df[:'2014-11-08'] \\\n",
    "    .plot(y=['prediction', 'actual'], style=['r', 'b'], figsize=(15, 8))\n",
    "plt.xlabel('timestamp', fontsize=12)\n",
    "plt.ylabel('load', fontsize=12)\n",
    "plt.show()"
   ]
  },
  {
   "cell_type": "code",
   "execution_count": null,
   "metadata": {},
   "outputs": [],
   "source": []
  }
 ],
 "metadata": {
  "kernelspec": {
   "display_name": "Python 3.6 (dltf)",
   "language": "python",
   "name": "dltf"
  },
  "language_info": {
   "codemirror_mode": {
    "name": "ipython",
    "version": 3
   },
   "file_extension": ".py",
   "mimetype": "text/x-python",
   "name": "python",
   "nbconvert_exporter": "python",
   "pygments_lexer": "ipython3",
   "version": "3.6.9"
  }
 },
 "nbformat": 4,
 "nbformat_minor": 2
}
