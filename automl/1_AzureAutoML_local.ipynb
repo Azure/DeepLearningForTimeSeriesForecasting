{
 "cells": [
  {
   "cell_type": "markdown",
   "metadata": {
    "slideshow": {
     "slide_type": "slide"
    }
   },
   "source": [
    "# AutoML model\n",
    "\n",
    "In this notebook, we demonstrate how to:\n",
    "- prepare time series data for training a forecasting model using an automated ML model builder\n",
    "- Creating an Experiment using an existing Workspace\n",
    "- Configure AutoML using 'AutoMLConfig'\n",
    "- Train the model on local compute \n",
    "- Explore the engineered features and results\n",
    "- Configuration and run AutoML for a time-series model with lag and rolling window features\n",
    "- Run and explore the forecast\n",
    "- evaluate the model on a test dataset\n",
    "\n",
    "The data in this example is taken from the GEFCom2014 forecasting competition<sup>1</sup>. It consists of 3 years of hourly electricity load and temperature values between 2012 and 2014. The task is to forecast future values of electricity load. In this example, we show how to forecast one time step ahead, using historical load and temperature data only.\n",
    "\n",
    "This notebook is based on the energy forecasting notebook provided [here](https://github.com/Azure/MachineLearningNotebooks/blob/master/how-to-use-azureml/automated-machine-learning/forecasting-energy-demand/auto-ml-forecasting-energy-demand.ipynb).\n",
    "\n",
    "<sup>1</sup>Tao Hong, Pierre Pinson, Shu Fan, Hamidreza Zareipour, Alberto Troccoli and Rob J. Hyndman, \"Probabilistic energy forecasting: Global Energy Forecasting Competition 2014 and beyond\", International Journal of Forecasting, vol.32, no.3, pp 896-913, July-September, 2016."
   ]
  },
  {
   "cell_type": "markdown",
   "metadata": {
    "slideshow": {
     "slide_type": "slide"
    }
   },
   "source": [
    "## Imports\n",
    "We start with the usual imports and settings"
   ]
  },
  {
   "cell_type": "code",
   "execution_count": 1,
   "metadata": {
    "slideshow": {
     "slide_type": "-"
    }
   },
   "outputs": [],
   "source": [
    "import sys\n",
    "sys.path.append('..')\n",
    "\n",
    "import matplotlib.pyplot as plt\n",
    "%matplotlib inline\n",
    "\n",
    "import pandas as pd\n",
    "pd.options.display.float_format = '{:,.2f}'.format\n",
    "\n",
    "import numpy as np\n",
    "np.set_printoptions(precision=2)\n",
    "\n",
    "# Squash warning messages for cleaner output in the notebook\n",
    "import warnings\n",
    "warnings.showwarning = lambda *args, **kwargs: None\n",
    "warnings.filterwarnings(\"ignore\")"
   ]
  },
  {
   "cell_type": "markdown",
   "metadata": {
    "slideshow": {
     "slide_type": "slide"
    }
   },
   "source": [
    "## Data\n",
    "Load the data from csv into a Pandas dataframe. Make sure to first complete the [0_data_setup](../0_data_setup.ipynb) notebook."
   ]
  },
  {
   "cell_type": "code",
   "execution_count": 2,
   "metadata": {
    "slideshow": {
     "slide_type": "-"
    }
   },
   "outputs": [
    {
     "data": {
      "text/html": [
       "<div>\n",
       "<style scoped>\n",
       "    .dataframe tbody tr th:only-of-type {\n",
       "        vertical-align: middle;\n",
       "    }\n",
       "\n",
       "    .dataframe tbody tr th {\n",
       "        vertical-align: top;\n",
       "    }\n",
       "\n",
       "    .dataframe thead th {\n",
       "        text-align: right;\n",
       "    }\n",
       "</style>\n",
       "<table border=\"1\" class=\"dataframe\">\n",
       "  <thead>\n",
       "    <tr style=\"text-align: right;\">\n",
       "      <th></th>\n",
       "      <th>load</th>\n",
       "      <th>temp</th>\n",
       "    </tr>\n",
       "  </thead>\n",
       "  <tbody>\n",
       "    <tr>\n",
       "      <th>2012-01-01 00:00:00</th>\n",
       "      <td>2,698.00</td>\n",
       "      <td>32.00</td>\n",
       "    </tr>\n",
       "    <tr>\n",
       "      <th>2012-01-01 01:00:00</th>\n",
       "      <td>2,558.00</td>\n",
       "      <td>32.67</td>\n",
       "    </tr>\n",
       "    <tr>\n",
       "      <th>2012-01-01 02:00:00</th>\n",
       "      <td>2,444.00</td>\n",
       "      <td>30.00</td>\n",
       "    </tr>\n",
       "    <tr>\n",
       "      <th>2012-01-01 03:00:00</th>\n",
       "      <td>2,402.00</td>\n",
       "      <td>31.00</td>\n",
       "    </tr>\n",
       "    <tr>\n",
       "      <th>2012-01-01 04:00:00</th>\n",
       "      <td>2,403.00</td>\n",
       "      <td>32.00</td>\n",
       "    </tr>\n",
       "  </tbody>\n",
       "</table>\n",
       "</div>"
      ],
      "text/plain": [
       "                        load  temp\n",
       "2012-01-01 00:00:00 2,698.00 32.00\n",
       "2012-01-01 01:00:00 2,558.00 32.67\n",
       "2012-01-01 02:00:00 2,444.00 30.00\n",
       "2012-01-01 03:00:00 2,402.00 31.00\n",
       "2012-01-01 04:00:00 2,403.00 32.00"
      ]
     },
     "execution_count": 2,
     "metadata": {},
     "output_type": "execute_result"
    }
   ],
   "source": [
    "import os\n",
    "\n",
    "file_name = os.path.join('../data', 'energy.parquet')\n",
    "energy = pd.read_parquet(file_name)\n",
    "energy.head()"
   ]
  },
  {
   "cell_type": "markdown",
   "metadata": {
    "slideshow": {
     "slide_type": "slide"
    }
   },
   "source": [
    "## Create train, validation and test sets\n",
    "\n",
    "We separate our dataset into train, validation and test sets. We train the model on the train set. The validation set is used to evaluate the model after each training epoch and ensure that the model is not overfitting the training data. After the model has finished training, we evaluate the model on the test set. We must ensure that the validation set and test set cover a later period in time from the training set, to ensure that the model does not gain from information from future time periods.\n",
    "\n",
    "We will allocate data as follows:\n",
    "* November 1, 2014 to December 31, 2014:  **test** set. \n",
    "* September 1, 2014 to October 31, 2014:  **validation** set. \n",
    "* Everything up to August 31, 2014: **training** set."
   ]
  },
  {
   "cell_type": "code",
   "execution_count": 3,
   "metadata": {
    "slideshow": {
     "slide_type": "fragment"
    }
   },
   "outputs": [],
   "source": [
    "valid_start_dt = '2014-08-31 23:59:59'\n",
    "test_start_dt = '2014-10-31 23:59:59'"
   ]
  },
  {
   "cell_type": "code",
   "execution_count": 4,
   "metadata": {
    "slideshow": {
     "slide_type": "subslide"
    }
   },
   "outputs": [
    {
     "data": {
      "image/png": "[encoded data removed]",
      "text/plain": [
       "<Figure size 1080x576 with 1 Axes>"
      ]
     },
     "metadata": {
      "needs_background": "light"
     },
     "output_type": "display_data"
    }
   ],
   "source": [
    "energy[:valid_start_dt][['load']] \\\n",
    "    .rename(columns={'load':'train'}) \\\n",
    "    .join(energy[valid_start_dt:test_start_dt][['load']] \\\n",
    "          .rename(columns={'load':'validation'}), how='outer') \\\n",
    "    .join(energy[test_start_dt:][['load']] \\\n",
    "          .rename(columns={'load':'test'}), how='outer') \\\n",
    "    .plot(y=['train', 'validation', 'test'], figsize=(15, 8), fontsize=12)\n",
    "plt.xlabel('timestamp', fontsize=12)\n",
    "plt.ylabel('load', fontsize=12)\n",
    "plt.show()"
   ]
  },
  {
   "cell_type": "markdown",
   "metadata": {
    "slideshow": {
     "slide_type": "slide"
    }
   },
   "source": [
    "## Data preparation - training set\n",
    "\n",
    "AutoML takes care of a lot of the details. We simply need to prepare a Pandas DataFrame for each of Train, Test, and Validation.\n",
    "\n",
    "*HORIZON=1* specifies that we have a forecasting horizon of 1 (*t+1*)"
   ]
  },
  {
   "cell_type": "code",
   "execution_count": 5,
   "metadata": {
    "slideshow": {
     "slide_type": "-"
    }
   },
   "outputs": [],
   "source": [
    "HORIZON = 1"
   ]
  },
  {
   "cell_type": "markdown",
   "metadata": {
    "slideshow": {
     "slide_type": "-"
    }
   },
   "source": [
    "Our data preparation for the training set will involve the following steps:\n",
    "\n",
    "1. Create a time column from the index\n",
    "2. Filter the original dataset to include only that time period reserved for the training set\n",
    "3. Drop rown with missing values "
   ]
  },
  {
   "cell_type": "markdown",
   "metadata": {
    "slideshow": {
     "slide_type": "slide"
    }
   },
   "source": [
    "### 1. Add time column"
   ]
  },
  {
   "cell_type": "code",
   "execution_count": 6,
   "metadata": {
    "slideshow": {
     "slide_type": "-"
    }
   },
   "outputs": [],
   "source": [
    "energy['timestamp'] = energy.index"
   ]
  },
  {
   "cell_type": "markdown",
   "metadata": {
    "slideshow": {
     "slide_type": "fragment"
    }
   },
   "source": [
    "### 2. Filter the original dataset to include only that time period reserved for each set\n",
    "Create training, test and validations sets"
   ]
  },
  {
   "cell_type": "code",
   "execution_count": 7,
   "metadata": {
    "slideshow": {
     "slide_type": "-"
    }
   },
   "outputs": [],
   "source": [
    "ds_train = energy[:valid_start_dt].copy()\n",
    "ds_valid = energy[valid_start_dt:test_start_dt].copy()\n",
    "ds_test = energy[test_start_dt:].copy()"
   ]
  },
  {
   "cell_type": "markdown",
   "metadata": {
    "slideshow": {
     "slide_type": "subslide"
    }
   },
   "source": [
    "Verify that the series are continuous."
   ]
  },
  {
   "cell_type": "code",
   "execution_count": 8,
   "metadata": {
    "slideshow": {
     "slide_type": "-"
    }
   },
   "outputs": [
    {
     "name": "stdout",
     "output_type": "stream",
     "text": [
      "                        load  temp           timestamp\n",
      "2014-08-31 19:00:00 3,969.00 74.67 2014-08-31 19:00:00\n",
      "2014-08-31 20:00:00 3,869.00 74.00 2014-08-31 20:00:00\n",
      "2014-08-31 21:00:00 3,643.00 73.00 2014-08-31 21:00:00\n",
      "2014-08-31 22:00:00 3,365.00 72.00 2014-08-31 22:00:00\n",
      "2014-08-31 23:00:00 3,097.00 71.33 2014-08-31 23:00:00\n",
      "                        load  temp           timestamp\n",
      "2014-09-01 00:00:00 2,886.00 71.00 2014-09-01 00:00:00\n",
      "2014-09-01 01:00:00 2,768.00 70.00 2014-09-01 01:00:00\n",
      "2014-09-01 02:00:00 2,699.00 69.33 2014-09-01 02:00:00\n",
      "2014-09-01 03:00:00 2,681.00 68.33 2014-09-01 03:00:00\n",
      "2014-09-01 04:00:00 2,690.00 68.33 2014-09-01 04:00:00\n"
     ]
    }
   ],
   "source": [
    "print(ds_train.tail())\n",
    "print(ds_valid.head())"
   ]
  },
  {
   "cell_type": "markdown",
   "metadata": {
    "slideshow": {
     "slide_type": "slide"
    }
   },
   "source": [
    "### 3. Discard any samples with missing values\n",
    "We will discard these."
   ]
  },
  {
   "cell_type": "code",
   "execution_count": 9,
   "metadata": {
    "slideshow": {
     "slide_type": "-"
    }
   },
   "outputs": [],
   "source": [
    "ds_train.dropna(how=\"any\", inplace=True)\n",
    "ds_valid.dropna(how=\"any\", inplace=True)\n",
    "ds_test.dropna(how=\"any\", inplace=True)"
   ]
  },
  {
   "cell_type": "markdown",
   "metadata": {
    "slideshow": {
     "slide_type": "fragment"
    }
   },
   "source": [
    "We now have data of shape:"
   ]
  },
  {
   "cell_type": "code",
   "execution_count": 10,
   "metadata": {
    "slideshow": {
     "slide_type": "-"
    }
   },
   "outputs": [
    {
     "name": "stdout",
     "output_type": "stream",
     "text": [
      "Train data shape: (23376, 3)\n",
      "Valid data shape: (1464, 3)\n",
      "Test data shape: (1464, 3)\n"
     ]
    }
   ],
   "source": [
    "print('Train data shape:', ds_train.shape)\n",
    "print('Valid data shape:', ds_valid.shape)\n",
    "print('Test data shape:', ds_test.shape)"
   ]
  },
  {
   "cell_type": "markdown",
   "metadata": {
    "slideshow": {
     "slide_type": "slide"
    }
   },
   "source": [
    "## Set Up AzureML Workspace"
   ]
  },
  {
   "cell_type": "markdown",
   "metadata": {
    "slideshow": {
     "slide_type": "-"
    }
   },
   "source": [
    "As part of the setup you should have access to an Azure ML Workspace. For Automated ML you will need to create an Experiment object, which is a named object in a Workspace used to run experiments."
   ]
  },
  {
   "cell_type": "code",
   "execution_count": 11,
   "metadata": {
    "slideshow": {
     "slide_type": "subslide"
    }
   },
   "outputs": [
    {
     "data": {
      "text/html": [
       "<div>\n",
       "<style scoped>\n",
       "    .dataframe tbody tr th:only-of-type {\n",
       "        vertical-align: middle;\n",
       "    }\n",
       "\n",
       "    .dataframe tbody tr th {\n",
       "        vertical-align: top;\n",
       "    }\n",
       "\n",
       "    .dataframe thead th {\n",
       "        text-align: right;\n",
       "    }\n",
       "</style>\n",
       "<table border=\"1\" class=\"dataframe\">\n",
       "  <thead>\n",
       "    <tr style=\"text-align: right;\">\n",
       "      <th></th>\n",
       "      <th></th>\n",
       "    </tr>\n",
       "  </thead>\n",
       "  <tbody>\n",
       "    <tr>\n",
       "      <th>SDK version</th>\n",
       "      <td>1.0.76</td>\n",
       "    </tr>\n",
       "    <tr>\n",
       "      <th>Workspace</th>\n",
       "      <td>AML2</td>\n",
       "    </tr>\n",
       "    <tr>\n",
       "      <th>Resource Group</th>\n",
       "      <td>AML2</td>\n",
       "    </tr>\n",
       "    <tr>\n",
       "      <th>Location</th>\n",
       "      <td>southcentralus</td>\n",
       "    </tr>\n",
       "    <tr>\n",
       "      <th>Experiment Name</th>\n",
       "      <td>automl-forecasting-GEFCom2014</td>\n",
       "    </tr>\n",
       "    <tr>\n",
       "      <th>Project Folder</th>\n",
       "      <td>./project</td>\n",
       "    </tr>\n",
       "  </tbody>\n",
       "</table>\n",
       "</div>"
      ],
      "text/plain": [
       "                                              \n",
       "SDK version      1.0.76                       \n",
       "Workspace        AML2                         \n",
       "Resource Group   AML2                         \n",
       "Location         southcentralus               \n",
       "Experiment Name  automl-forecasting-GEFCom2014\n",
       "Project Folder   ./project                    "
      ]
     },
     "execution_count": 11,
     "metadata": {},
     "output_type": "execute_result"
    }
   ],
   "source": [
    "import azureml.core\n",
    "from azureml.core import Experiment, Workspace\n",
    "\n",
    "assert os.path.exists('config.json'), 'Download `config.json` from the Auzre Portal and place in this folder'\n",
    "ws = Workspace.from_config()\n",
    "\n",
    "# Define a project folder where artifacts will be stored\n",
    "project_folder = './project'\n",
    "os.makedirs(project_folder, exist_ok=True)\n",
    "\n",
    "# choose a name for the run history container in the workspace\n",
    "experiment_name = 'automl-forecasting-GEFCom2014'\n",
    "experiment = Experiment(ws, experiment_name)\n",
    "\n",
    "output = {}\n",
    "output['SDK version'] = azureml.core.VERSION\n",
    "output['Workspace'] = ws.name\n",
    "output['Resource Group'] = ws.resource_group\n",
    "output['Location'] = ws.location\n",
    "output['Experiment Name'] = experiment_name\n",
    "output['Project Folder'] = project_folder\n",
    "pd.set_option('display.max_colwidth', -1)\n",
    "outputDf = pd.DataFrame(data = output, index = [''])\n",
    "outputDf.T"
   ]
  },
  {
   "cell_type": "markdown",
   "metadata": {
    "slideshow": {
     "slide_type": "slide"
    }
   },
   "source": [
    "## Train\n",
    "\n",
    "Instantiate an AutoMLConfig object. This config defines the settings and data used to run the experiment. We can provide extra configurations within 'automl_settings', for this forecasting task we add the name of the time column and the maximum forecast horizon. See [here](https://docs.microsoft.com/en-us/python/api/azureml-train-automl-client/azureml.train.automl.automlconfig.automlconfig?view=azure-ml-py) for more options.\n",
    "\n",
    "|Property|Description|\n",
    "|-|-|\n",
    "|**task**|forecasting|\n",
    "|**primary_metric**|This is the metric that you want to optimize.<br> Forecasting supports the following primary metrics <br><i>spearman_correlation</i><br><i>normalized_root_mean_squared_error</i><br><i>r2_score</i><br><i>normalized_mean_absolute_error</i>|\n",
    "|**blacklist_models**|Models in blacklist won't be used by AutoML. All supported models can be found at [here](https://docs.microsoft.com/en-us/python/api/azureml-train-automl/azureml.train.automl.constants.supportedmodels.regression?view=azure-ml-py).|\n",
    "|**experiment_timeout_minutes**|Maximum amount of time in minutes that the experiment take before it terminates.|\n",
    "|**training_data**|The training data to be used within the experiment.|\n",
    "|**label_column_name**|The name of the label column.|\n",
    "|**compute_target**|The remote compute for training.|\n",
    "|**n_cross_validations**|Number of cross validation splits. Rolling Origin Validation is used to split time-series in a temporally consistent way.|\n",
    "|**enable_early_stopping**|Flag to enble early termination if the score is not improving in the short term.|\\n\",\n",
    "|**time_column_name**|The name of your time column.|\n",
    "|**max_horizon**|The number of periods out you would like to predict past your training data. Periods are inferred from your data.|"
   ]
  },
  {
   "cell_type": "code",
   "execution_count": 12,
   "metadata": {
    "slideshow": {
     "slide_type": "subslide"
    }
   },
   "outputs": [],
   "source": [
    "import logging\n",
    "from azureml.train.automl import AutoMLConfig\n",
    "\n",
    "#These models are blacklisted for tutorial purposes, remove this for real use cases.                            \n",
    "blacklist_models = ['ExtremeRandomTrees', 'AutoArima', 'ElasticNet']\n",
    "\n",
    "automl_config = AutoMLConfig(\n",
    "    # Data Parameters\n",
    "    training_data=ds_train,\n",
    "    validation_data=ds_valid,\n",
    "    time_column_name='timestamp',\n",
    "    label_column_name='load',\n",
    "    # Forecasting Parameters\n",
    "    task='forecasting',\n",
    "    max_horizon=HORIZON,\n",
    "    primary_metric='normalized_root_mean_squared_error',\n",
    "    # AutoML Settings\n",
    "    enable_early_stopping=True,\n",
    "    blacklist_models=blacklist_models,\n",
    "    experiment_timeout_minutes=5,\n",
    "    verbosity=logging.ERROR,\n",
    "    path=project_folder,\n",
    ")"
   ]
  },
  {
   "cell_type": "markdown",
   "metadata": {
    "slideshow": {
     "slide_type": "slide"
    }
   },
   "source": [
    "### Submit the job\n",
    "\n",
    "Call the submit method on the experiment object and pass the run configuration. Depending on the data and the number of iterations this can run for a while. \n",
    "\n",
    "The optional `show_output=True` causes currently running iterations to print to the console."
   ]
  },
  {
   "cell_type": "code",
   "execution_count": 13,
   "metadata": {
    "slideshow": {
     "slide_type": "fragment"
    }
   },
   "outputs": [
    {
     "name": "stdout",
     "output_type": "stream",
     "text": [
      "Running on local machine\n",
      "Parent Run ID: AutoML_43eb3d2d-b500-4383-91a1-c2e398742f31\n",
      "\n",
      "Current status: DatasetFeaturization. Beginning to featurize the dataset.\n",
      "Current status: DatasetFeaturizationCompleted. Completed featurizing the dataset.\n",
      "Current status: ModelSelection. Beginning model selection.\n",
      "\n",
      "****************************************************************************************************\n",
      "ITERATION: The iteration being evaluated.\n",
      "PIPELINE: A summary description of the pipeline being evaluated.\n",
      "DURATION: Time taken for the current iteration.\n",
      "METRIC: The result of computing score on the fitted pipeline.\n",
      "BEST: The best observed score thus far.\n",
      "****************************************************************************************************\n",
      "\n",
      " ITERATION   PIPELINE                                       DURATION      METRIC      BEST\n",
      "         0   StandardScalerWrapper RandomForest             0:00:16       0.0521    0.0521\n",
      "         1   StandardScalerWrapper LightGBM                 0:00:14       0.0660    0.0521\n",
      "         2   StandardScalerWrapper LassoLars                0:00:15       0.1518    0.0521\n",
      "         3   MinMaxScaler DecisionTree                      0:00:13       0.0719    0.0521\n",
      "         4   MaxAbsScaler RandomForest                      0:00:14       0.0473    0.0473\n",
      "         5   MaxAbsScaler DecisionTree                      0:00:14       0.0641    0.0473\n",
      "         6   MinMaxScaler DecisionTree                      0:00:14       0.0663    0.0473\n",
      "         7   StandardScalerWrapper DecisionTree             0:00:14       0.0464    0.0464\n",
      "         8   MaxAbsScaler DecisionTree                      0:00:14       0.0637    0.0464\n",
      "         9   StandardScalerWrapper LightGBM                 0:00:14       0.0506    0.0464\n",
      "        10   MinMaxScaler DecisionTree                      0:00:14       0.0674    0.0464\n",
      "        11   MaxAbsScaler SGD                               0:00:13       0.1433    0.0464\n",
      "        12   StandardScalerWrapper RandomForest             0:00:14       0.0504    0.0464\n",
      "        13   MinMaxScaler DecisionTree                      0:00:14       0.0502    0.0464\n",
      "        14   MinMaxScaler DecisionTree                      0:00:13       0.0691    0.0464\n",
      "        15   SparseNormalizer RandomForest                  0:00:24       0.0423    0.0423\n",
      "        16   MaxAbsScaler LightGBM                          0:00:15       0.0377    0.0377\n",
      "        17   StandardScalerWrapper GradientBoosting         0:00:16       0.0480    0.0377\n",
      "        18   MaxAbsScaler RandomForest                      0:00:16       0.0709    0.0377\n",
      "        19   MaxAbsScaler RandomForest                      0:00:15       0.0734    0.0377\n",
      "        20   VotingEnsemble                                 0:00:31       0.0359    0.0359\n",
      "        21   StackEnsemble                                  0:00:38       0.0351    0.0351\n",
      "Stopping criteria reached at iteration 21. Ending experiment.\n",
      "CPU times: user 46.2 s, sys: 8.27 s, total: 54.5 s\n",
      "Wall time: 6min 29s\n"
     ]
    }
   ],
   "source": [
    "%%time\n",
    "\n",
    "run = experiment.submit(automl_config, show_output=True)"
   ]
  },
  {
   "cell_type": "markdown",
   "metadata": {
    "slideshow": {
     "slide_type": "subslide"
    }
   },
   "source": [
    "The `run` object contains a link to the experiment in the AzureML Workspace."
   ]
  },
  {
   "cell_type": "code",
   "execution_count": 14,
   "metadata": {
    "slideshow": {
     "slide_type": "-"
    }
   },
   "outputs": [
    {
     "data": {
      "text/html": [
       "<table style=\"width:100%\"><tr><th>Experiment</th><th>Id</th><th>Type</th><th>Status</th><th>Details Page</th><th>Docs Page</th></tr><tr><td>automl-forecasting-GEFCom2014</td><td>AutoML_43eb3d2d-b500-4383-91a1-c2e398742f31</td><td>automl</td><td>Completed</td><td><a href=\"https://ml.azure.com/experiments/automl-forecasting-GEFCom2014/runs/AutoML_43eb3d2d-b500-4383-91a1-c2e398742f31?wsid=/subscriptions/6fa1b60b-c4be-4966-a446-261a3ad62d42/resourcegroups/AML2/workspaces/AML2\" target=\"_blank\" rel=\"noopener\">Link to Azure Machine Learning studio</a></td><td><a href=\"https://docs.microsoft.com/en-us/python/api/overview/azure/ml/intro?view=azure-ml-py\" target=\"_blank\" rel=\"noopener\">Link to Documentation</a></td></tr></table>"
      ],
      "text/plain": [
       "Run(Experiment: automl-forecasting-GEFCom2014,\n",
       "Id: AutoML_43eb3d2d-b500-4383-91a1-c2e398742f31,\n",
       "Type: automl,\n",
       "Status: Completed)"
      ]
     },
     "execution_count": 14,
     "metadata": {},
     "output_type": "execute_result"
    }
   ],
   "source": [
    "run"
   ]
  },
  {
   "cell_type": "code",
   "execution_count": 15,
   "metadata": {},
   "outputs": [
    {
     "data": {
      "application/vnd.jupyter.widget-view+json": {
       "model_id": "3c4c46370ecd48888667a79cac737bcd",
       "version_major": 2,
       "version_minor": 0
      },
      "text/plain": [
       "_AutoMLWidget(widget_settings={'childWidgetDisplay': 'popup', 'send_telemetry': False, 'log_level': 'NOTSET', …"
      ]
     },
     "metadata": {},
     "output_type": "display_data"
    },
    {
     "data": {
      "application/aml.mini.widget.v1": "{\"status\": \"Completed\", \"workbench_run_details_uri\": \"https://ml.azure.com/experiments/automl-forecasting-GEFCom2014/runs/AutoML_43eb3d2d-b500-4383-91a1-c2e398742f31?wsid=/subscriptions/6fa1b60b-c4be-4966-a446-261a3ad62d42/resourcegroups/AML2/workspaces/AML2\", \"run_id\": \"AutoML_43eb3d2d-b500-4383-91a1-c2e398742f31\", \"run_properties\": {\"run_id\": \"AutoML_43eb3d2d-b500-4383-91a1-c2e398742f31\", \"created_utc\": \"2019-12-08T05:39:24.117444Z\", \"properties\": {\"num_iterations\": \"1000\", \"training_type\": \"TrainFull\", \"acquisition_function\": \"EI\", \"primary_metric\": \"normalized_root_mean_squared_error\", \"train_split\": \"0\", \"MaxTimeSeconds\": \"0\", \"acquisition_parameter\": \"0\", \"num_cross_validation\": null, \"target\": \"local\", \"RawAMLSettingsString\": \"{'name': 'automl-forecasting-GEFCom2014', 'path': './project', 'subscription_id': '6fa1b60b-c4be-4966-a446-261a3ad62d42', 'resource_group': 'AML2', 'workspace_name': 'AML2', 'region': 'southcentralus', 'compute_target': 'local', 'spark_service': None, 'azure_service': None, 'iterations': 1000, 'primary_metric': 'normalized_root_mean_squared_error', 'task_type': 'regression', 'data_script': None, 'validation_size': 0.0, 'n_cross_validations': None, 'y_min': 1979.0, 'y_max': 5224.0, 'num_classes': None, 'featurization': 'off', 'preprocess': False, 'lag_length': 0, 'is_timeseries': True, 'max_cores_per_iteration': 1, 'max_concurrent_iterations': 1, 'iteration_timeout_minutes': None, 'mem_in_mb': None, 'enforce_time_on_windows': False, 'experiment_timeout_minutes': 5, 'experiment_exit_score': None, 'whitelist_models': None, 'blacklist_algos': ['ExtremeRandomTrees', 'AutoArima', 'ElasticNet', 'XGBoostRegressor', 'Prophet', 'KNN', 'SVM'], 'supported_models': ['XGBoostRegressor', 'KNN', 'TCNForecaster', 'LightGBM', 'AutoArima', 'Prophet', 'ElasticNet', 'SGD', 'LassoLars', 'GradientBoosting', 'ExtremeRandomTrees', 'FastLinearRegressor', 'TensorFlowLinearRegressor', 'TensorFlowDNN', 'RandomForest', 'OnlineGradientDescentRegressor', 'DecisionTree'], 'auto_blacklist': True, 'blacklist_samples_reached': True, 'exclude_nan_labels': True, 'verbosity': 40, 'debug_log': 'automl.log', 'show_warnings': False, 'model_explainability': False, 'service_url': None, 'sdk_url': None, 'sdk_packages': None, 'enable_onnx_compatible_models': False, 'enable_split_onnx_featurizer_estimator_models': False, 'vm_type': None, 'telemetry_verbosity': 'NOTSET', 'send_telemetry': False, 'enable_dnn': False, 'enable_feature_sweeping': False, 'time_column_name': 'timestamp', 'grain_column_names': None, 'drop_column_names': None, 'max_horizon': 1, 'dropna': False, 'overwrite_columns': True, 'transform_dictionary': {'min': '_automl_target_col', 'max': '_automl_target_col', 'mean': '_automl_target_col'}, 'window_size': None, 'country_or_region': None, 'lags': None, 'seasonality': -1, 'use_stl': None, 'short_series_handling': False, 'enable_early_stopping': True, 'early_stopping_n_iters': 10, 'metrics': None, 'enable_ensembling': True, 'enable_stack_ensembling': True, 'ensemble_iterations': 15, 'enable_tf': False, 'enable_cache': True, 'enable_subsampling': False, 'subsample_seed': None, 'enable_nimbusml': False, 'enable_streaming': False, 'label_column_name': 'load', 'weight_column_name': None, 'cost_mode': 0, 'metric_operation': 'minimize'}\", \"AMLSettingsJsonString\": \"{\\\"name\\\":\\\"automl-forecasting-GEFCom2014\\\",\\\"path\\\":\\\"./project\\\",\\\"subscription_id\\\":\\\"6fa1b60b-c4be-4966-a446-261a3ad62d42\\\",\\\"resource_group\\\":\\\"AML2\\\",\\\"workspace_name\\\":\\\"AML2\\\",\\\"region\\\":\\\"southcentralus\\\",\\\"compute_target\\\":\\\"local\\\",\\\"spark_service\\\":null,\\\"azure_service\\\":null,\\\"iterations\\\":1000,\\\"primary_metric\\\":\\\"normalized_root_mean_squared_error\\\",\\\"task_type\\\":\\\"regression\\\",\\\"data_script\\\":null,\\\"validation_size\\\":0.0,\\\"n_cross_validations\\\":null,\\\"y_min\\\":1979.0,\\\"y_max\\\":5224.0,\\\"num_classes\\\":null,\\\"featurization\\\":\\\"off\\\",\\\"preprocess\\\":false,\\\"lag_length\\\":0,\\\"is_timeseries\\\":true,\\\"max_cores_per_iteration\\\":1,\\\"max_concurrent_iterations\\\":1,\\\"iteration_timeout_minutes\\\":null,\\\"mem_in_mb\\\":null,\\\"enforce_time_on_windows\\\":false,\\\"experiment_timeout_minutes\\\":5,\\\"experiment_exit_score\\\":null,\\\"whitelist_models\\\":null,\\\"blacklist_algos\\\":[\\\"ExtremeRandomTrees\\\",\\\"AutoArima\\\",\\\"ElasticNet\\\",\\\"XGBoostRegressor\\\",\\\"Prophet\\\",\\\"KNN\\\",\\\"SVM\\\"],\\\"supported_models\\\":[\\\"XGBoostRegressor\\\",\\\"KNN\\\",\\\"TCNForecaster\\\",\\\"LightGBM\\\",\\\"AutoArima\\\",\\\"Prophet\\\",\\\"ElasticNet\\\",\\\"SGD\\\",\\\"LassoLars\\\",\\\"GradientBoosting\\\",\\\"ExtremeRandomTrees\\\",\\\"FastLinearRegressor\\\",\\\"TensorFlowLinearRegressor\\\",\\\"TensorFlowDNN\\\",\\\"RandomForest\\\",\\\"OnlineGradientDescentRegressor\\\",\\\"DecisionTree\\\"],\\\"auto_blacklist\\\":true,\\\"blacklist_samples_reached\\\":true,\\\"exclude_nan_labels\\\":true,\\\"verbosity\\\":40,\\\"debug_log\\\":\\\"automl.log\\\",\\\"show_warnings\\\":false,\\\"model_explainability\\\":false,\\\"service_url\\\":null,\\\"sdk_url\\\":null,\\\"sdk_packages\\\":null,\\\"enable_onnx_compatible_models\\\":false,\\\"enable_split_onnx_featurizer_estimator_models\\\":false,\\\"vm_type\\\":null,\\\"telemetry_verbosity\\\":\\\"NOTSET\\\",\\\"send_telemetry\\\":false,\\\"enable_dnn\\\":false,\\\"enable_feature_sweeping\\\":false,\\\"time_column_name\\\":\\\"timestamp\\\",\\\"grain_column_names\\\":null,\\\"drop_column_names\\\":null,\\\"max_horizon\\\":1,\\\"dropna\\\":false,\\\"overwrite_columns\\\":true,\\\"transform_dictionary\\\":{\\\"min\\\":\\\"_automl_target_col\\\",\\\"max\\\":\\\"_automl_target_col\\\",\\\"mean\\\":\\\"_automl_target_col\\\"},\\\"window_size\\\":null,\\\"country_or_region\\\":null,\\\"lags\\\":null,\\\"seasonality\\\":-1,\\\"use_stl\\\":null,\\\"short_series_handling\\\":false,\\\"enable_early_stopping\\\":true,\\\"early_stopping_n_iters\\\":10,\\\"metrics\\\":null,\\\"enable_ensembling\\\":true,\\\"enable_stack_ensembling\\\":true,\\\"ensemble_iterations\\\":15,\\\"enable_tf\\\":false,\\\"enable_cache\\\":true,\\\"enable_subsampling\\\":false,\\\"subsample_seed\\\":null,\\\"enable_nimbusml\\\":false,\\\"enable_streaming\\\":false,\\\"label_column_name\\\":\\\"load\\\",\\\"weight_column_name\\\":null,\\\"cost_mode\\\":0,\\\"metric_operation\\\":\\\"minimize\\\"}\", \"DataPrepJsonString\": null, \"EnableSubsampling\": \"False\", \"runTemplate\": \"AutoML\", \"azureml.runsource\": \"automl\", \"display_task_type\": \"forecasting\", \"dependencies_versions\": \"{\\\"azureml-widgets\\\": \\\"1.0.76\\\", \\\"azureml-train\\\": \\\"1.0.76\\\", \\\"azureml-train-restclients-hyperdrive\\\": \\\"1.0.76\\\", \\\"azureml-train-core\\\": \\\"1.0.76\\\", \\\"azureml-train-automl\\\": \\\"1.0.76\\\", \\\"azureml-train-automl-runtime\\\": \\\"1.0.76.1\\\", \\\"azureml-train-automl-client\\\": \\\"1.0.76\\\", \\\"azureml-telemetry\\\": \\\"1.0.76\\\", \\\"azureml-sdk\\\": \\\"1.0.76\\\", \\\"azureml-pipeline\\\": \\\"1.0.76\\\", \\\"azureml-pipeline-steps\\\": \\\"1.0.76\\\", \\\"azureml-pipeline-core\\\": \\\"1.0.76\\\", \\\"azureml-model-management-sdk\\\": \\\"1.0.1b6.post1\\\", \\\"azureml-interpret\\\": \\\"1.0.76\\\", \\\"azureml-explain-model\\\": \\\"1.0.76\\\", \\\"azureml-defaults\\\": \\\"1.0.76\\\", \\\"azureml-dataprep\\\": \\\"1.1.33\\\", \\\"azureml-dataprep-native\\\": \\\"13.1.0\\\", \\\"azureml-core\\\": \\\"1.0.76\\\", \\\"azureml-automl-runtime\\\": \\\"1.0.76.1\\\", \\\"azureml-automl-core\\\": \\\"1.0.76\\\"}\", \"ProblemInfoJsonString\": \"{\\\"dataset_num_categorical\\\": 0, \\\"is_sparse\\\": false, \\\"subsampling\\\": false, \\\"dataset_classes\\\": 2632, \\\"dataset_features\\\": 13, \\\"dataset_samples\\\": 23376, \\\"single_frequency_class_detected\\\": false}\", \"azureml.git.repository_uri\": \"git@github.com:jspoelstra/DeepLearningForTimeSeriesForecasting.git\", \"mlflow.source.git.repoURL\": \"git@github.com:jspoelstra/DeepLearningForTimeSeriesForecasting.git\", \"azureml.git.branch\": \"jacob/tf2\", \"mlflow.source.git.branch\": \"jacob/tf2\", \"azureml.git.commit\": \"85fc22b3271fb98c50abb390a18345008c70b77a\", \"mlflow.source.git.commit\": \"85fc22b3271fb98c50abb390a18345008c70b77a\", \"azureml.git.dirty\": \"False\"}, \"tags\": {\"model_explain_run\": \"best_run\", \"experiment_status\": \"ModelSelection\", \"experiment_status_descr\": \"Beginning model selection.\"}, \"end_time_utc\": \"2019-12-08T05:45:47.016683Z\", \"status\": \"Completed\", \"log_files\": {}, \"log_groups\": [], \"run_duration\": \"0:06:22\"}, \"child_runs\": [{\"run_id\": \"AutoML_43eb3d2d-b500-4383-91a1-c2e398742f31_0\", \"run_number\": 648, \"metric\": null, \"status\": \"Completed\", \"run_type\": null, \"training_percent\": \"100\", \"start_time\": \"2019-12-08T05:39:33.650362Z\", \"end_time\": \"2019-12-08T05:39:46.508894Z\", \"created_time\": \"2019-12-08T05:39:33.096621Z\", \"created_time_dt\": \"2019-12-08T05:39:33.096621Z\", \"duration\": \"0:00:13\", \"iteration\": \"0\", \"goal\": \"normalized_root_mean_squared_error_min\", \"run_name\": \"StandardScalerWrapper, RandomForest\", \"run_properties\": \"<automl.client.core.runtime.model_wrappers.StandardScalerWrapper object at 0x7f815137a6d8\", \"primary_metric\": 0.05206019, \"best_metric\": 0.05206019}, {\"run_id\": \"AutoML_43eb3d2d-b500-4383-91a1-c2e398742f31_1\", \"run_number\": 649, \"metric\": null, \"status\": \"Completed\", \"run_type\": null, \"training_percent\": \"100\", \"start_time\": \"2019-12-08T05:39:50.244784Z\", \"end_time\": \"2019-12-08T05:40:01.315534Z\", \"created_time\": \"2019-12-08T05:39:49.719641Z\", \"created_time_dt\": \"2019-12-08T05:39:49.719641Z\", \"duration\": \"0:00:11\", \"iteration\": \"1\", \"goal\": \"normalized_root_mean_squared_error_min\", \"run_name\": \"StandardScalerWrapper, LightGBM\", \"run_properties\": \"<automl.client.core.runtime.model_wrappers.StandardScalerWrapper object at 0x7f81511e1d68\", \"primary_metric\": 0.06595601, \"best_metric\": 0.05206019}, {\"run_id\": \"AutoML_43eb3d2d-b500-4383-91a1-c2e398742f31_2\", \"run_number\": 650, \"metric\": null, \"status\": \"Completed\", \"run_type\": null, \"training_percent\": \"100\", \"start_time\": \"2019-12-08T05:40:05.018892Z\", \"end_time\": \"2019-12-08T05:40:17.071384Z\", \"created_time\": \"2019-12-08T05:40:04.443125Z\", \"created_time_dt\": \"2019-12-08T05:40:04.443125Z\", \"duration\": \"0:00:12\", \"iteration\": \"2\", \"goal\": \"normalized_root_mean_squared_error_min\", \"run_name\": \"StandardScalerWrapper, LassoLars\", \"run_properties\": \"<automl.client.core.runtime.model_wrappers.StandardScalerWrapper object at 0x7f8182054a58\", \"primary_metric\": 0.15175822, \"best_metric\": 0.05206019}, {\"run_id\": \"AutoML_43eb3d2d-b500-4383-91a1-c2e398742f31_3\", \"run_number\": 651, \"metric\": null, \"status\": \"Completed\", \"run_type\": null, \"training_percent\": \"100\", \"start_time\": \"2019-12-08T05:40:20.714616Z\", \"end_time\": \"2019-12-08T05:40:30.552858Z\", \"created_time\": \"2019-12-08T05:40:20.216355Z\", \"created_time_dt\": \"2019-12-08T05:40:20.216355Z\", \"duration\": \"0:00:10\", \"iteration\": \"3\", \"goal\": \"normalized_root_mean_squared_error_min\", \"run_name\": \"MinMaxScaler, DecisionTree\", \"run_properties\": \"copy=True, feature_range=(0, 1\", \"primary_metric\": 0.0719309, \"best_metric\": 0.05206019}, {\"run_id\": \"AutoML_43eb3d2d-b500-4383-91a1-c2e398742f31_4\", \"run_number\": 652, \"metric\": null, \"status\": \"Completed\", \"run_type\": null, \"training_percent\": \"100\", \"start_time\": \"2019-12-08T05:40:34.209008Z\", \"end_time\": \"2019-12-08T05:40:44.80382Z\", \"created_time\": \"2019-12-08T05:40:33.724791Z\", \"created_time_dt\": \"2019-12-08T05:40:33.724791Z\", \"duration\": \"0:00:11\", \"iteration\": \"4\", \"goal\": \"normalized_root_mean_squared_error_min\", \"run_name\": \"MaxAbsScaler, RandomForest\", \"run_properties\": \"copy=True\", \"primary_metric\": 0.04729915, \"best_metric\": 0.04729915}, {\"run_id\": \"AutoML_43eb3d2d-b500-4383-91a1-c2e398742f31_5\", \"run_number\": 653, \"metric\": null, \"status\": \"Completed\", \"run_type\": null, \"training_percent\": \"100\", \"start_time\": \"2019-12-08T05:40:48.671788Z\", \"end_time\": \"2019-12-08T05:40:58.970315Z\", \"created_time\": \"2019-12-08T05:40:48.106644Z\", \"created_time_dt\": \"2019-12-08T05:40:48.106644Z\", \"duration\": \"0:00:10\", \"iteration\": \"5\", \"goal\": \"normalized_root_mean_squared_error_min\", \"run_name\": \"MaxAbsScaler, DecisionTree\", \"run_properties\": \"copy=True\", \"primary_metric\": 0.06414496, \"best_metric\": 0.04729915}, {\"run_id\": \"AutoML_43eb3d2d-b500-4383-91a1-c2e398742f31_6\", \"run_number\": 654, \"metric\": null, \"status\": \"Completed\", \"run_type\": null, \"training_percent\": \"100\", \"start_time\": \"2019-12-08T05:41:02.762395Z\", \"end_time\": \"2019-12-08T05:41:13.223634Z\", \"created_time\": \"2019-12-08T05:41:02.252992Z\", \"created_time_dt\": \"2019-12-08T05:41:02.252992Z\", \"duration\": \"0:00:10\", \"iteration\": \"6\", \"goal\": \"normalized_root_mean_squared_error_min\", \"run_name\": \"MinMaxScaler, DecisionTree\", \"run_properties\": \"copy=True, feature_range=(0, 1\", \"primary_metric\": 0.06633697, \"best_metric\": 0.04729915}, {\"run_id\": \"AutoML_43eb3d2d-b500-4383-91a1-c2e398742f31_7\", \"run_number\": 655, \"metric\": null, \"status\": \"Completed\", \"run_type\": null, \"training_percent\": \"100\", \"start_time\": \"2019-12-08T05:41:16.859282Z\", \"end_time\": \"2019-12-08T05:41:27.239313Z\", \"created_time\": \"2019-12-08T05:41:16.330517Z\", \"created_time_dt\": \"2019-12-08T05:41:16.330517Z\", \"duration\": \"0:00:10\", \"iteration\": \"7\", \"goal\": \"normalized_root_mean_squared_error_min\", \"run_name\": \"StandardScalerWrapper, DecisionTree\", \"run_properties\": \"<automl.client.core.runtime.model_wrappers.StandardScalerWrapper object at 0x7f8191a20860\", \"primary_metric\": 0.04639772, \"best_metric\": 0.04639772}, {\"run_id\": \"AutoML_43eb3d2d-b500-4383-91a1-c2e398742f31_8\", \"run_number\": 656, \"metric\": null, \"status\": \"Completed\", \"run_type\": null, \"training_percent\": \"100\", \"start_time\": \"2019-12-08T05:41:31.002642Z\", \"end_time\": \"2019-12-08T05:41:41.231371Z\", \"created_time\": \"2019-12-08T05:41:30.448621Z\", \"created_time_dt\": \"2019-12-08T05:41:30.448621Z\", \"duration\": \"0:00:10\", \"iteration\": \"8\", \"goal\": \"normalized_root_mean_squared_error_min\", \"run_name\": \"MaxAbsScaler, DecisionTree\", \"run_properties\": \"copy=True\", \"primary_metric\": 0.06371268, \"best_metric\": 0.04639772}, {\"run_id\": \"AutoML_43eb3d2d-b500-4383-91a1-c2e398742f31_9\", \"run_number\": 657, \"metric\": null, \"status\": \"Completed\", \"run_type\": null, \"training_percent\": \"100\", \"start_time\": \"2019-12-08T05:41:44.935172Z\", \"end_time\": \"2019-12-08T05:41:55.968052Z\", \"created_time\": \"2019-12-08T05:41:44.423866Z\", \"created_time_dt\": \"2019-12-08T05:41:44.423866Z\", \"duration\": \"0:00:11\", \"iteration\": \"9\", \"goal\": \"normalized_root_mean_squared_error_min\", \"run_name\": \"StandardScalerWrapper, LightGBM\", \"run_properties\": \"<automl.client.core.runtime.model_wrappers.StandardScalerWrapper object at 0x7f8191a14860\", \"primary_metric\": 0.05064968, \"best_metric\": 0.04639772}, {\"run_id\": \"AutoML_43eb3d2d-b500-4383-91a1-c2e398742f31_10\", \"run_number\": 658, \"metric\": null, \"status\": \"Completed\", \"run_type\": null, \"training_percent\": \"100\", \"start_time\": \"2019-12-08T05:41:59.674697Z\", \"end_time\": \"2019-12-08T05:42:10.127396Z\", \"created_time\": \"2019-12-08T05:41:59.160077Z\", \"created_time_dt\": \"2019-12-08T05:41:59.160077Z\", \"duration\": \"0:00:10\", \"iteration\": \"10\", \"goal\": \"normalized_root_mean_squared_error_min\", \"run_name\": \"MinMaxScaler, DecisionTree\", \"run_properties\": \"copy=True, feature_range=(0, 1\", \"primary_metric\": 0.06736707, \"best_metric\": 0.04639772}, {\"run_id\": \"AutoML_43eb3d2d-b500-4383-91a1-c2e398742f31_11\", \"run_number\": 659, \"metric\": null, \"status\": \"Completed\", \"run_type\": null, \"training_percent\": \"100\", \"start_time\": \"2019-12-08T05:42:13.971241Z\", \"end_time\": \"2019-12-08T05:42:24.099412Z\", \"created_time\": \"2019-12-08T05:42:13.481462Z\", \"created_time_dt\": \"2019-12-08T05:42:13.481462Z\", \"duration\": \"0:00:10\", \"iteration\": \"11\", \"goal\": \"normalized_root_mean_squared_error_min\", \"run_name\": \"MaxAbsScaler, SGD\", \"run_properties\": \"copy=True\", \"primary_metric\": 0.14332557, \"best_metric\": 0.04639772}, {\"run_id\": \"AutoML_43eb3d2d-b500-4383-91a1-c2e398742f31_12\", \"run_number\": 660, \"metric\": null, \"status\": \"Completed\", \"run_type\": null, \"training_percent\": \"100\", \"start_time\": \"2019-12-08T05:42:27.786899Z\", \"end_time\": \"2019-12-08T05:42:38.387856Z\", \"created_time\": \"2019-12-08T05:42:27.218861Z\", \"created_time_dt\": \"2019-12-08T05:42:27.218861Z\", \"duration\": \"0:00:11\", \"iteration\": \"12\", \"goal\": \"normalized_root_mean_squared_error_min\", \"run_name\": \"StandardScalerWrapper, RandomForest\", \"run_properties\": \"<automl.client.core.runtime.model_wrappers.StandardScalerWrapper object at 0x7f8171ca50b8\", \"primary_metric\": 0.05041114, \"best_metric\": 0.04639772}, {\"run_id\": \"AutoML_43eb3d2d-b500-4383-91a1-c2e398742f31_13\", \"run_number\": 661, \"metric\": null, \"status\": \"Completed\", \"run_type\": null, \"training_percent\": \"100\", \"start_time\": \"2019-12-08T05:42:42.066066Z\", \"end_time\": \"2019-12-08T05:42:52.583747Z\", \"created_time\": \"2019-12-08T05:42:41.53087Z\", \"created_time_dt\": \"2019-12-08T05:42:41.53087Z\", \"duration\": \"0:00:11\", \"iteration\": \"13\", \"goal\": \"normalized_root_mean_squared_error_min\", \"run_name\": \"MinMaxScaler, DecisionTree\", \"run_properties\": \"copy=True, feature_range=(0, 1\", \"primary_metric\": 0.05021356, \"best_metric\": 0.04639772}, {\"run_id\": \"AutoML_43eb3d2d-b500-4383-91a1-c2e398742f31_14\", \"run_number\": 662, \"metric\": null, \"status\": \"Completed\", \"run_type\": null, \"training_percent\": \"100\", \"start_time\": \"2019-12-08T05:42:56.241763Z\", \"end_time\": \"2019-12-08T05:43:06.081811Z\", \"created_time\": \"2019-12-08T05:42:55.745312Z\", \"created_time_dt\": \"2019-12-08T05:42:55.745312Z\", \"duration\": \"0:00:10\", \"iteration\": \"14\", \"goal\": \"normalized_root_mean_squared_error_min\", \"run_name\": \"MinMaxScaler, DecisionTree\", \"run_properties\": \"copy=True, feature_range=(0, 1\", \"primary_metric\": 0.06905137, \"best_metric\": 0.04639772}, {\"run_id\": \"AutoML_43eb3d2d-b500-4383-91a1-c2e398742f31_15\", \"run_number\": 663, \"metric\": null, \"status\": \"Completed\", \"run_type\": null, \"training_percent\": \"100\", \"start_time\": \"2019-12-08T05:43:10.743173Z\", \"end_time\": \"2019-12-08T05:43:30.183865Z\", \"created_time\": \"2019-12-08T05:43:10.23525Z\", \"created_time_dt\": \"2019-12-08T05:43:10.23525Z\", \"duration\": \"0:00:19\", \"iteration\": \"15\", \"goal\": \"normalized_root_mean_squared_error_min\", \"run_name\": \"SparseNormalizer, RandomForest\", \"run_properties\": \"<automl.client.core.runtime.model_wrappers.SparseNormalizer object at 0x7f8171cb59e8\", \"primary_metric\": 0.04234275, \"best_metric\": 0.04234275}, {\"run_id\": \"AutoML_43eb3d2d-b500-4383-91a1-c2e398742f31_16\", \"run_number\": 664, \"metric\": null, \"status\": \"Completed\", \"run_type\": null, \"training_percent\": \"100\", \"start_time\": \"2019-12-08T05:43:35.018174Z\", \"end_time\": \"2019-12-08T05:43:45.232681Z\", \"created_time\": \"2019-12-08T05:43:34.536858Z\", \"created_time_dt\": \"2019-12-08T05:43:34.536858Z\", \"duration\": \"0:00:10\", \"iteration\": \"16\", \"goal\": \"normalized_root_mean_squared_error_min\", \"run_name\": \"MaxAbsScaler, LightGBM\", \"run_properties\": \"copy=True\", \"primary_metric\": 0.03767147, \"best_metric\": 0.03767147}, {\"run_id\": \"AutoML_43eb3d2d-b500-4383-91a1-c2e398742f31_17\", \"run_number\": 665, \"metric\": null, \"status\": \"Completed\", \"run_type\": null, \"training_percent\": \"100\", \"start_time\": \"2019-12-08T05:43:50.070623Z\", \"end_time\": \"2019-12-08T05:44:01.576425Z\", \"created_time\": \"2019-12-08T05:43:49.559258Z\", \"created_time_dt\": \"2019-12-08T05:43:49.559258Z\", \"duration\": \"0:00:12\", \"iteration\": \"17\", \"goal\": \"normalized_root_mean_squared_error_min\", \"run_name\": \"StandardScalerWrapper, GradientBoosting\", \"run_properties\": \"<automl.client.core.runtime.model_wrappers.StandardScalerWrapper object at 0x7f815156f940\", \"primary_metric\": 0.04797922, \"best_metric\": 0.03767147}, {\"run_id\": \"AutoML_43eb3d2d-b500-4383-91a1-c2e398742f31_18\", \"run_number\": 666, \"metric\": null, \"status\": \"Completed\", \"run_type\": null, \"training_percent\": \"100\", \"start_time\": \"2019-12-08T05:44:06.643315Z\", \"end_time\": \"2019-12-08T05:44:18.19326Z\", \"created_time\": \"2019-12-08T05:44:06.137439Z\", \"created_time_dt\": \"2019-12-08T05:44:06.137439Z\", \"duration\": \"0:00:12\", \"iteration\": \"18\", \"goal\": \"normalized_root_mean_squared_error_min\", \"run_name\": \"MaxAbsScaler, RandomForest\", \"run_properties\": \"copy=True\", \"primary_metric\": 0.07092079, \"best_metric\": 0.03767147}, {\"run_id\": \"AutoML_43eb3d2d-b500-4383-91a1-c2e398742f31_19\", \"run_number\": 667, \"metric\": null, \"status\": \"Completed\", \"run_type\": null, \"training_percent\": \"100\", \"start_time\": \"2019-12-08T05:44:23.139748Z\", \"end_time\": \"2019-12-08T05:44:33.615717Z\", \"created_time\": \"2019-12-08T05:44:22.549182Z\", \"created_time_dt\": \"2019-12-08T05:44:22.549182Z\", \"duration\": \"0:00:11\", \"iteration\": \"19\", \"goal\": \"normalized_root_mean_squared_error_min\", \"run_name\": \"MaxAbsScaler, RandomForest\", \"run_properties\": \"copy=True\", \"primary_metric\": 0.07339803, \"best_metric\": 0.03767147}, {\"run_id\": \"AutoML_43eb3d2d-b500-4383-91a1-c2e398742f31_20\", \"run_number\": 668, \"metric\": null, \"status\": \"Completed\", \"run_type\": null, \"training_percent\": \"100\", \"start_time\": \"2019-12-08T05:44:36.932325Z\", \"end_time\": \"2019-12-08T05:45:05.248361Z\", \"created_time\": \"2019-12-08T05:44:36.367019Z\", \"created_time_dt\": \"2019-12-08T05:44:36.367019Z\", \"duration\": \"0:00:28\", \"iteration\": \"20\", \"goal\": \"normalized_root_mean_squared_error_min\", \"run_name\": \"VotingEnsemble\", \"run_properties\": \"estimators=[('16', Pipeline(memory=None,\\n     steps=[('maxabsscaler', MaxAbsScaler(copy=True\", \"primary_metric\": 0.03588916, \"best_metric\": 0.03588916}, {\"run_id\": \"AutoML_43eb3d2d-b500-4383-91a1-c2e398742f31_21\", \"run_number\": 669, \"metric\": null, \"status\": \"Completed\", \"run_type\": null, \"training_percent\": \"100\", \"start_time\": \"2019-12-08T05:45:08.583814Z\", \"end_time\": \"2019-12-08T05:45:43.810055Z\", \"created_time\": \"2019-12-08T05:45:08.082522Z\", \"created_time_dt\": \"2019-12-08T05:45:08.082522Z\", \"duration\": \"0:00:35\", \"iteration\": \"21\", \"goal\": \"normalized_root_mean_squared_error_min\", \"run_name\": \"StackEnsemble\", \"run_properties\": \"base_learners=[('16', Pipeline(memory=None,\\n     steps=[('maxabsscaler', MaxAbsScaler(copy=True\", \"primary_metric\": 0.03510391, \"best_metric\": 0.03510391}], \"children_metrics\": {\"categories\": [0], \"series\": {\"median_absolute_error\": [{\"categories\": [\"0\", \"1\", \"2\", \"3\", \"4\", \"5\", \"6\", \"7\", \"8\", \"9\", \"10\", \"11\", \"12\", \"13\", \"14\", \"15\", \"16\", \"17\", \"18\", \"19\", \"20\", \"21\"], \"mode\": \"markers\", \"name\": \"median_absolute_error\", \"stepped\": false, \"type\": \"scatter\", \"data\": [103.77670290703873, 149.81243624011836, 298.1508809929728, 155.93165467625886, 87.79339203961445, 102.95684818481845, 126.78421554724628, 81.78408746973378, 116.75405754902044, 80.11657829840487, 111.48558322411554, 280.65516495799307, 88.54494301107002, 91.06643341255176, 131.18615086102363, 76.21794871794918, 60.816952856058606, 88.09063563338009, 155.23333596877887, 161.38019316157397, 58.642239094049955, 59.31674841691529]}, {\"categories\": [\"0\", \"1\", \"2\", \"3\", \"4\", \"5\", \"6\", \"7\", \"8\", \"9\", \"10\", \"11\", \"12\", \"13\", \"14\", \"15\", \"16\", \"17\", \"18\", \"19\", \"20\", \"21\"], \"mode\": \"lines\", \"name\": \"median_absolute_error_min\", \"stepped\": true, \"type\": \"scatter\", \"data\": [103.77670290703873, 103.77670290703873, 103.77670290703873, 103.77670290703873, 87.79339203961445, 87.79339203961445, 87.79339203961445, 81.78408746973378, 81.78408746973378, 80.11657829840487, 80.11657829840487, 80.11657829840487, 80.11657829840487, 80.11657829840487, 80.11657829840487, 76.21794871794918, 60.816952856058606, 60.816952856058606, 60.816952856058606, 60.816952856058606, 58.642239094049955, 58.642239094049955]}], \"root_mean_squared_error\": [{\"categories\": [\"0\", \"1\", \"2\", \"3\", \"4\", \"5\", \"6\", \"7\", \"8\", \"9\", \"10\", \"11\", \"12\", \"13\", \"14\", \"15\", \"16\", \"17\", \"18\", \"19\", \"20\", \"21\"], \"mode\": \"markers\", \"name\": \"root_mean_squared_error\", \"stepped\": false, \"type\": \"scatter\", \"data\": [168.9353100938404, 214.02724237849787, 492.4554326980696, 233.41575809371605, 153.48572805725354, 208.15039727664558, 215.2634532613259, 150.5606096370649, 206.74764741531075, 164.3582257098391, 218.60612605362562, 465.0914819850656, 163.58415564539467, 162.94300586558538, 224.07168661220567, 137.40221940672828, 122.24392625088223, 155.69256810332743, 230.13796396011114, 238.17660259967664, 116.46032611056094, 113.91220353532113]}, {\"categories\": [\"0\", \"1\", \"2\", \"3\", \"4\", \"5\", \"6\", \"7\", \"8\", \"9\", \"10\", \"11\", \"12\", \"13\", \"14\", \"15\", \"16\", \"17\", \"18\", \"19\", \"20\", \"21\"], \"mode\": \"lines\", \"name\": \"root_mean_squared_error_min\", \"stepped\": true, \"type\": \"scatter\", \"data\": [168.9353100938404, 168.9353100938404, 168.9353100938404, 168.9353100938404, 153.48572805725354, 153.48572805725354, 153.48572805725354, 150.5606096370649, 150.5606096370649, 150.5606096370649, 150.5606096370649, 150.5606096370649, 150.5606096370649, 150.5606096370649, 150.5606096370649, 137.40221940672828, 122.24392625088223, 122.24392625088223, 122.24392625088223, 122.24392625088223, 116.46032611056094, 113.91220353532113]}], \"normalized_root_mean_squared_error\": [{\"categories\": [\"0\", \"1\", \"2\", \"3\", \"4\", \"5\", \"6\", \"7\", \"8\", \"9\", \"10\", \"11\", \"12\", \"13\", \"14\", \"15\", \"16\", \"17\", \"18\", \"19\", \"20\", \"21\"], \"mode\": \"markers\", \"name\": \"normalized_root_mean_squared_error\", \"stepped\": false, \"type\": \"scatter\", \"data\": [0.05206018801042848, 0.06595600689630135, 0.1517582227112695, 0.07193089617680001, 0.04729914578035548, 0.06414496063995241, 0.06633696556589397, 0.04639772253838672, 0.06371268025125139, 0.05064968434817846, 0.06736706503963809, 0.14332557226042084, 0.05041114195543749, 0.050213561129610285, 0.06905136721485537, 0.042342748661549544, 0.037671471880086974, 0.04797921975449228, 0.07092079012638247, 0.07339802853610991, 0.03588916058877071, 0.035103914802872456]}, {\"categories\": [\"0\", \"1\", \"2\", \"3\", \"4\", \"5\", \"6\", \"7\", \"8\", \"9\", \"10\", \"11\", \"12\", \"13\", \"14\", \"15\", \"16\", \"17\", \"18\", \"19\", \"20\", \"21\"], \"mode\": \"lines\", \"name\": \"normalized_root_mean_squared_error_min\", \"stepped\": true, \"type\": \"scatter\", \"data\": [0.05206018801042848, 0.05206018801042848, 0.05206018801042848, 0.05206018801042848, 0.04729914578035548, 0.04729914578035548, 0.04729914578035548, 0.04639772253838672, 0.04639772253838672, 0.04639772253838672, 0.04639772253838672, 0.04639772253838672, 0.04639772253838672, 0.04639772253838672, 0.04639772253838672, 0.042342748661549544, 0.037671471880086974, 0.037671471880086974, 0.037671471880086974, 0.037671471880086974, 0.03588916058877071, 0.035103914802872456]}], \"explained_variance\": [{\"categories\": [\"0\", \"1\", \"2\", \"3\", \"4\", \"5\", \"6\", \"7\", \"8\", \"9\", \"10\", \"11\", \"12\", \"13\", \"14\", \"15\", \"16\", \"17\", \"18\", \"19\", \"20\", \"21\"], \"mode\": \"markers\", \"name\": \"explained_variance\", \"stepped\": false, \"type\": \"scatter\", \"data\": [0.8942426324604218, 0.8464226391450279, 0.33232680004269044, 0.8176541373260694, 0.9095958410872316, 0.8336696553883076, 0.8349226202289426, 0.913929035452532, 0.8400081715893049, 0.8989713778205216, 0.819199229772444, 0.3361405680346853, 0.8997527101098332, 0.8991467053293519, 0.8135448622838156, 0.930682521079198, 0.9433370277368562, 0.9094258206671596, 0.8353972275245332, 0.8306006836944416, 0.9486770125879448, 0.9501831541988788]}, {\"categories\": [\"0\", \"1\", \"2\", \"3\", \"4\", \"5\", \"6\", \"7\", \"8\", \"9\", \"10\", \"11\", \"12\", \"13\", \"14\", \"15\", \"16\", \"17\", \"18\", \"19\", \"20\", \"21\"], \"mode\": \"lines\", \"name\": \"explained_variance_max\", \"stepped\": true, \"type\": \"scatter\", \"data\": [0.8942426324604218, 0.8942426324604218, 0.8942426324604218, 0.8942426324604218, 0.9095958410872316, 0.9095958410872316, 0.9095958410872316, 0.913929035452532, 0.913929035452532, 0.913929035452532, 0.913929035452532, 0.913929035452532, 0.913929035452532, 0.913929035452532, 0.913929035452532, 0.930682521079198, 0.9433370277368562, 0.9433370277368562, 0.9433370277368562, 0.9433370277368562, 0.9486770125879448, 0.9501831541988788]}], \"normalized_root_mean_squared_log_error\": [{\"categories\": [\"0\", \"1\", \"2\", \"3\", \"4\", \"5\", \"6\", \"7\", \"8\", \"9\", \"10\", \"11\", \"12\", \"13\", \"14\", \"15\", \"16\", \"17\", \"18\", \"19\", \"20\", \"21\"], \"mode\": \"markers\", \"name\": \"normalized_root_mean_squared_log_error\", \"stepped\": false, \"type\": \"scatter\", \"data\": [0.05387877030112228, 0.07403706675821264, 0.16376957932024122, 0.07504846378512163, 0.0475872944359971, 0.06683911593622253, 0.068837995537576, 0.04766340418903043, 0.06573111501641947, 0.049740139569519545, 0.07036664470502466, 0.1548217733670708, 0.05093326856939632, 0.050619025855029955, 0.07034495898489689, 0.0434106681550469, 0.037400655945677215, 0.048157212261228204, 0.07774029831890696, 0.08023634527818323, 0.035531390973094525, 0.03502955052229536]}, {\"categories\": [\"0\", \"1\", \"2\", \"3\", \"4\", \"5\", \"6\", \"7\", \"8\", \"9\", \"10\", \"11\", \"12\", \"13\", \"14\", \"15\", \"16\", \"17\", \"18\", \"19\", \"20\", \"21\"], \"mode\": \"lines\", \"name\": \"normalized_root_mean_squared_log_error_min\", \"stepped\": true, \"type\": \"scatter\", \"data\": [0.05387877030112228, 0.05387877030112228, 0.05387877030112228, 0.05387877030112228, 0.0475872944359971, 0.0475872944359971, 0.0475872944359971, 0.0475872944359971, 0.0475872944359971, 0.0475872944359971, 0.0475872944359971, 0.0475872944359971, 0.0475872944359971, 0.0475872944359971, 0.0475872944359971, 0.0434106681550469, 0.037400655945677215, 0.037400655945677215, 0.037400655945677215, 0.037400655945677215, 0.035531390973094525, 0.03502955052229536]}], \"normalized_median_absolute_error\": [{\"categories\": [\"0\", \"1\", \"2\", \"3\", \"4\", \"5\", \"6\", \"7\", \"8\", \"9\", \"10\", \"11\", \"12\", \"13\", \"14\", \"15\", \"16\", \"17\", \"18\", \"19\", \"20\", \"21\"], \"mode\": \"markers\", \"name\": \"normalized_median_absolute_error\", \"stepped\": false, \"type\": \"scatter\", \"data\": [0.03198049396210747, 0.04616716062869595, 0.09188008659259563, 0.0480528982053186, 0.027054974434395824, 0.03172784227575299, 0.03907063653227928, 0.02520310861933244, 0.035979678751624174, 0.024689238304593183, 0.03435611193347166, 0.0864884945941427, 0.02728657719909708, 0.0280636158436215, 0.04042716513436784, 0.023487811623404988, 0.018741742020357045, 0.02714657492554086, 0.047837699836295496, 0.04973195474932942, 0.018071568287842822, 0.018279429404288224]}, {\"categories\": [\"0\", \"1\", \"2\", \"3\", \"4\", \"5\", \"6\", \"7\", \"8\", \"9\", \"10\", \"11\", \"12\", \"13\", \"14\", \"15\", \"16\", \"17\", \"18\", \"19\", \"20\", \"21\"], \"mode\": \"lines\", \"name\": \"normalized_median_absolute_error_min\", \"stepped\": true, \"type\": \"scatter\", \"data\": [0.03198049396210747, 0.03198049396210747, 0.03198049396210747, 0.03198049396210747, 0.027054974434395824, 0.027054974434395824, 0.027054974434395824, 0.02520310861933244, 0.02520310861933244, 0.024689238304593183, 0.024689238304593183, 0.024689238304593183, 0.024689238304593183, 0.024689238304593183, 0.024689238304593183, 0.023487811623404988, 0.018741742020357045, 0.018741742020357045, 0.018741742020357045, 0.018741742020357045, 0.018071568287842822, 0.018071568287842822]}], \"root_mean_squared_log_error\": [{\"categories\": [\"0\", \"1\", \"2\", \"3\", \"4\", \"5\", \"6\", \"7\", \"8\", \"9\", \"10\", \"11\", \"12\", \"13\", \"14\", \"15\", \"16\", \"17\", \"18\", \"19\", \"20\", \"21\"], \"mode\": \"markers\", \"name\": \"root_mean_squared_log_error\", \"stepped\": false, \"type\": \"scatter\", \"data\": [0.05228169326733596, 0.0718424565563168, 0.1589151137765138, 0.07282387370516458, 0.04617670962459551, 0.0648578677298562, 0.06679749644840771, 0.04625056332876326, 0.06378271022523396, 0.048265740021797295, 0.06828083332560912, 0.15023253910666176, 0.049423502235954986, 0.04911857431885189, 0.06825979041461348, 0.04212388709556344, 0.03629202394970643, 0.04672973391894729, 0.07543591675357199, 0.0778579757719277, 0.03447816781702651, 0.03399120294438395]}, {\"categories\": [\"0\", \"1\", \"2\", \"3\", \"4\", \"5\", \"6\", \"7\", \"8\", \"9\", \"10\", \"11\", \"12\", \"13\", \"14\", \"15\", \"16\", \"17\", \"18\", \"19\", \"20\", \"21\"], \"mode\": \"lines\", \"name\": \"root_mean_squared_log_error_min\", \"stepped\": true, \"type\": \"scatter\", \"data\": [0.05228169326733596, 0.05228169326733596, 0.05228169326733596, 0.05228169326733596, 0.04617670962459551, 0.04617670962459551, 0.04617670962459551, 0.04617670962459551, 0.04617670962459551, 0.04617670962459551, 0.04617670962459551, 0.04617670962459551, 0.04617670962459551, 0.04617670962459551, 0.04617670962459551, 0.04212388709556344, 0.03629202394970643, 0.03629202394970643, 0.03629202394970643, 0.03629202394970643, 0.03447816781702651, 0.03399120294438395]}], \"normalized_mean_absolute_error\": [{\"categories\": [\"0\", \"1\", \"2\", \"3\", \"4\", \"5\", \"6\", \"7\", \"8\", \"9\", \"10\", \"11\", \"12\", \"13\", \"14\", \"15\", \"16\", \"17\", \"18\", \"19\", \"20\", \"21\"], \"mode\": \"markers\", \"name\": \"normalized_mean_absolute_error\", \"stepped\": false, \"type\": \"scatter\", \"data\": [0.04014490503936871, 0.052604363559160094, 0.11704700946770427, 0.057381299167090144, 0.035312784263277636, 0.04559008392526609, 0.05069708929239518, 0.03379943103351201, 0.047337477376680814, 0.03553290355231047, 0.04972345051344362, 0.1102666722481514, 0.037037845526117275, 0.03681553136625837, 0.052102170304662035, 0.030751384452213697, 0.02656664781846212, 0.03531324817036758, 0.05607838662980477, 0.058254595777245795, 0.02519610255354445, 0.025002545746974858]}, {\"categories\": [\"0\", \"1\", \"2\", \"3\", \"4\", \"5\", \"6\", \"7\", \"8\", \"9\", \"10\", \"11\", \"12\", \"13\", \"14\", \"15\", \"16\", \"17\", \"18\", \"19\", \"20\", \"21\"], \"mode\": \"lines\", \"name\": \"normalized_mean_absolute_error_min\", \"stepped\": true, \"type\": \"scatter\", \"data\": [0.04014490503936871, 0.04014490503936871, 0.04014490503936871, 0.04014490503936871, 0.035312784263277636, 0.035312784263277636, 0.035312784263277636, 0.03379943103351201, 0.03379943103351201, 0.03379943103351201, 0.03379943103351201, 0.03379943103351201, 0.03379943103351201, 0.03379943103351201, 0.03379943103351201, 0.030751384452213697, 0.02656664781846212, 0.02656664781846212, 0.02656664781846212, 0.02656664781846212, 0.02519610255354445, 0.025002545746974858]}], \"mean_absolute_error\": [{\"categories\": [\"0\", \"1\", \"2\", \"3\", \"4\", \"5\", \"6\", \"7\", \"8\", \"9\", \"10\", \"11\", \"12\", \"13\", \"14\", \"15\", \"16\", \"17\", \"18\", \"19\", \"20\", \"21\"], \"mode\": \"markers\", \"name\": \"mean_absolute_error\", \"stepped\": false, \"type\": \"scatter\", \"data\": [130.27021685275147, 170.7011597494745, 379.81754572270034, 186.20231579720752, 114.58998493433593, 147.93982233748847, 164.51205475382235, 109.67915370374646, 153.61011408732924, 115.30427202724749, 161.35259691612455, 357.8153514452513, 120.18780873225056, 119.46639928350841, 169.0715426386283, 99.78824254743344, 86.20877217090958, 114.5914903128428, 181.9743646137165, 189.0361632971626, 81.76135278625175, 81.13326094893341]}, {\"categories\": [\"0\", \"1\", \"2\", \"3\", \"4\", \"5\", \"6\", \"7\", \"8\", \"9\", \"10\", \"11\", \"12\", \"13\", \"14\", \"15\", \"16\", \"17\", \"18\", \"19\", \"20\", \"21\"], \"mode\": \"lines\", \"name\": \"mean_absolute_error_min\", \"stepped\": true, \"type\": \"scatter\", \"data\": [130.27021685275147, 130.27021685275147, 130.27021685275147, 130.27021685275147, 114.58998493433593, 114.58998493433593, 114.58998493433593, 109.67915370374646, 109.67915370374646, 109.67915370374646, 109.67915370374646, 109.67915370374646, 109.67915370374646, 109.67915370374646, 109.67915370374646, 99.78824254743344, 86.20877217090958, 86.20877217090958, 86.20877217090958, 86.20877217090958, 81.76135278625175, 81.13326094893341]}], \"r2_score\": [{\"categories\": [\"0\", \"1\", \"2\", \"3\", \"4\", \"5\", \"6\", \"7\", \"8\", \"9\", \"10\", \"11\", \"12\", \"13\", \"14\", \"15\", \"16\", \"17\", \"18\", \"19\", \"20\", \"21\"], \"mode\": \"markers\", \"name\": \"r2_score\", \"stepped\": false, \"type\": \"scatter\", \"data\": [0.8904338031884187, 0.8241372613146897, 0.06895732830156198, 0.7908316045584726, 0.9095576751403174, 0.8336624851884914, 0.8220998450977951, 0.9129721109272123, 0.8358968667708007, 0.8962904836564545, 0.8165319789340791, 0.16955190816018428, 0.8972650547788956, 0.8980687928324678, 0.8072432094272909, 0.9275191603304882, 0.9426292799440111, 0.9069381921900693, 0.7966649469249996, 0.7822120171336587, 0.947929502862205, 0.9501831541988788]}, {\"categories\": [\"0\", \"1\", \"2\", \"3\", \"4\", \"5\", \"6\", \"7\", \"8\", \"9\", \"10\", \"11\", \"12\", \"13\", \"14\", \"15\", \"16\", \"17\", \"18\", \"19\", \"20\", \"21\"], \"mode\": \"lines\", \"name\": \"r2_score_max\", \"stepped\": true, \"type\": \"scatter\", \"data\": [0.8904338031884187, 0.8904338031884187, 0.8904338031884187, 0.8904338031884187, 0.9095576751403174, 0.9095576751403174, 0.9095576751403174, 0.9129721109272123, 0.9129721109272123, 0.9129721109272123, 0.9129721109272123, 0.9129721109272123, 0.9129721109272123, 0.9129721109272123, 0.9129721109272123, 0.9275191603304882, 0.9426292799440111, 0.9426292799440111, 0.9426292799440111, 0.9426292799440111, 0.947929502862205, 0.9501831541988788]}], \"spearman_correlation\": [{\"categories\": [\"0\", \"1\", \"2\", \"3\", \"4\", \"5\", \"6\", \"7\", \"8\", \"9\", \"10\", \"11\", \"12\", \"13\", \"14\", \"15\", \"16\", \"17\", \"18\", \"19\", \"20\", \"21\"], \"mode\": \"markers\", \"name\": \"spearman_correlation\", \"stepped\": false, \"type\": \"scatter\", \"data\": [0.9173836188651578, 0.9199311896889624, 0.5637056199908368, 0.8442526845455978, 0.9150185599356052, 0.8735015344064007, 0.8784066023424842, 0.9227549279090733, 0.8797271842793726, 0.9446379116336796, 0.8648095119184268, 0.5652269999667229, 0.9032799482085475, 0.9147124456814247, 0.8299368839615285, 0.9299726656610872, 0.9533166547661907, 0.9346275975145502, 0.8961960157615838, 0.8829052859160196, 0.954071076718697, 0.9544037424654396]}, {\"categories\": [\"0\", \"1\", \"2\", \"3\", \"4\", \"5\", \"6\", \"7\", \"8\", \"9\", \"10\", \"11\", \"12\", \"13\", \"14\", \"15\", \"16\", \"17\", \"18\", \"19\", \"20\", \"21\"], \"mode\": \"lines\", \"name\": \"spearman_correlation_max\", \"stepped\": true, \"type\": \"scatter\", \"data\": [0.9173836188651578, 0.9199311896889624, 0.9199311896889624, 0.9199311896889624, 0.9199311896889624, 0.9199311896889624, 0.9199311896889624, 0.9227549279090733, 0.9227549279090733, 0.9446379116336796, 0.9446379116336796, 0.9446379116336796, 0.9446379116336796, 0.9446379116336796, 0.9446379116336796, 0.9446379116336796, 0.9533166547661907, 0.9533166547661907, 0.9533166547661907, 0.9533166547661907, 0.954071076718697, 0.9544037424654396]}], \"mean_absolute_percentage_error\": [{\"categories\": [\"0\", \"1\", \"2\", \"3\", \"4\", \"5\", \"6\", \"7\", \"8\", \"9\", \"10\", \"11\", \"12\", \"13\", \"14\", \"15\", \"16\", \"17\", \"18\", \"19\", \"20\", \"21\"], \"mode\": \"markers\", \"name\": \"mean_absolute_percentage_error\", \"stepped\": false, \"type\": \"scatter\", \"data\": [4.149550286160503, 5.810552829888555, 13.327673039309627, 6.074579662043599, 3.55746571449432, 4.706920368369487, 5.2638701286589065, 3.4586399447254705, 4.897309097204987, 3.526210812319952, 5.175425977384889, 12.46097518125464, 3.7828466443602413, 3.7362142967332854, 5.375108755060186, 3.1351518199088555, 2.6510753999478336, 3.553118244288202, 6.118967904317135, 6.347748698265035, 2.5156582128747886, 2.518406009934677]}, {\"categories\": [\"0\", \"1\", \"2\", \"3\", \"4\", \"5\", \"6\", \"7\", \"8\", \"9\", \"10\", \"11\", \"12\", \"13\", \"14\", \"15\", \"16\", \"17\", \"18\", \"19\", \"20\", \"21\"], \"mode\": \"lines\", \"name\": \"mean_absolute_percentage_error_min\", \"stepped\": true, \"type\": \"scatter\", \"data\": [4.149550286160503, 4.149550286160503, 4.149550286160503, 4.149550286160503, 3.55746571449432, 3.55746571449432, 3.55746571449432, 3.4586399447254705, 3.4586399447254705, 3.4586399447254705, 3.4586399447254705, 3.4586399447254705, 3.4586399447254705, 3.4586399447254705, 3.4586399447254705, 3.1351518199088555, 2.6510753999478336, 2.6510753999478336, 2.6510753999478336, 2.6510753999478336, 2.5156582128747886, 2.5156582128747886]}]}, \"metricName\": null, \"primaryMetricName\": \"normalized_root_mean_squared_error\", \"showLegend\": false}, \"run_metrics\": [], \"run_logs\": \"\\nRun is completed.\", \"graph\": {}, \"widget_settings\": {\"childWidgetDisplay\": \"popup\", \"send_telemetry\": false, \"log_level\": \"NOTSET\", \"sdk_version\": \"1.0.76\"}, \"loading\": false}"
     },
     "metadata": {},
     "output_type": "display_data"
    }
   ],
   "source": [
    "from azureml.widgets import RunDetails\n",
    "\n",
    "RunDetails(run).show()"
   ]
  },
  {
   "cell_type": "markdown",
   "metadata": {
    "slideshow": {
     "slide_type": "slide"
    }
   },
   "source": [
    "### Retrieve the Best Model\n",
    "Below we select the best model from all the training iterations using the `get_output` method."
   ]
  },
  {
   "cell_type": "code",
   "execution_count": 16,
   "metadata": {
    "slideshow": {
     "slide_type": "fragment"
    }
   },
   "outputs": [],
   "source": [
    "best_run, fitted_model = run.get_output()\n",
    "#fitted_model.steps"
   ]
  },
  {
   "cell_type": "markdown",
   "metadata": {
    "slideshow": {
     "slide_type": "slide"
    }
   },
   "source": [
    "## Analysis\n",
    "Below we take a look at the model produced"
   ]
  },
  {
   "cell_type": "markdown",
   "metadata": {
    "slideshow": {
     "slide_type": "fragment"
    }
   },
   "source": [
    "### Featurization\n",
    "You can access the engineered feature names generated in time-series featurization"
   ]
  },
  {
   "cell_type": "code",
   "execution_count": 17,
   "metadata": {
    "slideshow": {
     "slide_type": "-"
    }
   },
   "outputs": [
    {
     "data": {
      "text/plain": [
       "['temp',\n",
       " 'temp_WASNULL',\n",
       " 'year',\n",
       " 'half',\n",
       " 'quarter',\n",
       " 'month',\n",
       " 'day',\n",
       " 'hour',\n",
       " 'am_pm',\n",
       " 'hour12',\n",
       " 'wday',\n",
       " 'qday',\n",
       " 'week']"
      ]
     },
     "execution_count": 17,
     "metadata": {},
     "output_type": "execute_result"
    }
   ],
   "source": [
    "fitted_model.named_steps['timeseriestransformer'].get_engineered_feature_names()"
   ]
  },
  {
   "cell_type": "markdown",
   "metadata": {
    "slideshow": {
     "slide_type": "subslide"
    }
   },
   "source": [
    "### View featurization summary\n",
    "You can also see what featurization steps were performed on different raw features in the user data. For each input field in the user data, the following information is displayed:\n",
    "\n",
    "- Raw field name\n",
    "- Number of engineered features formed out of this raw field\n",
    "- Type detected\n",
    "- If the feature was dropped\n",
    "- List of feature transformations for the raw field"
   ]
  },
  {
   "cell_type": "code",
   "execution_count": 18,
   "metadata": {
    "slideshow": {
     "slide_type": "-"
    }
   },
   "outputs": [
    {
     "data": {
      "text/html": [
       "<div>\n",
       "<style scoped>\n",
       "    .dataframe tbody tr th:only-of-type {\n",
       "        vertical-align: middle;\n",
       "    }\n",
       "\n",
       "    .dataframe tbody tr th {\n",
       "        vertical-align: top;\n",
       "    }\n",
       "\n",
       "    .dataframe thead th {\n",
       "        text-align: right;\n",
       "    }\n",
       "</style>\n",
       "<table border=\"1\" class=\"dataframe\">\n",
       "  <thead>\n",
       "    <tr style=\"text-align: right;\">\n",
       "      <th></th>\n",
       "      <th>Dropped</th>\n",
       "      <th>EngineeredFeatureCount</th>\n",
       "      <th>RawFeatureName</th>\n",
       "      <th>Transformations</th>\n",
       "      <th>TypeDetected</th>\n",
       "    </tr>\n",
       "  </thead>\n",
       "  <tbody>\n",
       "    <tr>\n",
       "      <th>0</th>\n",
       "      <td>No</td>\n",
       "      <td>2</td>\n",
       "      <td>temp</td>\n",
       "      <td>[MeanImputer, ImputationMarker]</td>\n",
       "      <td>Numeric</td>\n",
       "    </tr>\n",
       "    <tr>\n",
       "      <th>1</th>\n",
       "      <td>No</td>\n",
       "      <td>11</td>\n",
       "      <td>timestamp</td>\n",
       "      <td>[DateTimeTransformer, DateTimeTransformer, DateTimeTransformer, DateTimeTransformer, DateTimeTransformer, DateTimeTransformer, DateTimeTransformer, DateTimeTransformer, DateTimeTransformer, DateTimeTransformer, DateTimeTransformer]</td>\n",
       "      <td>DateTime</td>\n",
       "    </tr>\n",
       "  </tbody>\n",
       "</table>\n",
       "</div>"
      ],
      "text/plain": [
       "  Dropped  EngineeredFeatureCount RawFeatureName  \\\n",
       "0  No      2                       temp            \n",
       "1  No      11                      timestamp       \n",
       "\n",
       "                                                                                                                                                                                                                           Transformations  \\\n",
       "0  [MeanImputer, ImputationMarker]                                                                                                                                                                                                           \n",
       "1  [DateTimeTransformer, DateTimeTransformer, DateTimeTransformer, DateTimeTransformer, DateTimeTransformer, DateTimeTransformer, DateTimeTransformer, DateTimeTransformer, DateTimeTransformer, DateTimeTransformer, DateTimeTransformer]   \n",
       "\n",
       "  TypeDetected  \n",
       "0  Numeric      \n",
       "1  DateTime     "
      ]
     },
     "execution_count": 18,
     "metadata": {},
     "output_type": "execute_result"
    }
   ],
   "source": [
    "# Get the featurization summary as a list of JSON\n",
    "featurization_summary = fitted_model.named_steps['timeseriestransformer'].get_featurization_summary()\n",
    "# View the featurization summary as a pandas dataframe\n",
    "pd.DataFrame.from_records(featurization_summary)"
   ]
  },
  {
   "cell_type": "markdown",
   "metadata": {
    "slideshow": {
     "slide_type": "slide"
    }
   },
   "source": [
    "## Forecasting\n",
    "Now that we have retrieved the best pipeline/model, it can be used to make predictions on test data."
   ]
  },
  {
   "cell_type": "markdown",
   "metadata": {
    "slideshow": {
     "slide_type": "subslide"
    }
   },
   "source": [
    "### Forecast Function\n",
    "For forecasting, we will use the forecast function instead of the predict function. There are two reasons for this.\n",
    "\n",
    "We need to pass the recent values of the target variable y, whereas the scikit-compatible predict function only takes the non-target variables 'test'. In our case, the test data immediately follows the training data, and we fill the target variable with NaN. The NaN serves as a question mark for the forecaster to fill with the actuals. Using the forecast function will produce forecasts using the shortest possible forecast horizon. The last time at which a definite (non-NaN) value is seen is the forecast origin - the last time when the value of the target is known.\n",
    "\n",
    "Using the predict method would result in getting predictions for EVERY horizon the forecaster can predict at. This is useful when training and evaluating the performance of the forecaster at various horizons, but the level of detail is excessive for normal use."
   ]
  },
  {
   "cell_type": "code",
   "execution_count": 19,
   "metadata": {
    "slideshow": {
     "slide_type": "fragment"
    }
   },
   "outputs": [],
   "source": [
    "# First, we remove the target values from the test set:\n",
    "X_test = ds_test.copy()\n",
    "y_test = X_test.pop('load').values\n",
    "\n",
    "# The forecast origin will be at the beginning of the first forecast period.\n",
    "# (Which is the same time as the end of the last training period.)\n",
    "y_query = np.empty_like(y_test)\n",
    "y_query.fill(np.nan)\n",
    "\n",
    "# The featurized data, aligned to y, will also be returned.\n",
    "# This contains the assumptions that were made in the forecast\n",
    "# and helps align the forecast to the original data\n",
    "y_predictions, X_trans = fitted_model.forecast(X_test, y_query)"
   ]
  },
  {
   "cell_type": "markdown",
   "metadata": {
    "slideshow": {
     "slide_type": "subslide"
    }
   },
   "source": [
    "It is useful to look at how the inputs were transformed to create the predictions"
   ]
  },
  {
   "cell_type": "code",
   "execution_count": 20,
   "metadata": {
    "slideshow": {
     "slide_type": "-"
    }
   },
   "outputs": [
    {
     "data": {
      "text/html": [
       "<div>\n",
       "<style scoped>\n",
       "    .dataframe tbody tr th:only-of-type {\n",
       "        vertical-align: middle;\n",
       "    }\n",
       "\n",
       "    .dataframe tbody tr th {\n",
       "        vertical-align: top;\n",
       "    }\n",
       "\n",
       "    .dataframe thead th {\n",
       "        text-align: right;\n",
       "    }\n",
       "</style>\n",
       "<table border=\"1\" class=\"dataframe\">\n",
       "  <thead>\n",
       "    <tr style=\"text-align: right;\">\n",
       "      <th></th>\n",
       "      <th></th>\n",
       "      <th>temp</th>\n",
       "      <th>temp_WASNULL</th>\n",
       "      <th>year</th>\n",
       "      <th>half</th>\n",
       "      <th>quarter</th>\n",
       "      <th>month</th>\n",
       "      <th>day</th>\n",
       "      <th>hour</th>\n",
       "      <th>am_pm</th>\n",
       "      <th>hour12</th>\n",
       "      <th>wday</th>\n",
       "      <th>qday</th>\n",
       "      <th>week</th>\n",
       "      <th>_automl_target_col</th>\n",
       "    </tr>\n",
       "    <tr>\n",
       "      <th>timestamp</th>\n",
       "      <th>_automl_dummy_grain_col</th>\n",
       "      <th></th>\n",
       "      <th></th>\n",
       "      <th></th>\n",
       "      <th></th>\n",
       "      <th></th>\n",
       "      <th></th>\n",
       "      <th></th>\n",
       "      <th></th>\n",
       "      <th></th>\n",
       "      <th></th>\n",
       "      <th></th>\n",
       "      <th></th>\n",
       "      <th></th>\n",
       "      <th></th>\n",
       "    </tr>\n",
       "  </thead>\n",
       "  <tbody>\n",
       "    <tr>\n",
       "      <th>2014-11-01 00:00:00</th>\n",
       "      <th>_automl_dummy_grain_col</th>\n",
       "      <td>38.33</td>\n",
       "      <td>0</td>\n",
       "      <td>2014</td>\n",
       "      <td>2</td>\n",
       "      <td>4</td>\n",
       "      <td>11</td>\n",
       "      <td>1</td>\n",
       "      <td>0</td>\n",
       "      <td>0</td>\n",
       "      <td>0</td>\n",
       "      <td>5</td>\n",
       "      <td>32</td>\n",
       "      <td>44</td>\n",
       "      <td>2538.87</td>\n",
       "    </tr>\n",
       "    <tr>\n",
       "      <th>2014-11-01 01:00:00</th>\n",
       "      <th>_automl_dummy_grain_col</th>\n",
       "      <td>37.33</td>\n",
       "      <td>0</td>\n",
       "      <td>2014</td>\n",
       "      <td>2</td>\n",
       "      <td>4</td>\n",
       "      <td>11</td>\n",
       "      <td>1</td>\n",
       "      <td>1</td>\n",
       "      <td>0</td>\n",
       "      <td>1</td>\n",
       "      <td>5</td>\n",
       "      <td>32</td>\n",
       "      <td>44</td>\n",
       "      <td>2416.35</td>\n",
       "    </tr>\n",
       "    <tr>\n",
       "      <th>2014-11-01 02:00:00</th>\n",
       "      <th>_automl_dummy_grain_col</th>\n",
       "      <td>36.33</td>\n",
       "      <td>0</td>\n",
       "      <td>2014</td>\n",
       "      <td>2</td>\n",
       "      <td>4</td>\n",
       "      <td>11</td>\n",
       "      <td>1</td>\n",
       "      <td>2</td>\n",
       "      <td>0</td>\n",
       "      <td>2</td>\n",
       "      <td>5</td>\n",
       "      <td>32</td>\n",
       "      <td>44</td>\n",
       "      <td>2437.24</td>\n",
       "    </tr>\n",
       "    <tr>\n",
       "      <th>2014-11-01 03:00:00</th>\n",
       "      <th>_automl_dummy_grain_col</th>\n",
       "      <td>36.33</td>\n",
       "      <td>0</td>\n",
       "      <td>2014</td>\n",
       "      <td>2</td>\n",
       "      <td>4</td>\n",
       "      <td>11</td>\n",
       "      <td>1</td>\n",
       "      <td>3</td>\n",
       "      <td>0</td>\n",
       "      <td>3</td>\n",
       "      <td>5</td>\n",
       "      <td>32</td>\n",
       "      <td>44</td>\n",
       "      <td>2431.05</td>\n",
       "    </tr>\n",
       "    <tr>\n",
       "      <th>2014-11-01 04:00:00</th>\n",
       "      <th>_automl_dummy_grain_col</th>\n",
       "      <td>36.00</td>\n",
       "      <td>0</td>\n",
       "      <td>2014</td>\n",
       "      <td>2</td>\n",
       "      <td>4</td>\n",
       "      <td>11</td>\n",
       "      <td>1</td>\n",
       "      <td>4</td>\n",
       "      <td>0</td>\n",
       "      <td>4</td>\n",
       "      <td>5</td>\n",
       "      <td>32</td>\n",
       "      <td>44</td>\n",
       "      <td>2491.47</td>\n",
       "    </tr>\n",
       "  </tbody>\n",
       "</table>\n",
       "</div>"
      ],
      "text/plain": [
       "                                             temp  temp_WASNULL  year  half  \\\n",
       "timestamp           _automl_dummy_grain_col                                   \n",
       "2014-11-01 00:00:00 _automl_dummy_grain_col 38.33  0             2014  2      \n",
       "2014-11-01 01:00:00 _automl_dummy_grain_col 37.33  0             2014  2      \n",
       "2014-11-01 02:00:00 _automl_dummy_grain_col 36.33  0             2014  2      \n",
       "2014-11-01 03:00:00 _automl_dummy_grain_col 36.33  0             2014  2      \n",
       "2014-11-01 04:00:00 _automl_dummy_grain_col 36.00  0             2014  2      \n",
       "\n",
       "                                             quarter  month  day  hour  am_pm  \\\n",
       "timestamp           _automl_dummy_grain_col                                     \n",
       "2014-11-01 00:00:00 _automl_dummy_grain_col  4        11     1    0     0       \n",
       "2014-11-01 01:00:00 _automl_dummy_grain_col  4        11     1    1     0       \n",
       "2014-11-01 02:00:00 _automl_dummy_grain_col  4        11     1    2     0       \n",
       "2014-11-01 03:00:00 _automl_dummy_grain_col  4        11     1    3     0       \n",
       "2014-11-01 04:00:00 _automl_dummy_grain_col  4        11     1    4     0       \n",
       "\n",
       "                                             hour12  wday  qday  week  \\\n",
       "timestamp           _automl_dummy_grain_col                             \n",
       "2014-11-01 00:00:00 _automl_dummy_grain_col  0       5     32    44     \n",
       "2014-11-01 01:00:00 _automl_dummy_grain_col  1       5     32    44     \n",
       "2014-11-01 02:00:00 _automl_dummy_grain_col  2       5     32    44     \n",
       "2014-11-01 03:00:00 _automl_dummy_grain_col  3       5     32    44     \n",
       "2014-11-01 04:00:00 _automl_dummy_grain_col  4       5     32    44     \n",
       "\n",
       "                                             _automl_target_col  \n",
       "timestamp           _automl_dummy_grain_col                      \n",
       "2014-11-01 00:00:00 _automl_dummy_grain_col 2538.87              \n",
       "2014-11-01 01:00:00 _automl_dummy_grain_col 2416.35              \n",
       "2014-11-01 02:00:00 _automl_dummy_grain_col 2437.24              \n",
       "2014-11-01 03:00:00 _automl_dummy_grain_col 2431.05              \n",
       "2014-11-01 04:00:00 _automl_dummy_grain_col 2491.47              "
      ]
     },
     "execution_count": 20,
     "metadata": {},
     "output_type": "execute_result"
    }
   ],
   "source": [
    "X_trans.head()"
   ]
  },
  {
   "cell_type": "markdown",
   "metadata": {
    "slideshow": {
     "slide_type": "slide"
    }
   },
   "source": [
    "### Evaluate\n",
    "To evaluate the accuracy of the forecast, we'll compare against the actual load values using the mean absolute percentage error (MAPE) metric."
   ]
  },
  {
   "cell_type": "markdown",
   "metadata": {},
   "source": [
    "Collect the target and predictions in a dataset"
   ]
  },
  {
   "cell_type": "code",
   "execution_count": 21,
   "metadata": {},
   "outputs": [
    {
     "data": {
      "text/html": [
       "<div>\n",
       "<style scoped>\n",
       "    .dataframe tbody tr th:only-of-type {\n",
       "        vertical-align: middle;\n",
       "    }\n",
       "\n",
       "    .dataframe tbody tr th {\n",
       "        vertical-align: top;\n",
       "    }\n",
       "\n",
       "    .dataframe thead th {\n",
       "        text-align: right;\n",
       "    }\n",
       "</style>\n",
       "<table border=\"1\" class=\"dataframe\">\n",
       "  <thead>\n",
       "    <tr style=\"text-align: right;\">\n",
       "      <th></th>\n",
       "      <th>actual</th>\n",
       "      <th>temp</th>\n",
       "      <th>prediction</th>\n",
       "    </tr>\n",
       "  </thead>\n",
       "  <tbody>\n",
       "    <tr>\n",
       "      <th>2014-11-01 00:00:00</th>\n",
       "      <td>2514.00</td>\n",
       "      <td>38.33</td>\n",
       "      <td>2538.87</td>\n",
       "    </tr>\n",
       "    <tr>\n",
       "      <th>2014-11-01 01:00:00</th>\n",
       "      <td>2434.00</td>\n",
       "      <td>37.33</td>\n",
       "      <td>2416.35</td>\n",
       "    </tr>\n",
       "    <tr>\n",
       "      <th>2014-11-01 02:00:00</th>\n",
       "      <td>2390.00</td>\n",
       "      <td>36.33</td>\n",
       "      <td>2437.24</td>\n",
       "    </tr>\n",
       "    <tr>\n",
       "      <th>2014-11-01 03:00:00</th>\n",
       "      <td>2382.00</td>\n",
       "      <td>36.33</td>\n",
       "      <td>2431.05</td>\n",
       "    </tr>\n",
       "    <tr>\n",
       "      <th>2014-11-01 04:00:00</th>\n",
       "      <td>2419.00</td>\n",
       "      <td>36.00</td>\n",
       "      <td>2491.47</td>\n",
       "    </tr>\n",
       "  </tbody>\n",
       "</table>\n",
       "</div>"
      ],
      "text/plain": [
       "                     actual  temp  prediction\n",
       "2014-11-01 00:00:00 2514.00 38.33 2538.87    \n",
       "2014-11-01 01:00:00 2434.00 37.33 2416.35    \n",
       "2014-11-01 02:00:00 2390.00 36.33 2437.24    \n",
       "2014-11-01 03:00:00 2382.00 36.33 2431.05    \n",
       "2014-11-01 04:00:00 2419.00 36.00 2491.47    "
      ]
     },
     "execution_count": 21,
     "metadata": {},
     "output_type": "execute_result"
    }
   ],
   "source": [
    "eval_df = ds_test.copy().drop('timestamp', axis=1)\n",
    "eval_df['prediction'] = y_predictions\n",
    "eval_df.rename(columns={'load':'actual'}, inplace=True)\n",
    "eval_df.head()"
   ]
  },
  {
   "cell_type": "markdown",
   "metadata": {
    "slideshow": {
     "slide_type": "subslide"
    }
   },
   "source": [
    "Compute the mean absolute percentage error over all predictions"
   ]
  },
  {
   "cell_type": "code",
   "execution_count": 22,
   "metadata": {
    "slideshow": {
     "slide_type": "-"
    }
   },
   "outputs": [],
   "source": [
    "def mape(predictions, actuals):\n",
    "    \"\"\"Mean absolute percentage error\"\"\"\n",
    "    return ((predictions - actuals).abs() / actuals).mean()"
   ]
  },
  {
   "cell_type": "code",
   "execution_count": 23,
   "metadata": {
    "slideshow": {
     "slide_type": "-"
    }
   },
   "outputs": [
    {
     "name": "stdout",
     "output_type": "stream",
     "text": [
      "MAPE: 3.28%\n"
     ]
    }
   ],
   "source": [
    "print(\"MAPE: {:.2f}%\".format(100* mape(eval_df['prediction'], eval_df['actual'])))"
   ]
  },
  {
   "cell_type": "markdown",
   "metadata": {
    "slideshow": {
     "slide_type": "subslide"
    }
   },
   "source": [
    "Plot the predictions vs the actuals for the first week of the test set"
   ]
  },
  {
   "cell_type": "code",
   "execution_count": 24,
   "metadata": {},
   "outputs": [
    {
     "data": {
      "image/png": "[encoded data removed]",
      "text/plain": [
       "<Figure size 1080x576 with 1 Axes>"
      ]
     },
     "metadata": {
      "needs_background": "light"
     },
     "output_type": "display_data"
    }
   ],
   "source": [
    "eval_df[:'2014-11-08'] \\\n",
    "    .plot(y=['prediction', 'actual'], style=['r', 'b'], figsize=(15, 8))\n",
    "plt.xlabel('timestamp', fontsize=12)\n",
    "plt.ylabel('load', fontsize=12)\n",
    "plt.show()"
   ]
  },
  {
   "cell_type": "markdown",
   "metadata": {
    "slideshow": {
     "slide_type": "slide"
    }
   },
   "source": [
    "## Using lags and rolling window features\n",
    "Now we will configure the target lags, that is the previous values of the target variables, meaning the prediction is no longer horizon-less. We therefore must still specify the max_horizon that the model will learn to forecast. The `target_lags` keyword specifies how far back we will construct the lags of the target variable, and the `target_rolling_window_size` specifies the size of the rolling window over which we will generate the max, min and sum features.\n",
    "\n",
    "This notebook uses the blacklist_models parameter to exclude some models that take a longer time to train on this dataset. You can choose to remove models from the blacklist_models list but you may need to increase the iteration_timeout_minutes parameter value to get results."
   ]
  },
  {
   "cell_type": "code",
   "execution_count": 25,
   "metadata": {
    "slideshow": {
     "slide_type": "notes"
    }
   },
   "outputs": [],
   "source": [
    "# Instead of a separate validation set, we'll use cross_validation to train\n",
    "ds_train2 = energy[:test_start_dt].copy()"
   ]
  },
  {
   "cell_type": "code",
   "execution_count": 26,
   "metadata": {
    "slideshow": {
     "slide_type": "fragment"
    }
   },
   "outputs": [],
   "source": [
    "#These models are blacklisted for tutorial purposes, remove this for real use cases.                            \n",
    "blacklist_models = ['ElasticNet', 'ExtremeRandomTrees', 'GradientBoosting', 'XGBoostRegressor',\n",
    "                    'ExtremeRandomTrees', 'AutoArima']\n",
    "max_lag = 12\n",
    "\n",
    "automl_config = AutoMLConfig(\n",
    "    # Data Parameters\n",
    "    training_data=ds_train2,\n",
    "    #validation_data=ds_valid,\n",
    "    time_column_name='timestamp',\n",
    "    label_column_name='load',\n",
    "    # Parameters for lags and window\n",
    "    target_lags=max_lag,\n",
    "    target_rolling_window_size=6,\n",
    "    # Forecasting Parameters\n",
    "    task='forecasting',\n",
    "    max_horizon=HORIZON,\n",
    "    primary_metric='normalized_root_mean_squared_error',\n",
    "    # AutoML Settings\n",
    "    n_cross_validations=5,\n",
    "    enable_early_stopping=True,\n",
    "    blacklist_models=blacklist_models,\n",
    "    experiment_timeout_minutes=10,\n",
    "    verbosity=logging.ERROR,\n",
    "    path=project_folder,\n",
    ")"
   ]
  },
  {
   "cell_type": "markdown",
   "metadata": {
    "slideshow": {
     "slide_type": "slide"
    }
   },
   "source": [
    "### Submit the job\n",
    "We now start a new remote run, this time with lag and rolling window featurization. AutoML applies featurizations in the setup stage, prior to iterating over ML models. The full training set is featurized first, followed by featurization of each of the CV splits. Lag and rolling window features introduce additional complexity, so the run will take longer than in the previous example that lacked these featurizations."
   ]
  },
  {
   "cell_type": "code",
   "execution_count": 27,
   "metadata": {
    "scrolled": false,
    "slideshow": {
     "slide_type": "fragment"
    }
   },
   "outputs": [
    {
     "name": "stdout",
     "output_type": "stream",
     "text": [
      "Running on local machine\n",
      "Parent Run ID: AutoML_314e15e3-a29a-422c-8896-f603c4097aac\n",
      "\n",
      "Current status: DatasetFeaturization. Beginning to featurize the dataset.\n",
      "Current status: DatasetFeaturizationCompleted. Completed featurizing the dataset.\n",
      "Current status: DatasetCrossValidationSplit. Generating CV splits.\n",
      "Current status: DatasetFeaturization. Beginning to featurize the CV split.\n",
      "Current status: DatasetFeaturizationCompleted. Completed featurizing the CV split.\n",
      "Current status: DatasetFeaturization. Beginning to featurize the CV split.\n",
      "Current status: DatasetFeaturizationCompleted. Completed featurizing the CV split.\n",
      "Current status: DatasetFeaturization. Beginning to featurize the CV split.\n",
      "Current status: DatasetFeaturizationCompleted. Completed featurizing the CV split.\n",
      "Current status: DatasetFeaturization. Beginning to featurize the CV split.\n",
      "Current status: DatasetFeaturizationCompleted. Completed featurizing the CV split.\n",
      "Current status: DatasetFeaturization. Beginning to featurize the CV split.\n",
      "Current status: DatasetFeaturizationCompleted. Completed featurizing the CV split.\n",
      "\n",
      "****************************************************************************************************\n",
      "DATA GUARDRAILS SUMMARY:\n",
      "For more details, use API: run.get_guardrails()\n",
      "\n",
      "TYPE:         Memory Issues Detection\n",
      "STATUS:       PASSED\n",
      "DESCRIPTION:  The selected horizon, lag and rolling window values were analyzed, and no potential memory issues were detected.\n",
      "\n",
      "****************************************************************************************************\n",
      "Current status: ModelSelection. Beginning model selection.\n",
      "\n",
      "****************************************************************************************************\n",
      "ITERATION: The iteration being evaluated.\n",
      "PIPELINE: A summary description of the pipeline being evaluated.\n",
      "DURATION: Time taken for the current iteration.\n",
      "METRIC: The result of computing score on the fitted pipeline.\n",
      "BEST: The best observed score thus far.\n",
      "****************************************************************************************************\n",
      "\n",
      " ITERATION   PIPELINE                                       DURATION      METRIC      BEST\n",
      "         0   StandardScalerWrapper RandomForest             0:00:24       0.0220    0.0220\n",
      "         1   StandardScalerWrapper LightGBM                 0:00:20       0.0570    0.0220\n",
      "         2   StandardScalerWrapper LassoLars                0:00:20       0.0614    0.0220\n",
      "         3   MinMaxScaler DecisionTree                      0:00:20       0.0528    0.0220\n",
      "         4   MaxAbsScaler RandomForest                      0:00:22       0.0247    0.0220\n",
      "         5   MaxAbsScaler DecisionTree                      0:00:19       0.0406    0.0220\n",
      "         6   MinMaxScaler DecisionTree                      0:00:19       0.0567    0.0220\n",
      "         7   StandardScalerWrapper DecisionTree             0:00:20       0.0257    0.0220\n",
      "         8   MaxAbsScaler DecisionTree                      0:00:21       0.0323    0.0220\n",
      "         9   StandardScalerWrapper LightGBM                 0:00:23       0.0313    0.0220\n",
      "        10   MinMaxScaler DecisionTree                      0:00:22       0.0550    0.0220\n",
      "        11   MaxAbsScaler SGD                               0:00:20       0.0934    0.0220\n",
      "        12   StandardScalerWrapper RandomForest             0:00:23       0.0355    0.0220\n",
      "        13   MinMaxScaler DecisionTree                      0:00:21       0.0245    0.0220\n",
      "        14   MinMaxScaler DecisionTree                      0:00:20       0.0220    0.0220\n",
      "        15   MaxAbsScaler LightGBM                          0:00:24       0.0317    0.0220\n",
      "        16   SparseNormalizer RandomForest                  0:01:44       0.0305    0.0220\n",
      "        17   MaxAbsScaler RandomForest                      0:00:37       0.0435    0.0220\n",
      "        18   MaxAbsScaler RandomForest                      0:00:23       0.0479    0.0220\n",
      "        19   MaxAbsScaler RandomForest                      0:00:33       0.0381    0.0220\n",
      "        20   SparseNormalizer DecisionTree                  0:00:21       0.0356    0.0220\n",
      "        21   StandardScalerWrapper RandomForest             0:00:31       0.0277    0.0220\n",
      "        22   VotingEnsemble                                 0:00:37       0.0072    0.0072\n",
      "        23   StackEnsemble                                  0:00:41       0.0096    0.0072\n",
      "Stopping criteria reached at iteration 23. Ending experiment.\n",
      "CPU times: user 1min 2s, sys: 9.87 s, total: 1min 12s\n",
      "Wall time: 11min 49s\n"
     ]
    }
   ],
   "source": [
    "%%time\n",
    "\n",
    "run = experiment.submit(automl_config, show_output=True)"
   ]
  },
  {
   "cell_type": "markdown",
   "metadata": {
    "slideshow": {
     "slide_type": "subslide"
    }
   },
   "source": [
    "The `run` object contains a link to the experiment in the AzureML Workspace."
   ]
  },
  {
   "cell_type": "code",
   "execution_count": 28,
   "metadata": {},
   "outputs": [
    {
     "data": {
      "text/html": [
       "<table style=\"width:100%\"><tr><th>Experiment</th><th>Id</th><th>Type</th><th>Status</th><th>Details Page</th><th>Docs Page</th></tr><tr><td>automl-forecasting-GEFCom2014</td><td>AutoML_314e15e3-a29a-422c-8896-f603c4097aac</td><td>automl</td><td>Completed</td><td><a href=\"https://ml.azure.com/experiments/automl-forecasting-GEFCom2014/runs/AutoML_314e15e3-a29a-422c-8896-f603c4097aac?wsid=/subscriptions/6fa1b60b-c4be-4966-a446-261a3ad62d42/resourcegroups/AML2/workspaces/AML2\" target=\"_blank\" rel=\"noopener\">Link to Azure Machine Learning studio</a></td><td><a href=\"https://docs.microsoft.com/en-us/python/api/overview/azure/ml/intro?view=azure-ml-py\" target=\"_blank\" rel=\"noopener\">Link to Documentation</a></td></tr></table>"
      ],
      "text/plain": [
       "Run(Experiment: automl-forecasting-GEFCom2014,\n",
       "Id: AutoML_314e15e3-a29a-422c-8896-f603c4097aac,\n",
       "Type: automl,\n",
       "Status: Completed)"
      ]
     },
     "execution_count": 28,
     "metadata": {},
     "output_type": "execute_result"
    }
   ],
   "source": [
    "run"
   ]
  },
  {
   "cell_type": "markdown",
   "metadata": {
    "slideshow": {
     "slide_type": "slide"
    }
   },
   "source": [
    "### Retrieve the Best Model\n",
    "Below we select the best model from all the training iterations using the `get_output` method."
   ]
  },
  {
   "cell_type": "code",
   "execution_count": 29,
   "metadata": {
    "slideshow": {
     "slide_type": "fragment"
    }
   },
   "outputs": [
    {
     "data": {
      "text/plain": [
       "[('timeseriestransformer', TimeSeriesTransformer(logger=None,\n",
       "             pipeline_type=<TimeSeriesPipelineType.FULL: 1>)),\n",
       " ('prefittedsoftvotingregressor',\n",
       "  PreFittedSoftVotingRegressor(estimators=[('14', Pipeline(memory=None,\n",
       "       steps=[('minmaxscaler', MinMaxScaler(copy=True, feature_range=(0, 1))), ('decisiontreeregressor', DecisionTreeRegressor(criterion='mse', max_depth=None, max_features=0.6,\n",
       "             max_leaf_nodes=None, min_impurity_decrease=0.0,\n",
       "             min_impurity_...True,\n",
       "           subsample=0.65, subsample_for_bin=200000, subsample_freq=1,\n",
       "           verbose=-1))]))],\n",
       "                 flatten_transform=None,\n",
       "                 weights=[0.4666666666666667, 0.06666666666666667, 0.13333333333333333, 0.3333333333333333]))]"
      ]
     },
     "execution_count": 29,
     "metadata": {},
     "output_type": "execute_result"
    }
   ],
   "source": [
    "best_run, fitted_model = run.get_output()\n",
    "fitted_model.steps"
   ]
  },
  {
   "cell_type": "markdown",
   "metadata": {
    "slideshow": {
     "slide_type": "slide"
    }
   },
   "source": [
    "## Analysis\n",
    "Below we take a look at the model produced"
   ]
  },
  {
   "cell_type": "markdown",
   "metadata": {
    "slideshow": {
     "slide_type": "fragment"
    }
   },
   "source": [
    "### Featurization\n",
    "You can access the engineered feature names generated in time-series featurization"
   ]
  },
  {
   "cell_type": "code",
   "execution_count": 30,
   "metadata": {
    "slideshow": {
     "slide_type": "fragment"
    }
   },
   "outputs": [
    {
     "data": {
      "text/plain": [
       "['horizon_origin',\n",
       " 'temp',\n",
       " 'temp_WASNULL',\n",
       " '_automl_target_col_lag12H',\n",
       " '_automl_target_col_min_window6H',\n",
       " '_automl_target_col_max_window6H',\n",
       " '_automl_target_col_mean_window6H',\n",
       " 'year',\n",
       " 'half',\n",
       " 'quarter',\n",
       " 'month',\n",
       " 'day',\n",
       " 'hour',\n",
       " 'am_pm',\n",
       " 'hour12',\n",
       " 'wday',\n",
       " 'qday',\n",
       " 'week']"
      ]
     },
     "execution_count": 30,
     "metadata": {},
     "output_type": "execute_result"
    }
   ],
   "source": [
    "fitted_model.named_steps['timeseriestransformer'].get_engineered_feature_names()"
   ]
  },
  {
   "cell_type": "markdown",
   "metadata": {
    "slideshow": {
     "slide_type": "subslide"
    }
   },
   "source": [
    "### View featurization summary\n",
    "You can also see what featurization steps were performed on different raw features in the user data. For each raw feature in the user data, the following information is displayed:\n",
    "\n",
    "- Raw feature name\n",
    "- Number of engineered features formed out of this raw feature\n",
    "- Type detected\n",
    "- If feature was dropped\n",
    "- List of feature transformations for the raw feature"
   ]
  },
  {
   "cell_type": "code",
   "execution_count": 31,
   "metadata": {},
   "outputs": [
    {
     "data": {
      "text/html": [
       "<div>\n",
       "<style scoped>\n",
       "    .dataframe tbody tr th:only-of-type {\n",
       "        vertical-align: middle;\n",
       "    }\n",
       "\n",
       "    .dataframe tbody tr th {\n",
       "        vertical-align: top;\n",
       "    }\n",
       "\n",
       "    .dataframe thead th {\n",
       "        text-align: right;\n",
       "    }\n",
       "</style>\n",
       "<table border=\"1\" class=\"dataframe\">\n",
       "  <thead>\n",
       "    <tr style=\"text-align: right;\">\n",
       "      <th></th>\n",
       "      <th>Dropped</th>\n",
       "      <th>EngineeredFeatureCount</th>\n",
       "      <th>RawFeatureName</th>\n",
       "      <th>Transformations</th>\n",
       "      <th>TypeDetected</th>\n",
       "    </tr>\n",
       "  </thead>\n",
       "  <tbody>\n",
       "    <tr>\n",
       "      <th>0</th>\n",
       "      <td>No</td>\n",
       "      <td>12</td>\n",
       "      <td>timestamp</td>\n",
       "      <td>[MaxHorizonFeaturizer, DateTimeTransformer, DateTimeTransformer, DateTimeTransformer, DateTimeTransformer, DateTimeTransformer, DateTimeTransformer, DateTimeTransformer, DateTimeTransformer, DateTimeTransformer, DateTimeTransformer, DateTimeTransformer]</td>\n",
       "      <td>DateTime</td>\n",
       "    </tr>\n",
       "    <tr>\n",
       "      <th>1</th>\n",
       "      <td>No</td>\n",
       "      <td>2</td>\n",
       "      <td>temp</td>\n",
       "      <td>[MeanImputer, ImputationMarker]</td>\n",
       "      <td>Numeric</td>\n",
       "    </tr>\n",
       "    <tr>\n",
       "      <th>2</th>\n",
       "      <td>No</td>\n",
       "      <td>4</td>\n",
       "      <td>_automl_target_col</td>\n",
       "      <td>[Lag, minRollingWindow, maxRollingWindow, meanRollingWindow]</td>\n",
       "      <td>Numeric</td>\n",
       "    </tr>\n",
       "  </tbody>\n",
       "</table>\n",
       "</div>"
      ],
      "text/plain": [
       "  Dropped  EngineeredFeatureCount      RawFeatureName  \\\n",
       "0  No      12                      timestamp            \n",
       "1  No      2                       temp                 \n",
       "2  No      4                       _automl_target_col   \n",
       "\n",
       "                                                                                                                                                                                                                                                 Transformations  \\\n",
       "0  [MaxHorizonFeaturizer, DateTimeTransformer, DateTimeTransformer, DateTimeTransformer, DateTimeTransformer, DateTimeTransformer, DateTimeTransformer, DateTimeTransformer, DateTimeTransformer, DateTimeTransformer, DateTimeTransformer, DateTimeTransformer]   \n",
       "1  [MeanImputer, ImputationMarker]                                                                                                                                                                                                                                 \n",
       "2  [Lag, minRollingWindow, maxRollingWindow, meanRollingWindow]                                                                                                                                                                                                    \n",
       "\n",
       "  TypeDetected  \n",
       "0  DateTime     \n",
       "1  Numeric      \n",
       "2  Numeric      "
      ]
     },
     "execution_count": 31,
     "metadata": {},
     "output_type": "execute_result"
    }
   ],
   "source": [
    "# Get the featurization summary as a list of JSON\n",
    "featurization_summary = fitted_model.named_steps['timeseriestransformer'].get_featurization_summary()\n",
    "# View the featurization summary as a pandas dataframe\n",
    "pd.DataFrame.from_records(featurization_summary)"
   ]
  },
  {
   "cell_type": "markdown",
   "metadata": {
    "slideshow": {
     "slide_type": "slide"
    }
   },
   "source": [
    "## Forecasting\n",
    "Now that we have retrieved the best pipeline/model, it can be used to make predictions on test data."
   ]
  },
  {
   "cell_type": "markdown",
   "metadata": {
    "slideshow": {
     "slide_type": "subslide"
    }
   },
   "source": [
    "### Forecast Function\n",
    "For forecasting, we will use the forecast function instead of the predict function. There are two reasons for this.\n",
    "\n",
    "We need to pass the recent values of the target variable y, whereas the scikit-compatible predict function only takes the non-target variables 'test'. In our case, the test data immediately follows the training data, and we fill the target variable with NaN. The NaN serves as a question mark for the forecaster to fill with the actuals. Using the forecast function will produce forecasts using the shortest possible forecast horizon. The last time at which a definite (non-NaN) value is seen is the forecast origin - the last time when the value of the target is known.\n",
    "\n",
    "Since this model is needs the most recent 12 lag values to make predictions and we set the HORIZON to 1, we can only predict the 13th value in a single call, not the entire test set."
   ]
  },
  {
   "cell_type": "code",
   "execution_count": 32,
   "metadata": {},
   "outputs": [],
   "source": [
    "# First, we remove the target values from the test set:\n",
    "X_test = ds_test.iloc[:13].copy()\n",
    "y_test = X_test.pop('load').values\n",
    "\n",
    "# The forecast origin will be at the beginning of the first forecast period.\n",
    "# (Which is the same time as the end of the last training period.)\n",
    "y_query = y_test.copy()\n",
    "y_query[-1] = np.nan\n",
    "\n",
    "# The featurized data, aligned to y, will also be returned.\n",
    "# This contains the assumptions that were made in the forecast\n",
    "# and helps align the forecast to the original data\n",
    "y_predictions, X_trans = fitted_model.forecast(X_test, y_query)"
   ]
  },
  {
   "cell_type": "markdown",
   "metadata": {
    "slideshow": {
     "slide_type": "subslide"
    }
   },
   "source": [
    "It is useful to look at how the inputs were transformed to create the predictions"
   ]
  },
  {
   "cell_type": "code",
   "execution_count": 33,
   "metadata": {},
   "outputs": [
    {
     "data": {
      "text/html": [
       "<div>\n",
       "<style scoped>\n",
       "    .dataframe tbody tr th:only-of-type {\n",
       "        vertical-align: middle;\n",
       "    }\n",
       "\n",
       "    .dataframe tbody tr th {\n",
       "        vertical-align: top;\n",
       "    }\n",
       "\n",
       "    .dataframe thead th {\n",
       "        text-align: right;\n",
       "    }\n",
       "</style>\n",
       "<table border=\"1\" class=\"dataframe\">\n",
       "  <thead>\n",
       "    <tr style=\"text-align: right;\">\n",
       "      <th></th>\n",
       "      <th></th>\n",
       "      <th></th>\n",
       "      <th>horizon_origin</th>\n",
       "      <th>temp</th>\n",
       "      <th>temp_WASNULL</th>\n",
       "      <th>_automl_target_col_lag12H</th>\n",
       "      <th>_automl_target_col_min_window6H</th>\n",
       "      <th>_automl_target_col_max_window6H</th>\n",
       "      <th>_automl_target_col_mean_window6H</th>\n",
       "      <th>year</th>\n",
       "      <th>half</th>\n",
       "      <th>quarter</th>\n",
       "      <th>month</th>\n",
       "      <th>day</th>\n",
       "      <th>hour</th>\n",
       "      <th>am_pm</th>\n",
       "      <th>hour12</th>\n",
       "      <th>wday</th>\n",
       "      <th>qday</th>\n",
       "      <th>week</th>\n",
       "      <th>_automl_target_col</th>\n",
       "    </tr>\n",
       "    <tr>\n",
       "      <th>timestamp</th>\n",
       "      <th>_automl_dummy_grain_col</th>\n",
       "      <th>origin</th>\n",
       "      <th></th>\n",
       "      <th></th>\n",
       "      <th></th>\n",
       "      <th></th>\n",
       "      <th></th>\n",
       "      <th></th>\n",
       "      <th></th>\n",
       "      <th></th>\n",
       "      <th></th>\n",
       "      <th></th>\n",
       "      <th></th>\n",
       "      <th></th>\n",
       "      <th></th>\n",
       "      <th></th>\n",
       "      <th></th>\n",
       "      <th></th>\n",
       "      <th></th>\n",
       "      <th></th>\n",
       "      <th></th>\n",
       "    </tr>\n",
       "  </thead>\n",
       "  <tbody>\n",
       "    <tr>\n",
       "      <th>2014-11-01 00:00:00</th>\n",
       "      <th>_automl_dummy_grain_col</th>\n",
       "      <th>2014-10-31 23:00:00</th>\n",
       "      <td>1</td>\n",
       "      <td>38.33</td>\n",
       "      <td>0</td>\n",
       "      <td>3369.00</td>\n",
       "      <td>2664.00</td>\n",
       "      <td>3466.00</td>\n",
       "      <td>3142.50</td>\n",
       "      <td>2014</td>\n",
       "      <td>2</td>\n",
       "      <td>4</td>\n",
       "      <td>11</td>\n",
       "      <td>1</td>\n",
       "      <td>0</td>\n",
       "      <td>0</td>\n",
       "      <td>0</td>\n",
       "      <td>5</td>\n",
       "      <td>32</td>\n",
       "      <td>44</td>\n",
       "      <td>2514.00</td>\n",
       "    </tr>\n",
       "    <tr>\n",
       "      <th>2014-11-01 01:00:00</th>\n",
       "      <th>_automl_dummy_grain_col</th>\n",
       "      <th>2014-11-01 00:00:00</th>\n",
       "      <td>1</td>\n",
       "      <td>37.33</td>\n",
       "      <td>0</td>\n",
       "      <td>3342.00</td>\n",
       "      <td>2514.00</td>\n",
       "      <td>3374.00</td>\n",
       "      <td>2983.83</td>\n",
       "      <td>2014</td>\n",
       "      <td>2</td>\n",
       "      <td>4</td>\n",
       "      <td>11</td>\n",
       "      <td>1</td>\n",
       "      <td>1</td>\n",
       "      <td>0</td>\n",
       "      <td>1</td>\n",
       "      <td>5</td>\n",
       "      <td>32</td>\n",
       "      <td>44</td>\n",
       "      <td>2434.00</td>\n",
       "    </tr>\n",
       "    <tr>\n",
       "      <th>2014-11-01 02:00:00</th>\n",
       "      <th>_automl_dummy_grain_col</th>\n",
       "      <th>2014-11-01 01:00:00</th>\n",
       "      <td>1</td>\n",
       "      <td>36.33</td>\n",
       "      <td>0</td>\n",
       "      <td>3287.00</td>\n",
       "      <td>2434.00</td>\n",
       "      <td>3315.00</td>\n",
       "      <td>2827.17</td>\n",
       "      <td>2014</td>\n",
       "      <td>2</td>\n",
       "      <td>4</td>\n",
       "      <td>11</td>\n",
       "      <td>1</td>\n",
       "      <td>2</td>\n",
       "      <td>0</td>\n",
       "      <td>2</td>\n",
       "      <td>5</td>\n",
       "      <td>32</td>\n",
       "      <td>44</td>\n",
       "      <td>2390.00</td>\n",
       "    </tr>\n",
       "    <tr>\n",
       "      <th>2014-11-01 03:00:00</th>\n",
       "      <th>_automl_dummy_grain_col</th>\n",
       "      <th>2014-11-01 02:00:00</th>\n",
       "      <td>1</td>\n",
       "      <td>36.33</td>\n",
       "      <td>0</td>\n",
       "      <td>3293.00</td>\n",
       "      <td>2390.00</td>\n",
       "      <td>3142.00</td>\n",
       "      <td>2673.00</td>\n",
       "      <td>2014</td>\n",
       "      <td>2</td>\n",
       "      <td>4</td>\n",
       "      <td>11</td>\n",
       "      <td>1</td>\n",
       "      <td>3</td>\n",
       "      <td>0</td>\n",
       "      <td>3</td>\n",
       "      <td>5</td>\n",
       "      <td>32</td>\n",
       "      <td>44</td>\n",
       "      <td>2382.00</td>\n",
       "    </tr>\n",
       "    <tr>\n",
       "      <th>2014-11-01 04:00:00</th>\n",
       "      <th>_automl_dummy_grain_col</th>\n",
       "      <th>2014-11-01 03:00:00</th>\n",
       "      <td>1</td>\n",
       "      <td>36.00</td>\n",
       "      <td>0</td>\n",
       "      <td>3358.00</td>\n",
       "      <td>2382.00</td>\n",
       "      <td>2894.00</td>\n",
       "      <td>2546.33</td>\n",
       "      <td>2014</td>\n",
       "      <td>2</td>\n",
       "      <td>4</td>\n",
       "      <td>11</td>\n",
       "      <td>1</td>\n",
       "      <td>4</td>\n",
       "      <td>0</td>\n",
       "      <td>4</td>\n",
       "      <td>5</td>\n",
       "      <td>32</td>\n",
       "      <td>44</td>\n",
       "      <td>2419.00</td>\n",
       "    </tr>\n",
       "    <tr>\n",
       "      <th>2014-11-01 05:00:00</th>\n",
       "      <th>_automl_dummy_grain_col</th>\n",
       "      <th>2014-11-01 04:00:00</th>\n",
       "      <td>1</td>\n",
       "      <td>37.33</td>\n",
       "      <td>0</td>\n",
       "      <td>3437.00</td>\n",
       "      <td>2382.00</td>\n",
       "      <td>2664.00</td>\n",
       "      <td>2467.17</td>\n",
       "      <td>2014</td>\n",
       "      <td>2</td>\n",
       "      <td>4</td>\n",
       "      <td>11</td>\n",
       "      <td>1</td>\n",
       "      <td>5</td>\n",
       "      <td>0</td>\n",
       "      <td>5</td>\n",
       "      <td>5</td>\n",
       "      <td>32</td>\n",
       "      <td>44</td>\n",
       "      <td>2520.00</td>\n",
       "    </tr>\n",
       "    <tr>\n",
       "      <th>2014-11-01 06:00:00</th>\n",
       "      <th>_automl_dummy_grain_col</th>\n",
       "      <th>2014-11-01 05:00:00</th>\n",
       "      <td>1</td>\n",
       "      <td>37.33</td>\n",
       "      <td>0</td>\n",
       "      <td>3466.00</td>\n",
       "      <td>2382.00</td>\n",
       "      <td>2520.00</td>\n",
       "      <td>2443.17</td>\n",
       "      <td>2014</td>\n",
       "      <td>2</td>\n",
       "      <td>4</td>\n",
       "      <td>11</td>\n",
       "      <td>1</td>\n",
       "      <td>6</td>\n",
       "      <td>0</td>\n",
       "      <td>6</td>\n",
       "      <td>5</td>\n",
       "      <td>32</td>\n",
       "      <td>44</td>\n",
       "      <td>2714.00</td>\n",
       "    </tr>\n",
       "    <tr>\n",
       "      <th>2014-11-01 07:00:00</th>\n",
       "      <th>_automl_dummy_grain_col</th>\n",
       "      <th>2014-11-01 06:00:00</th>\n",
       "      <td>1</td>\n",
       "      <td>38.33</td>\n",
       "      <td>0</td>\n",
       "      <td>3374.00</td>\n",
       "      <td>2382.00</td>\n",
       "      <td>2714.00</td>\n",
       "      <td>2476.50</td>\n",
       "      <td>2014</td>\n",
       "      <td>2</td>\n",
       "      <td>4</td>\n",
       "      <td>11</td>\n",
       "      <td>1</td>\n",
       "      <td>7</td>\n",
       "      <td>0</td>\n",
       "      <td>7</td>\n",
       "      <td>5</td>\n",
       "      <td>32</td>\n",
       "      <td>44</td>\n",
       "      <td>2970.00</td>\n",
       "    </tr>\n",
       "    <tr>\n",
       "      <th>2014-11-01 08:00:00</th>\n",
       "      <th>_automl_dummy_grain_col</th>\n",
       "      <th>2014-11-01 07:00:00</th>\n",
       "      <td>1</td>\n",
       "      <td>39.00</td>\n",
       "      <td>0</td>\n",
       "      <td>3315.00</td>\n",
       "      <td>2382.00</td>\n",
       "      <td>2970.00</td>\n",
       "      <td>2565.83</td>\n",
       "      <td>2014</td>\n",
       "      <td>2</td>\n",
       "      <td>4</td>\n",
       "      <td>11</td>\n",
       "      <td>1</td>\n",
       "      <td>8</td>\n",
       "      <td>0</td>\n",
       "      <td>8</td>\n",
       "      <td>5</td>\n",
       "      <td>32</td>\n",
       "      <td>44</td>\n",
       "      <td>3189.00</td>\n",
       "    </tr>\n",
       "    <tr>\n",
       "      <th>2014-11-01 09:00:00</th>\n",
       "      <th>_automl_dummy_grain_col</th>\n",
       "      <th>2014-11-01 08:00:00</th>\n",
       "      <td>1</td>\n",
       "      <td>41.33</td>\n",
       "      <td>0</td>\n",
       "      <td>3142.00</td>\n",
       "      <td>2382.00</td>\n",
       "      <td>3189.00</td>\n",
       "      <td>2699.00</td>\n",
       "      <td>2014</td>\n",
       "      <td>2</td>\n",
       "      <td>4</td>\n",
       "      <td>11</td>\n",
       "      <td>1</td>\n",
       "      <td>9</td>\n",
       "      <td>0</td>\n",
       "      <td>9</td>\n",
       "      <td>5</td>\n",
       "      <td>32</td>\n",
       "      <td>44</td>\n",
       "      <td>3356.00</td>\n",
       "    </tr>\n",
       "    <tr>\n",
       "      <th>2014-11-01 10:00:00</th>\n",
       "      <th>_automl_dummy_grain_col</th>\n",
       "      <th>2014-11-01 09:00:00</th>\n",
       "      <td>1</td>\n",
       "      <td>43.00</td>\n",
       "      <td>0</td>\n",
       "      <td>2894.00</td>\n",
       "      <td>2419.00</td>\n",
       "      <td>3356.00</td>\n",
       "      <td>2861.33</td>\n",
       "      <td>2014</td>\n",
       "      <td>2</td>\n",
       "      <td>4</td>\n",
       "      <td>11</td>\n",
       "      <td>1</td>\n",
       "      <td>10</td>\n",
       "      <td>0</td>\n",
       "      <td>10</td>\n",
       "      <td>5</td>\n",
       "      <td>32</td>\n",
       "      <td>44</td>\n",
       "      <td>3436.00</td>\n",
       "    </tr>\n",
       "    <tr>\n",
       "      <th>2014-11-01 11:00:00</th>\n",
       "      <th>_automl_dummy_grain_col</th>\n",
       "      <th>2014-11-01 10:00:00</th>\n",
       "      <td>1</td>\n",
       "      <td>42.00</td>\n",
       "      <td>0</td>\n",
       "      <td>2664.00</td>\n",
       "      <td>2520.00</td>\n",
       "      <td>3436.00</td>\n",
       "      <td>3030.83</td>\n",
       "      <td>2014</td>\n",
       "      <td>2</td>\n",
       "      <td>4</td>\n",
       "      <td>11</td>\n",
       "      <td>1</td>\n",
       "      <td>11</td>\n",
       "      <td>0</td>\n",
       "      <td>11</td>\n",
       "      <td>5</td>\n",
       "      <td>32</td>\n",
       "      <td>44</td>\n",
       "      <td>3464.00</td>\n",
       "    </tr>\n",
       "    <tr>\n",
       "      <th>2014-11-01 12:00:00</th>\n",
       "      <th>_automl_dummy_grain_col</th>\n",
       "      <th>2014-11-01 11:00:00</th>\n",
       "      <td>1</td>\n",
       "      <td>42.33</td>\n",
       "      <td>0</td>\n",
       "      <td>2514.00</td>\n",
       "      <td>2714.00</td>\n",
       "      <td>3464.00</td>\n",
       "      <td>3188.17</td>\n",
       "      <td>2014</td>\n",
       "      <td>2</td>\n",
       "      <td>4</td>\n",
       "      <td>11</td>\n",
       "      <td>1</td>\n",
       "      <td>12</td>\n",
       "      <td>1</td>\n",
       "      <td>12</td>\n",
       "      <td>5</td>\n",
       "      <td>32</td>\n",
       "      <td>44</td>\n",
       "      <td>3455.25</td>\n",
       "    </tr>\n",
       "  </tbody>\n",
       "</table>\n",
       "</div>"
      ],
      "text/plain": [
       "                                                                 horizon_origin  \\\n",
       "timestamp           _automl_dummy_grain_col origin                                \n",
       "2014-11-01 00:00:00 _automl_dummy_grain_col 2014-10-31 23:00:00  1                \n",
       "2014-11-01 01:00:00 _automl_dummy_grain_col 2014-11-01 00:00:00  1                \n",
       "2014-11-01 02:00:00 _automl_dummy_grain_col 2014-11-01 01:00:00  1                \n",
       "2014-11-01 03:00:00 _automl_dummy_grain_col 2014-11-01 02:00:00  1                \n",
       "2014-11-01 04:00:00 _automl_dummy_grain_col 2014-11-01 03:00:00  1                \n",
       "2014-11-01 05:00:00 _automl_dummy_grain_col 2014-11-01 04:00:00  1                \n",
       "2014-11-01 06:00:00 _automl_dummy_grain_col 2014-11-01 05:00:00  1                \n",
       "2014-11-01 07:00:00 _automl_dummy_grain_col 2014-11-01 06:00:00  1                \n",
       "2014-11-01 08:00:00 _automl_dummy_grain_col 2014-11-01 07:00:00  1                \n",
       "2014-11-01 09:00:00 _automl_dummy_grain_col 2014-11-01 08:00:00  1                \n",
       "2014-11-01 10:00:00 _automl_dummy_grain_col 2014-11-01 09:00:00  1                \n",
       "2014-11-01 11:00:00 _automl_dummy_grain_col 2014-11-01 10:00:00  1                \n",
       "2014-11-01 12:00:00 _automl_dummy_grain_col 2014-11-01 11:00:00  1                \n",
       "\n",
       "                                                                 temp  \\\n",
       "timestamp           _automl_dummy_grain_col origin                      \n",
       "2014-11-01 00:00:00 _automl_dummy_grain_col 2014-10-31 23:00:00 38.33   \n",
       "2014-11-01 01:00:00 _automl_dummy_grain_col 2014-11-01 00:00:00 37.33   \n",
       "2014-11-01 02:00:00 _automl_dummy_grain_col 2014-11-01 01:00:00 36.33   \n",
       "2014-11-01 03:00:00 _automl_dummy_grain_col 2014-11-01 02:00:00 36.33   \n",
       "2014-11-01 04:00:00 _automl_dummy_grain_col 2014-11-01 03:00:00 36.00   \n",
       "2014-11-01 05:00:00 _automl_dummy_grain_col 2014-11-01 04:00:00 37.33   \n",
       "2014-11-01 06:00:00 _automl_dummy_grain_col 2014-11-01 05:00:00 37.33   \n",
       "2014-11-01 07:00:00 _automl_dummy_grain_col 2014-11-01 06:00:00 38.33   \n",
       "2014-11-01 08:00:00 _automl_dummy_grain_col 2014-11-01 07:00:00 39.00   \n",
       "2014-11-01 09:00:00 _automl_dummy_grain_col 2014-11-01 08:00:00 41.33   \n",
       "2014-11-01 10:00:00 _automl_dummy_grain_col 2014-11-01 09:00:00 43.00   \n",
       "2014-11-01 11:00:00 _automl_dummy_grain_col 2014-11-01 10:00:00 42.00   \n",
       "2014-11-01 12:00:00 _automl_dummy_grain_col 2014-11-01 11:00:00 42.33   \n",
       "\n",
       "                                                                 temp_WASNULL  \\\n",
       "timestamp           _automl_dummy_grain_col origin                              \n",
       "2014-11-01 00:00:00 _automl_dummy_grain_col 2014-10-31 23:00:00  0              \n",
       "2014-11-01 01:00:00 _automl_dummy_grain_col 2014-11-01 00:00:00  0              \n",
       "2014-11-01 02:00:00 _automl_dummy_grain_col 2014-11-01 01:00:00  0              \n",
       "2014-11-01 03:00:00 _automl_dummy_grain_col 2014-11-01 02:00:00  0              \n",
       "2014-11-01 04:00:00 _automl_dummy_grain_col 2014-11-01 03:00:00  0              \n",
       "2014-11-01 05:00:00 _automl_dummy_grain_col 2014-11-01 04:00:00  0              \n",
       "2014-11-01 06:00:00 _automl_dummy_grain_col 2014-11-01 05:00:00  0              \n",
       "2014-11-01 07:00:00 _automl_dummy_grain_col 2014-11-01 06:00:00  0              \n",
       "2014-11-01 08:00:00 _automl_dummy_grain_col 2014-11-01 07:00:00  0              \n",
       "2014-11-01 09:00:00 _automl_dummy_grain_col 2014-11-01 08:00:00  0              \n",
       "2014-11-01 10:00:00 _automl_dummy_grain_col 2014-11-01 09:00:00  0              \n",
       "2014-11-01 11:00:00 _automl_dummy_grain_col 2014-11-01 10:00:00  0              \n",
       "2014-11-01 12:00:00 _automl_dummy_grain_col 2014-11-01 11:00:00  0              \n",
       "\n",
       "                                                                 _automl_target_col_lag12H  \\\n",
       "timestamp           _automl_dummy_grain_col origin                                           \n",
       "2014-11-01 00:00:00 _automl_dummy_grain_col 2014-10-31 23:00:00 3369.00                      \n",
       "2014-11-01 01:00:00 _automl_dummy_grain_col 2014-11-01 00:00:00 3342.00                      \n",
       "2014-11-01 02:00:00 _automl_dummy_grain_col 2014-11-01 01:00:00 3287.00                      \n",
       "2014-11-01 03:00:00 _automl_dummy_grain_col 2014-11-01 02:00:00 3293.00                      \n",
       "2014-11-01 04:00:00 _automl_dummy_grain_col 2014-11-01 03:00:00 3358.00                      \n",
       "2014-11-01 05:00:00 _automl_dummy_grain_col 2014-11-01 04:00:00 3437.00                      \n",
       "2014-11-01 06:00:00 _automl_dummy_grain_col 2014-11-01 05:00:00 3466.00                      \n",
       "2014-11-01 07:00:00 _automl_dummy_grain_col 2014-11-01 06:00:00 3374.00                      \n",
       "2014-11-01 08:00:00 _automl_dummy_grain_col 2014-11-01 07:00:00 3315.00                      \n",
       "2014-11-01 09:00:00 _automl_dummy_grain_col 2014-11-01 08:00:00 3142.00                      \n",
       "2014-11-01 10:00:00 _automl_dummy_grain_col 2014-11-01 09:00:00 2894.00                      \n",
       "2014-11-01 11:00:00 _automl_dummy_grain_col 2014-11-01 10:00:00 2664.00                      \n",
       "2014-11-01 12:00:00 _automl_dummy_grain_col 2014-11-01 11:00:00 2514.00                      \n",
       "\n",
       "                                                                 _automl_target_col_min_window6H  \\\n",
       "timestamp           _automl_dummy_grain_col origin                                                 \n",
       "2014-11-01 00:00:00 _automl_dummy_grain_col 2014-10-31 23:00:00 2664.00                            \n",
       "2014-11-01 01:00:00 _automl_dummy_grain_col 2014-11-01 00:00:00 2514.00                            \n",
       "2014-11-01 02:00:00 _automl_dummy_grain_col 2014-11-01 01:00:00 2434.00                            \n",
       "2014-11-01 03:00:00 _automl_dummy_grain_col 2014-11-01 02:00:00 2390.00                            \n",
       "2014-11-01 04:00:00 _automl_dummy_grain_col 2014-11-01 03:00:00 2382.00                            \n",
       "2014-11-01 05:00:00 _automl_dummy_grain_col 2014-11-01 04:00:00 2382.00                            \n",
       "2014-11-01 06:00:00 _automl_dummy_grain_col 2014-11-01 05:00:00 2382.00                            \n",
       "2014-11-01 07:00:00 _automl_dummy_grain_col 2014-11-01 06:00:00 2382.00                            \n",
       "2014-11-01 08:00:00 _automl_dummy_grain_col 2014-11-01 07:00:00 2382.00                            \n",
       "2014-11-01 09:00:00 _automl_dummy_grain_col 2014-11-01 08:00:00 2382.00                            \n",
       "2014-11-01 10:00:00 _automl_dummy_grain_col 2014-11-01 09:00:00 2419.00                            \n",
       "2014-11-01 11:00:00 _automl_dummy_grain_col 2014-11-01 10:00:00 2520.00                            \n",
       "2014-11-01 12:00:00 _automl_dummy_grain_col 2014-11-01 11:00:00 2714.00                            \n",
       "\n",
       "                                                                 _automl_target_col_max_window6H  \\\n",
       "timestamp           _automl_dummy_grain_col origin                                                 \n",
       "2014-11-01 00:00:00 _automl_dummy_grain_col 2014-10-31 23:00:00 3466.00                            \n",
       "2014-11-01 01:00:00 _automl_dummy_grain_col 2014-11-01 00:00:00 3374.00                            \n",
       "2014-11-01 02:00:00 _automl_dummy_grain_col 2014-11-01 01:00:00 3315.00                            \n",
       "2014-11-01 03:00:00 _automl_dummy_grain_col 2014-11-01 02:00:00 3142.00                            \n",
       "2014-11-01 04:00:00 _automl_dummy_grain_col 2014-11-01 03:00:00 2894.00                            \n",
       "2014-11-01 05:00:00 _automl_dummy_grain_col 2014-11-01 04:00:00 2664.00                            \n",
       "2014-11-01 06:00:00 _automl_dummy_grain_col 2014-11-01 05:00:00 2520.00                            \n",
       "2014-11-01 07:00:00 _automl_dummy_grain_col 2014-11-01 06:00:00 2714.00                            \n",
       "2014-11-01 08:00:00 _automl_dummy_grain_col 2014-11-01 07:00:00 2970.00                            \n",
       "2014-11-01 09:00:00 _automl_dummy_grain_col 2014-11-01 08:00:00 3189.00                            \n",
       "2014-11-01 10:00:00 _automl_dummy_grain_col 2014-11-01 09:00:00 3356.00                            \n",
       "2014-11-01 11:00:00 _automl_dummy_grain_col 2014-11-01 10:00:00 3436.00                            \n",
       "2014-11-01 12:00:00 _automl_dummy_grain_col 2014-11-01 11:00:00 3464.00                            \n",
       "\n",
       "                                                                 _automl_target_col_mean_window6H  \\\n",
       "timestamp           _automl_dummy_grain_col origin                                                  \n",
       "2014-11-01 00:00:00 _automl_dummy_grain_col 2014-10-31 23:00:00 3142.50                             \n",
       "2014-11-01 01:00:00 _automl_dummy_grain_col 2014-11-01 00:00:00 2983.83                             \n",
       "2014-11-01 02:00:00 _automl_dummy_grain_col 2014-11-01 01:00:00 2827.17                             \n",
       "2014-11-01 03:00:00 _automl_dummy_grain_col 2014-11-01 02:00:00 2673.00                             \n",
       "2014-11-01 04:00:00 _automl_dummy_grain_col 2014-11-01 03:00:00 2546.33                             \n",
       "2014-11-01 05:00:00 _automl_dummy_grain_col 2014-11-01 04:00:00 2467.17                             \n",
       "2014-11-01 06:00:00 _automl_dummy_grain_col 2014-11-01 05:00:00 2443.17                             \n",
       "2014-11-01 07:00:00 _automl_dummy_grain_col 2014-11-01 06:00:00 2476.50                             \n",
       "2014-11-01 08:00:00 _automl_dummy_grain_col 2014-11-01 07:00:00 2565.83                             \n",
       "2014-11-01 09:00:00 _automl_dummy_grain_col 2014-11-01 08:00:00 2699.00                             \n",
       "2014-11-01 10:00:00 _automl_dummy_grain_col 2014-11-01 09:00:00 2861.33                             \n",
       "2014-11-01 11:00:00 _automl_dummy_grain_col 2014-11-01 10:00:00 3030.83                             \n",
       "2014-11-01 12:00:00 _automl_dummy_grain_col 2014-11-01 11:00:00 3188.17                             \n",
       "\n",
       "                                                                 year  half  \\\n",
       "timestamp           _automl_dummy_grain_col origin                            \n",
       "2014-11-01 00:00:00 _automl_dummy_grain_col 2014-10-31 23:00:00  2014  2      \n",
       "2014-11-01 01:00:00 _automl_dummy_grain_col 2014-11-01 00:00:00  2014  2      \n",
       "2014-11-01 02:00:00 _automl_dummy_grain_col 2014-11-01 01:00:00  2014  2      \n",
       "2014-11-01 03:00:00 _automl_dummy_grain_col 2014-11-01 02:00:00  2014  2      \n",
       "2014-11-01 04:00:00 _automl_dummy_grain_col 2014-11-01 03:00:00  2014  2      \n",
       "2014-11-01 05:00:00 _automl_dummy_grain_col 2014-11-01 04:00:00  2014  2      \n",
       "2014-11-01 06:00:00 _automl_dummy_grain_col 2014-11-01 05:00:00  2014  2      \n",
       "2014-11-01 07:00:00 _automl_dummy_grain_col 2014-11-01 06:00:00  2014  2      \n",
       "2014-11-01 08:00:00 _automl_dummy_grain_col 2014-11-01 07:00:00  2014  2      \n",
       "2014-11-01 09:00:00 _automl_dummy_grain_col 2014-11-01 08:00:00  2014  2      \n",
       "2014-11-01 10:00:00 _automl_dummy_grain_col 2014-11-01 09:00:00  2014  2      \n",
       "2014-11-01 11:00:00 _automl_dummy_grain_col 2014-11-01 10:00:00  2014  2      \n",
       "2014-11-01 12:00:00 _automl_dummy_grain_col 2014-11-01 11:00:00  2014  2      \n",
       "\n",
       "                                                                 quarter  \\\n",
       "timestamp           _automl_dummy_grain_col origin                         \n",
       "2014-11-01 00:00:00 _automl_dummy_grain_col 2014-10-31 23:00:00  4         \n",
       "2014-11-01 01:00:00 _automl_dummy_grain_col 2014-11-01 00:00:00  4         \n",
       "2014-11-01 02:00:00 _automl_dummy_grain_col 2014-11-01 01:00:00  4         \n",
       "2014-11-01 03:00:00 _automl_dummy_grain_col 2014-11-01 02:00:00  4         \n",
       "2014-11-01 04:00:00 _automl_dummy_grain_col 2014-11-01 03:00:00  4         \n",
       "2014-11-01 05:00:00 _automl_dummy_grain_col 2014-11-01 04:00:00  4         \n",
       "2014-11-01 06:00:00 _automl_dummy_grain_col 2014-11-01 05:00:00  4         \n",
       "2014-11-01 07:00:00 _automl_dummy_grain_col 2014-11-01 06:00:00  4         \n",
       "2014-11-01 08:00:00 _automl_dummy_grain_col 2014-11-01 07:00:00  4         \n",
       "2014-11-01 09:00:00 _automl_dummy_grain_col 2014-11-01 08:00:00  4         \n",
       "2014-11-01 10:00:00 _automl_dummy_grain_col 2014-11-01 09:00:00  4         \n",
       "2014-11-01 11:00:00 _automl_dummy_grain_col 2014-11-01 10:00:00  4         \n",
       "2014-11-01 12:00:00 _automl_dummy_grain_col 2014-11-01 11:00:00  4         \n",
       "\n",
       "                                                                 month  day  \\\n",
       "timestamp           _automl_dummy_grain_col origin                            \n",
       "2014-11-01 00:00:00 _automl_dummy_grain_col 2014-10-31 23:00:00  11     1     \n",
       "2014-11-01 01:00:00 _automl_dummy_grain_col 2014-11-01 00:00:00  11     1     \n",
       "2014-11-01 02:00:00 _automl_dummy_grain_col 2014-11-01 01:00:00  11     1     \n",
       "2014-11-01 03:00:00 _automl_dummy_grain_col 2014-11-01 02:00:00  11     1     \n",
       "2014-11-01 04:00:00 _automl_dummy_grain_col 2014-11-01 03:00:00  11     1     \n",
       "2014-11-01 05:00:00 _automl_dummy_grain_col 2014-11-01 04:00:00  11     1     \n",
       "2014-11-01 06:00:00 _automl_dummy_grain_col 2014-11-01 05:00:00  11     1     \n",
       "2014-11-01 07:00:00 _automl_dummy_grain_col 2014-11-01 06:00:00  11     1     \n",
       "2014-11-01 08:00:00 _automl_dummy_grain_col 2014-11-01 07:00:00  11     1     \n",
       "2014-11-01 09:00:00 _automl_dummy_grain_col 2014-11-01 08:00:00  11     1     \n",
       "2014-11-01 10:00:00 _automl_dummy_grain_col 2014-11-01 09:00:00  11     1     \n",
       "2014-11-01 11:00:00 _automl_dummy_grain_col 2014-11-01 10:00:00  11     1     \n",
       "2014-11-01 12:00:00 _automl_dummy_grain_col 2014-11-01 11:00:00  11     1     \n",
       "\n",
       "                                                                 hour  am_pm  \\\n",
       "timestamp           _automl_dummy_grain_col origin                             \n",
       "2014-11-01 00:00:00 _automl_dummy_grain_col 2014-10-31 23:00:00  0     0       \n",
       "2014-11-01 01:00:00 _automl_dummy_grain_col 2014-11-01 00:00:00  1     0       \n",
       "2014-11-01 02:00:00 _automl_dummy_grain_col 2014-11-01 01:00:00  2     0       \n",
       "2014-11-01 03:00:00 _automl_dummy_grain_col 2014-11-01 02:00:00  3     0       \n",
       "2014-11-01 04:00:00 _automl_dummy_grain_col 2014-11-01 03:00:00  4     0       \n",
       "2014-11-01 05:00:00 _automl_dummy_grain_col 2014-11-01 04:00:00  5     0       \n",
       "2014-11-01 06:00:00 _automl_dummy_grain_col 2014-11-01 05:00:00  6     0       \n",
       "2014-11-01 07:00:00 _automl_dummy_grain_col 2014-11-01 06:00:00  7     0       \n",
       "2014-11-01 08:00:00 _automl_dummy_grain_col 2014-11-01 07:00:00  8     0       \n",
       "2014-11-01 09:00:00 _automl_dummy_grain_col 2014-11-01 08:00:00  9     0       \n",
       "2014-11-01 10:00:00 _automl_dummy_grain_col 2014-11-01 09:00:00  10    0       \n",
       "2014-11-01 11:00:00 _automl_dummy_grain_col 2014-11-01 10:00:00  11    0       \n",
       "2014-11-01 12:00:00 _automl_dummy_grain_col 2014-11-01 11:00:00  12    1       \n",
       "\n",
       "                                                                 hour12  wday  \\\n",
       "timestamp           _automl_dummy_grain_col origin                              \n",
       "2014-11-01 00:00:00 _automl_dummy_grain_col 2014-10-31 23:00:00  0       5      \n",
       "2014-11-01 01:00:00 _automl_dummy_grain_col 2014-11-01 00:00:00  1       5      \n",
       "2014-11-01 02:00:00 _automl_dummy_grain_col 2014-11-01 01:00:00  2       5      \n",
       "2014-11-01 03:00:00 _automl_dummy_grain_col 2014-11-01 02:00:00  3       5      \n",
       "2014-11-01 04:00:00 _automl_dummy_grain_col 2014-11-01 03:00:00  4       5      \n",
       "2014-11-01 05:00:00 _automl_dummy_grain_col 2014-11-01 04:00:00  5       5      \n",
       "2014-11-01 06:00:00 _automl_dummy_grain_col 2014-11-01 05:00:00  6       5      \n",
       "2014-11-01 07:00:00 _automl_dummy_grain_col 2014-11-01 06:00:00  7       5      \n",
       "2014-11-01 08:00:00 _automl_dummy_grain_col 2014-11-01 07:00:00  8       5      \n",
       "2014-11-01 09:00:00 _automl_dummy_grain_col 2014-11-01 08:00:00  9       5      \n",
       "2014-11-01 10:00:00 _automl_dummy_grain_col 2014-11-01 09:00:00  10      5      \n",
       "2014-11-01 11:00:00 _automl_dummy_grain_col 2014-11-01 10:00:00  11      5      \n",
       "2014-11-01 12:00:00 _automl_dummy_grain_col 2014-11-01 11:00:00  12      5      \n",
       "\n",
       "                                                                 qday  week  \\\n",
       "timestamp           _automl_dummy_grain_col origin                            \n",
       "2014-11-01 00:00:00 _automl_dummy_grain_col 2014-10-31 23:00:00  32    44     \n",
       "2014-11-01 01:00:00 _automl_dummy_grain_col 2014-11-01 00:00:00  32    44     \n",
       "2014-11-01 02:00:00 _automl_dummy_grain_col 2014-11-01 01:00:00  32    44     \n",
       "2014-11-01 03:00:00 _automl_dummy_grain_col 2014-11-01 02:00:00  32    44     \n",
       "2014-11-01 04:00:00 _automl_dummy_grain_col 2014-11-01 03:00:00  32    44     \n",
       "2014-11-01 05:00:00 _automl_dummy_grain_col 2014-11-01 04:00:00  32    44     \n",
       "2014-11-01 06:00:00 _automl_dummy_grain_col 2014-11-01 05:00:00  32    44     \n",
       "2014-11-01 07:00:00 _automl_dummy_grain_col 2014-11-01 06:00:00  32    44     \n",
       "2014-11-01 08:00:00 _automl_dummy_grain_col 2014-11-01 07:00:00  32    44     \n",
       "2014-11-01 09:00:00 _automl_dummy_grain_col 2014-11-01 08:00:00  32    44     \n",
       "2014-11-01 10:00:00 _automl_dummy_grain_col 2014-11-01 09:00:00  32    44     \n",
       "2014-11-01 11:00:00 _automl_dummy_grain_col 2014-11-01 10:00:00  32    44     \n",
       "2014-11-01 12:00:00 _automl_dummy_grain_col 2014-11-01 11:00:00  32    44     \n",
       "\n",
       "                                                                 _automl_target_col  \n",
       "timestamp           _automl_dummy_grain_col origin                                   \n",
       "2014-11-01 00:00:00 _automl_dummy_grain_col 2014-10-31 23:00:00 2514.00              \n",
       "2014-11-01 01:00:00 _automl_dummy_grain_col 2014-11-01 00:00:00 2434.00              \n",
       "2014-11-01 02:00:00 _automl_dummy_grain_col 2014-11-01 01:00:00 2390.00              \n",
       "2014-11-01 03:00:00 _automl_dummy_grain_col 2014-11-01 02:00:00 2382.00              \n",
       "2014-11-01 04:00:00 _automl_dummy_grain_col 2014-11-01 03:00:00 2419.00              \n",
       "2014-11-01 05:00:00 _automl_dummy_grain_col 2014-11-01 04:00:00 2520.00              \n",
       "2014-11-01 06:00:00 _automl_dummy_grain_col 2014-11-01 05:00:00 2714.00              \n",
       "2014-11-01 07:00:00 _automl_dummy_grain_col 2014-11-01 06:00:00 2970.00              \n",
       "2014-11-01 08:00:00 _automl_dummy_grain_col 2014-11-01 07:00:00 3189.00              \n",
       "2014-11-01 09:00:00 _automl_dummy_grain_col 2014-11-01 08:00:00 3356.00              \n",
       "2014-11-01 10:00:00 _automl_dummy_grain_col 2014-11-01 09:00:00 3436.00              \n",
       "2014-11-01 11:00:00 _automl_dummy_grain_col 2014-11-01 10:00:00 3464.00              \n",
       "2014-11-01 12:00:00 _automl_dummy_grain_col 2014-11-01 11:00:00 3455.25              "
      ]
     },
     "execution_count": 33,
     "metadata": {},
     "output_type": "execute_result"
    }
   ],
   "source": [
    "X_trans"
   ]
  },
  {
   "cell_type": "markdown",
   "metadata": {
    "slideshow": {
     "slide_type": "slide"
    }
   },
   "source": [
    "### Rolling Forecast\n",
    "In order to predict the test set, we need to do a ***rolling forecast***. For each value we want to forecast, we need to send to the model a window of data covering at least as many historical values as the maximum lag of the target used (12 in this case). The AutoML model will cache the tail of the training sequence to allow lookback for making predictions for the period immediately following the training window, so for the first few predictions we can get away with providing fewer than 12 observations in the call to `predict`.\n",
    "\n",
    "This is not the most efficient manner to do rolling forecasts, but allows the model to be stateless. Making predictions for the test set takes an order of magnitude longer than for the simple regression model."
   ]
  },
  {
   "cell_type": "code",
   "execution_count": 34,
   "metadata": {
    "slideshow": {
     "slide_type": "skip"
    }
   },
   "outputs": [],
   "source": [
    "from common.progress_bar import update_progress"
   ]
  },
  {
   "cell_type": "code",
   "execution_count": 35,
   "metadata": {
    "slideshow": {
     "slide_type": "fragment"
    }
   },
   "outputs": [
    {
     "name": "stdout",
     "output_type": "stream",
     "text": [
      "Progress: [####################] 100.0%\n",
      "CPU times: user 4min 51s, sys: 6.4 s, total: 4min 57s\n",
      "Wall time: 4min 53s\n"
     ]
    }
   ],
   "source": [
    "%%time\n",
    "predict = np.empty(0)\n",
    "# for ix in range(max_lag, ds_test.shape[0]):\n",
    "for ix in range(0, ds_test.shape[0]):\n",
    "    # First, we remove the target values from the test set:\n",
    "    X_test = ds_test.iloc[max(0, ix-max_lag):ix+1].copy()\n",
    "    y_test = X_test.pop('load').values\n",
    "    # The forecast origin will be the second last item (forecast 1 forward)\n",
    "    y_query = y_test.copy()\n",
    "    y_query[-1] = np.nan\n",
    "    # predict\n",
    "    y_predictions, X_trans = fitted_model.forecast(X_test, y_query)\n",
    "    # save\n",
    "    predict = np.append(predict, y_predictions[-1])\n",
    "    # Progress update\n",
    "    if not ix%10:\n",
    "        update_progress(ix/ds_test.shape[0])\n",
    "update_progress(1)"
   ]
  },
  {
   "cell_type": "markdown",
   "metadata": {
    "slideshow": {
     "slide_type": "slide"
    }
   },
   "source": [
    "### Evaluate"
   ]
  },
  {
   "cell_type": "markdown",
   "metadata": {},
   "source": [
    "Collect the target and predictions in a dataset"
   ]
  },
  {
   "cell_type": "code",
   "execution_count": 36,
   "metadata": {
    "slideshow": {
     "slide_type": "fragment"
    }
   },
   "outputs": [
    {
     "data": {
      "text/html": [
       "<div>\n",
       "<style scoped>\n",
       "    .dataframe tbody tr th:only-of-type {\n",
       "        vertical-align: middle;\n",
       "    }\n",
       "\n",
       "    .dataframe tbody tr th {\n",
       "        vertical-align: top;\n",
       "    }\n",
       "\n",
       "    .dataframe thead th {\n",
       "        text-align: right;\n",
       "    }\n",
       "</style>\n",
       "<table border=\"1\" class=\"dataframe\">\n",
       "  <thead>\n",
       "    <tr style=\"text-align: right;\">\n",
       "      <th></th>\n",
       "      <th>actual</th>\n",
       "      <th>temp</th>\n",
       "      <th>prediction</th>\n",
       "    </tr>\n",
       "  </thead>\n",
       "  <tbody>\n",
       "    <tr>\n",
       "      <th>2014-11-01 00:00:00</th>\n",
       "      <td>2514.00</td>\n",
       "      <td>38.33</td>\n",
       "      <td>2554.32</td>\n",
       "    </tr>\n",
       "    <tr>\n",
       "      <th>2014-11-01 01:00:00</th>\n",
       "      <td>2434.00</td>\n",
       "      <td>37.33</td>\n",
       "      <td>2450.95</td>\n",
       "    </tr>\n",
       "    <tr>\n",
       "      <th>2014-11-01 02:00:00</th>\n",
       "      <td>2390.00</td>\n",
       "      <td>36.33</td>\n",
       "      <td>2420.73</td>\n",
       "    </tr>\n",
       "    <tr>\n",
       "      <th>2014-11-01 03:00:00</th>\n",
       "      <td>2382.00</td>\n",
       "      <td>36.33</td>\n",
       "      <td>2382.93</td>\n",
       "    </tr>\n",
       "    <tr>\n",
       "      <th>2014-11-01 04:00:00</th>\n",
       "      <td>2419.00</td>\n",
       "      <td>36.00</td>\n",
       "      <td>2386.18</td>\n",
       "    </tr>\n",
       "    <tr>\n",
       "      <th>2014-11-01 05:00:00</th>\n",
       "      <td>2520.00</td>\n",
       "      <td>37.33</td>\n",
       "      <td>2545.12</td>\n",
       "    </tr>\n",
       "    <tr>\n",
       "      <th>2014-11-01 06:00:00</th>\n",
       "      <td>2714.00</td>\n",
       "      <td>37.33</td>\n",
       "      <td>2750.57</td>\n",
       "    </tr>\n",
       "    <tr>\n",
       "      <th>2014-11-01 07:00:00</th>\n",
       "      <td>2970.00</td>\n",
       "      <td>38.33</td>\n",
       "      <td>2908.37</td>\n",
       "    </tr>\n",
       "    <tr>\n",
       "      <th>2014-11-01 08:00:00</th>\n",
       "      <td>3189.00</td>\n",
       "      <td>39.00</td>\n",
       "      <td>3118.41</td>\n",
       "    </tr>\n",
       "    <tr>\n",
       "      <th>2014-11-01 09:00:00</th>\n",
       "      <td>3356.00</td>\n",
       "      <td>41.33</td>\n",
       "      <td>3280.78</td>\n",
       "    </tr>\n",
       "    <tr>\n",
       "      <th>2014-11-01 10:00:00</th>\n",
       "      <td>3436.00</td>\n",
       "      <td>43.00</td>\n",
       "      <td>3318.37</td>\n",
       "    </tr>\n",
       "    <tr>\n",
       "      <th>2014-11-01 11:00:00</th>\n",
       "      <td>3464.00</td>\n",
       "      <td>42.00</td>\n",
       "      <td>3427.60</td>\n",
       "    </tr>\n",
       "    <tr>\n",
       "      <th>2014-11-01 12:00:00</th>\n",
       "      <td>3439.00</td>\n",
       "      <td>42.33</td>\n",
       "      <td>3455.25</td>\n",
       "    </tr>\n",
       "  </tbody>\n",
       "</table>\n",
       "</div>"
      ],
      "text/plain": [
       "                     actual  temp  prediction\n",
       "2014-11-01 00:00:00 2514.00 38.33 2554.32    \n",
       "2014-11-01 01:00:00 2434.00 37.33 2450.95    \n",
       "2014-11-01 02:00:00 2390.00 36.33 2420.73    \n",
       "2014-11-01 03:00:00 2382.00 36.33 2382.93    \n",
       "2014-11-01 04:00:00 2419.00 36.00 2386.18    \n",
       "2014-11-01 05:00:00 2520.00 37.33 2545.12    \n",
       "2014-11-01 06:00:00 2714.00 37.33 2750.57    \n",
       "2014-11-01 07:00:00 2970.00 38.33 2908.37    \n",
       "2014-11-01 08:00:00 3189.00 39.00 3118.41    \n",
       "2014-11-01 09:00:00 3356.00 41.33 3280.78    \n",
       "2014-11-01 10:00:00 3436.00 43.00 3318.37    \n",
       "2014-11-01 11:00:00 3464.00 42.00 3427.60    \n",
       "2014-11-01 12:00:00 3439.00 42.33 3455.25    "
      ]
     },
     "execution_count": 36,
     "metadata": {},
     "output_type": "execute_result"
    }
   ],
   "source": [
    "eval_df = ds_test.copy().drop('timestamp', axis=1)\n",
    "eval_df['prediction'] = predict\n",
    "eval_df.rename(columns={'load':'actual'}, inplace=True)\n",
    "eval_df.head(max_lag+1)"
   ]
  },
  {
   "cell_type": "markdown",
   "metadata": {
    "slideshow": {
     "slide_type": "subslide"
    }
   },
   "source": [
    "Compute the mean absolute percentage error over all predictions"
   ]
  },
  {
   "cell_type": "code",
   "execution_count": 37,
   "metadata": {},
   "outputs": [
    {
     "name": "stdout",
     "output_type": "stream",
     "text": [
      "MAPE: 2.61%\n"
     ]
    }
   ],
   "source": [
    "print(\"MAPE: {:.2f}%\".format(100* mape(eval_df['prediction'], eval_df['actual'])))"
   ]
  },
  {
   "cell_type": "markdown",
   "metadata": {
    "slideshow": {
     "slide_type": "subslide"
    }
   },
   "source": [
    "Plot the predictions vs the actuals for the first week of the test set"
   ]
  },
  {
   "cell_type": "code",
   "execution_count": 38,
   "metadata": {},
   "outputs": [
    {
     "data": {
      "image/png": "[encoded data removed]",
      "text/plain": [
       "<Figure size 1080x576 with 1 Axes>"
      ]
     },
     "metadata": {
      "needs_background": "light"
     },
     "output_type": "display_data"
    }
   ],
   "source": [
    "eval_df[:'2014-11-08'] \\\n",
    "    .plot(y=['prediction', 'actual'], style=['r', 'b'], figsize=(15, 8))\n",
    "plt.xlabel('timestamp', fontsize=12)\n",
    "plt.ylabel('load', fontsize=12)\n",
    "plt.show()"
   ]
  },
  {
   "cell_type": "code",
   "execution_count": null,
   "metadata": {},
   "outputs": [],
   "source": []
  }
 ],
 "metadata": {
  "kernelspec": {
   "display_name": "Python 3.6",
   "language": "python",
   "name": "dftf2"
  },
  "language_info": {
   "codemirror_mode": {
    "name": "ipython",
    "version": 3
   },
   "file_extension": ".py",
   "mimetype": "text/x-python",
   "name": "python",
   "nbconvert_exporter": "python",
   "pygments_lexer": "ipython3",
   "version": "3.6.9"
  }
 },
 "nbformat": 4,
 "nbformat_minor": 2
}
